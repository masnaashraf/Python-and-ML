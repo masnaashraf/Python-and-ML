{
  "nbformat": 4,
  "nbformat_minor": 0,
  "metadata": {
    "colab": {
      "provenance": [],
      "authorship_tag": "ABX9TyMhVGLcGsFUS5PPz7X3shwI",
      "include_colab_link": true
    },
    "kernelspec": {
      "name": "python3",
      "display_name": "Python 3"
    },
    "language_info": {
      "name": "python"
    }
  },
  "cells": [
    {
      "cell_type": "markdown",
      "metadata": {
        "id": "view-in-github",
        "colab_type": "text"
      },
      "source": [
        "<a href=\"https://colab.research.google.com/github/masnaashraf/Python-and-ML/blob/main/Numpy.ipynb\" target=\"_parent\"><img src=\"https://colab.research.google.com/assets/colab-badge.svg\" alt=\"Open In Colab\"/></a>"
      ]
    },
    {
      "cell_type": "code",
      "execution_count": null,
      "metadata": {
        "colab": {
          "base_uri": "https://localhost:8080/"
        },
        "id": "a1J83XgO--0d",
        "outputId": "f871bf93-5234-476b-9e5a-799cfa8fe274"
      },
      "outputs": [
        {
          "output_type": "stream",
          "name": "stdout",
          "text": [
            "[0, 1, 2, 3, 4, 5, 6, 7, 8, 9, 10, 11, 12, 13, 14, 15, 16, 17, 18, 19, 20, 21, 22, 23, 24, 25, 26, 27, 28, 29, 30, 31, 32, 33, 34, 35, 36, 37, 38, 39, 40, 41, 42, 43, 44, 45, 46, 47, 48, 49, 50, 51, 52, 53, 54, 55, 56, 57, 58, 59, 60, 61, 62, 63, 64, 65, 66, 67, 68, 69, 70, 71, 72, 73, 74, 75, 76, 77, 78, 79, 80, 81, 82, 83, 84, 85, 86, 87, 88, 89, 90, 91, 92, 93, 94, 95, 96, 97, 98, 99]\n"
          ]
        }
      ],
      "source": [
        "list1=[i for i in range(0,100)]\n",
        "print(list1)"
      ]
    },
    {
      "cell_type": "code",
      "source": [
        "import sys\n",
        "b=10\n",
        "print(sys.getsizeof(b))\n",
        "print(sys.getsizeof(b) * len(list1))"
      ],
      "metadata": {
        "colab": {
          "base_uri": "https://localhost:8080/"
        },
        "id": "Jf_wDk5xSFa7",
        "outputId": "ec62489d-4eff-464b-cc83-4fba9dd9acde"
      },
      "execution_count": null,
      "outputs": [
        {
          "output_type": "stream",
          "name": "stdout",
          "text": [
            "28\n",
            "2800\n"
          ]
        }
      ]
    },
    {
      "cell_type": "code",
      "source": [
        "import numpy as np\n",
        "np_arr=np.arange(0,100)\n",
        "print(np_arr)\n"
      ],
      "metadata": {
        "colab": {
          "base_uri": "https://localhost:8080/"
        },
        "id": "kUtJ8UyNRba_",
        "outputId": "8c06c783-62de-45ef-ae74-f496075179c4"
      },
      "execution_count": null,
      "outputs": [
        {
          "output_type": "stream",
          "name": "stdout",
          "text": [
            "[ 0  1  2  3  4  5  6  7  8  9 10 11 12 13 14 15 16 17 18 19 20 21 22 23\n",
            " 24 25 26 27 28 29 30 31 32 33 34 35 36 37 38 39 40 41 42 43 44 45 46 47\n",
            " 48 49 50 51 52 53 54 55 56 57 58 59 60 61 62 63 64 65 66 67 68 69 70 71\n",
            " 72 73 74 75 76 77 78 79 80 81 82 83 84 85 86 87 88 89 90 91 92 93 94 95\n",
            " 96 97 98 99]\n"
          ]
        }
      ]
    },
    {
      "cell_type": "code",
      "source": [
        "#item size of single element in the array\n",
        "print(np_arr.itemsize)"
      ],
      "metadata": {
        "colab": {
          "base_uri": "https://localhost:8080/"
        },
        "id": "MkvoXINXJGHi",
        "outputId": "ec475274-1a55-469d-d306-2b3e1fc2e99f"
      },
      "execution_count": null,
      "outputs": [
        {
          "output_type": "stream",
          "name": "stdout",
          "text": [
            "8\n"
          ]
        }
      ]
    },
    {
      "cell_type": "code",
      "source": [
        "#size of complete lements in the np array\n",
        "print(np_arr.itemsize*np_arr.size)"
      ],
      "metadata": {
        "colab": {
          "base_uri": "https://localhost:8080/"
        },
        "id": "A8XUxoVpR2nF",
        "outputId": "d2afcfae-c1db-4428-9985-c2e33732e3ee"
      },
      "execution_count": null,
      "outputs": [
        {
          "output_type": "stream",
          "name": "stdout",
          "text": [
            "800\n"
          ]
        }
      ]
    },
    {
      "cell_type": "markdown",
      "source": [
        "from above two example computation memeory taken by storing numbers 0 to 100 in list is 2800 and the memory used to store same elements using numpy is 800.\n",
        "that is why we can say that numpy is mopre powerfull than list"
      ],
      "metadata": {
        "id": "ojOf7oeVTDsi"
      }
    },
    {
      "cell_type": "markdown",
      "source": [
        "broadcasting in Numpy-"
      ],
      "metadata": {
        "id": "hydrl1aIOltM"
      }
    },
    {
      "cell_type": "code",
      "source": [
        "a=[1,2,3,4,5]\n",
        "b=np.array([1,2,3,4,5])\n",
        "print(f\"a is {type(a)},b is {type(b)}\")"
      ],
      "metadata": {
        "colab": {
          "base_uri": "https://localhost:8080/"
        },
        "id": "_Iss5lgzPoLb",
        "outputId": "c5da2288-0318-49a0-da9f-2953547a5a64"
      },
      "execution_count": null,
      "outputs": [
        {
          "output_type": "stream",
          "name": "stdout",
          "text": [
            "a is <class 'list'>,b is <class 'numpy.ndarray'>\n"
          ]
        }
      ]
    },
    {
      "cell_type": "code",
      "source": [
        "k=np.array(a)\n",
        "k"
      ],
      "metadata": {
        "colab": {
          "base_uri": "https://localhost:8080/"
        },
        "id": "pKBU1gyed25J",
        "outputId": "10b4afba-482c-4df7-a9d5-87a18863f14c"
      },
      "execution_count": null,
      "outputs": [
        {
          "output_type": "execute_result",
          "data": {
            "text/plain": [
              "array([1, 2, 3, 4, 5])"
            ]
          },
          "metadata": {},
          "execution_count": 41
        }
      ]
    },
    {
      "cell_type": "markdown",
      "source": [
        "type conversion not possible from higher data type to lower data type"
      ],
      "metadata": {
        "id": "fuG9ueoSU8A_"
      }
    },
    {
      "cell_type": "code",
      "source": [
        "a=[1,2,3,\"4\",5]\n",
        "l=np.array(a)   #array is converted to the higher order datatype\n",
        "print(l)"
      ],
      "metadata": {
        "colab": {
          "base_uri": "https://localhost:8080/"
        },
        "id": "MbqA1P5TeS3x",
        "outputId": "b9e8dd08-8fb4-4203-900c-db800a3ef6a0"
      },
      "execution_count": null,
      "outputs": [
        {
          "output_type": "stream",
          "name": "stdout",
          "text": [
            "['1' '2' '3' '4' '5']\n"
          ]
        }
      ]
    },
    {
      "cell_type": "code",
      "source": [
        "f=np.array(a,dtype=int)\n",
        "print(f)"
      ],
      "metadata": {
        "colab": {
          "base_uri": "https://localhost:8080/"
        },
        "id": "511LtYjbeo1F",
        "outputId": "8a0c7133-6b67-4a56-c341-96f3eb1c1729"
      },
      "execution_count": null,
      "outputs": [
        {
          "output_type": "stream",
          "name": "stdout",
          "text": [
            "[1 2 3 4 5]\n"
          ]
        }
      ]
    },
    {
      "cell_type": "code",
      "source": [
        "a=['1','2','3','4','5']\n",
        "h=np.array(a*3)\n",
        "print(h)"
      ],
      "metadata": {
        "colab": {
          "base_uri": "https://localhost:8080/"
        },
        "id": "K6PjLd8te2Uz",
        "outputId": "76c060a1-f9aa-490a-dec6-13fdb0846193"
      },
      "execution_count": null,
      "outputs": [
        {
          "output_type": "stream",
          "name": "stdout",
          "text": [
            "['1' '2' '3' '4' '5' '1' '2' '3' '4' '5' '1' '2' '3' '4' '5']\n"
          ]
        }
      ]
    },
    {
      "cell_type": "code",
      "source": [
        "import numpy as np\n",
        "a=['1','2','3','4','5']\n",
        "h=np.array(a , dtype=int)\n",
        "ans=h*3\n",
        "ans\n",
        "\n",
        "#when we try to execute the multiplication to a numpy array after creating it"
      ],
      "metadata": {
        "colab": {
          "base_uri": "https://localhost:8080/"
        },
        "id": "uDFVOupVad-D",
        "outputId": "2bdfc14a-04c2-4c76-ebda-ffbf6e19d9d7"
      },
      "execution_count": null,
      "outputs": [
        {
          "output_type": "execute_result",
          "data": {
            "text/plain": [
              "array([ 3,  6,  9, 12, 15])"
            ]
          },
          "metadata": {},
          "execution_count": 4
        }
      ]
    },
    {
      "cell_type": "markdown",
      "source": [],
      "metadata": {
        "id": "K21ZSF6af6n9"
      }
    },
    {
      "cell_type": "code",
      "source": [
        "c=np.array([1,1,1])\n",
        "print(c)"
      ],
      "metadata": {
        "colab": {
          "base_uri": "https://localhost:8080/"
        },
        "id": "-nhJLGNRRa5c",
        "outputId": "bfe1f819-54ef-4d45-a164-bcba7815ff8e"
      },
      "execution_count": null,
      "outputs": [
        {
          "output_type": "stream",
          "name": "stdout",
          "text": [
            "[1 1 1]\n"
          ]
        }
      ]
    },
    {
      "cell_type": "code",
      "source": [
        "#creating\n",
        "c=np.ones(3,dtype=int)\n",
        "c"
      ],
      "metadata": {
        "colab": {
          "base_uri": "https://localhost:8080/"
        },
        "id": "dlfD3VPVWmZc",
        "outputId": "e1860043-141d-4991-cb81-bee3209d3422"
      },
      "execution_count": null,
      "outputs": [
        {
          "output_type": "execute_result",
          "data": {
            "text/plain": [
              "array([1, 1, 1])"
            ]
          },
          "metadata": {},
          "execution_count": 22
        }
      ]
    },
    {
      "cell_type": "code",
      "source": [
        "#shape array\n",
        "c.shape \n",
        "#1 D array"
      ],
      "metadata": {
        "colab": {
          "base_uri": "https://localhost:8080/"
        },
        "id": "Npu3HDFKXIOS",
        "outputId": "e732a5e9-0b67-49bc-f3d2-60769c041804"
      },
      "execution_count": null,
      "outputs": [
        {
          "output_type": "execute_result",
          "data": {
            "text/plain": [
              "(3,)"
            ]
          },
          "metadata": {},
          "execution_count": 23
        }
      ]
    },
    {
      "cell_type": "code",
      "source": [
        "d=np.ones((3,3),dtype=int)\n",
        "d"
      ],
      "metadata": {
        "colab": {
          "base_uri": "https://localhost:8080/"
        },
        "id": "Ce7Js8lcXS2p",
        "outputId": "33aab991-8c7e-4a72-f340-69b3d0a70744"
      },
      "execution_count": null,
      "outputs": [
        {
          "output_type": "execute_result",
          "data": {
            "text/plain": [
              "array([[1, 1, 1],\n",
              "       [1, 1, 1],\n",
              "       [1, 1, 1]])"
            ]
          },
          "metadata": {},
          "execution_count": 24
        }
      ]
    },
    {
      "cell_type": "code",
      "source": [
        "d.shape"
      ],
      "metadata": {
        "colab": {
          "base_uri": "https://localhost:8080/"
        },
        "id": "9RIv4ISmXd35",
        "outputId": "ee67227c-a1ea-4c80-a6fd-0e67dcb8f640"
      },
      "execution_count": null,
      "outputs": [
        {
          "output_type": "execute_result",
          "data": {
            "text/plain": [
              "(3, 3)"
            ]
          },
          "metadata": {},
          "execution_count": 25
        }
      ]
    },
    {
      "cell_type": "code",
      "source": [
        "f=np.ones(9,dtype=int)\n",
        "f"
      ],
      "metadata": {
        "colab": {
          "base_uri": "https://localhost:8080/"
        },
        "id": "Lhp6GsTRXheF",
        "outputId": "61bde679-1a81-48da-dd04-1919fbb69ab0"
      },
      "execution_count": null,
      "outputs": [
        {
          "output_type": "execute_result",
          "data": {
            "text/plain": [
              "array([1, 1, 1, 1, 1, 1, 1, 1, 1])"
            ]
          },
          "metadata": {},
          "execution_count": 28
        }
      ]
    },
    {
      "cell_type": "code",
      "source": [
        "print(f.reshape(3,3))"
      ],
      "metadata": {
        "colab": {
          "base_uri": "https://localhost:8080/"
        },
        "id": "DTckB1XlXwd7",
        "outputId": "acc8001f-c3cb-4844-8948-5f529ad35c53"
      },
      "execution_count": null,
      "outputs": [
        {
          "output_type": "stream",
          "name": "stdout",
          "text": [
            "[[1 1 1]\n",
            " [1 1 1]\n",
            " [1 1 1]]\n"
          ]
        }
      ]
    },
    {
      "cell_type": "code",
      "source": [
        "e=np.zeros((3,3)) #dtype is float by default\n",
        "e"
      ],
      "metadata": {
        "colab": {
          "base_uri": "https://localhost:8080/"
        },
        "id": "Xz6MPfBNYkNG",
        "outputId": "6745b222-5480-4e46-89a7-4b3af62a0709"
      },
      "execution_count": null,
      "outputs": [
        {
          "output_type": "execute_result",
          "data": {
            "text/plain": [
              "array([[0., 0., 0.],\n",
              "       [0., 0., 0.],\n",
              "       [0., 0., 0.]])"
            ]
          },
          "metadata": {},
          "execution_count": 34
        }
      ]
    },
    {
      "cell_type": "code",
      "source": [
        "e=np.zeros((3,3),dtype=int)\n",
        "e"
      ],
      "metadata": {
        "colab": {
          "base_uri": "https://localhost:8080/"
        },
        "id": "oH_gH6RMafAi",
        "outputId": "64ab64fd-9079-4d35-dcb2-84f5768ce5ff"
      },
      "execution_count": null,
      "outputs": [
        {
          "output_type": "execute_result",
          "data": {
            "text/plain": [
              "array([[0, 0, 0],\n",
              "       [0, 0, 0],\n",
              "       [0, 0, 0]])"
            ]
          },
          "metadata": {},
          "execution_count": 35
        }
      ]
    },
    {
      "cell_type": "code",
      "source": [
        "b=np.full((3,3),4)\n",
        "b"
      ],
      "metadata": {
        "colab": {
          "base_uri": "https://localhost:8080/"
        },
        "id": "G7TCTep8apL5",
        "outputId": "679ed96c-2733-4380-d292-94665aa75e30"
      },
      "execution_count": null,
      "outputs": [
        {
          "output_type": "execute_result",
          "data": {
            "text/plain": [
              "array([[4, 4, 4],\n",
              "       [4, 4, 4],\n",
              "       [4, 4, 4]])"
            ]
          },
          "metadata": {},
          "execution_count": 36
        }
      ]
    },
    {
      "cell_type": "code",
      "source": [
        "b=np.full((3,3),4,dtype=float)\n",
        "b"
      ],
      "metadata": {
        "colab": {
          "base_uri": "https://localhost:8080/"
        },
        "id": "XFJ1My85ctfN",
        "outputId": "8b1d04f5-33f0-4441-fa05-a9016009960b"
      },
      "execution_count": null,
      "outputs": [
        {
          "output_type": "execute_result",
          "data": {
            "text/plain": [
              "array([[4., 4., 4.],\n",
              "       [4., 4., 4.],\n",
              "       [4., 4., 4.]])"
            ]
          },
          "metadata": {},
          "execution_count": 5
        }
      ]
    },
    {
      "cell_type": "code",
      "source": [
        "#single dimenstional array with 3 elemnts\n",
        "c=np.full((3,),4)\n",
        "c"
      ],
      "metadata": {
        "colab": {
          "base_uri": "https://localhost:8080/"
        },
        "id": "aUeRihWVayBz",
        "outputId": "b112f489-8cb5-4053-9558-87770f500453"
      },
      "execution_count": null,
      "outputs": [
        {
          "output_type": "execute_result",
          "data": {
            "text/plain": [
              "array([4, 4, 4])"
            ]
          },
          "metadata": {},
          "execution_count": 40
        }
      ]
    },
    {
      "cell_type": "code",
      "source": [
        "#printinting identity matrix of given dimension work only with square matrix like 2*2,#*3 etc.. not with 3*2\n",
        "b=np.identity(3)\n",
        "b"
      ],
      "metadata": {
        "colab": {
          "base_uri": "https://localhost:8080/"
        },
        "id": "qyyrQ95zc34-",
        "outputId": "8a49db62-ff83-40bb-818e-e524b17c9fd8"
      },
      "execution_count": null,
      "outputs": [
        {
          "output_type": "execute_result",
          "data": {
            "text/plain": [
              "array([[1., 0., 0.],\n",
              "       [0., 1., 0.],\n",
              "       [0., 0., 1.]])"
            ]
          },
          "metadata": {},
          "execution_count": 6
        }
      ]
    },
    {
      "cell_type": "code",
      "source": [
        "b=np.eye(3)\n",
        "b"
      ],
      "metadata": {
        "colab": {
          "base_uri": "https://localhost:8080/"
        },
        "id": "OtimYhJQdFGw",
        "outputId": "978a3bfd-8918-4712-96a2-d3b2aedc0a4b"
      },
      "execution_count": null,
      "outputs": [
        {
          "output_type": "execute_result",
          "data": {
            "text/plain": [
              "array([[1., 0., 0.],\n",
              "       [0., 1., 0.],\n",
              "       [0., 0., 1.]])"
            ]
          },
          "metadata": {},
          "execution_count": 8
        }
      ]
    },
    {
      "cell_type": "code",
      "source": [
        "#printinting identity matrix of given dimension\n",
        "b=np.eye(3,4)\n",
        "b"
      ],
      "metadata": {
        "colab": {
          "base_uri": "https://localhost:8080/"
        },
        "id": "mKUM8JR1jwj5",
        "outputId": "37f08034-34f3-409e-e139-0122290ac3bc"
      },
      "execution_count": null,
      "outputs": [
        {
          "output_type": "execute_result",
          "data": {
            "text/plain": [
              "array([[1., 0., 0., 0.],\n",
              "       [0., 1., 0., 0.],\n",
              "       [0., 0., 1., 0.]])"
            ]
          },
          "metadata": {},
          "execution_count": 10
        }
      ]
    },
    {
      "cell_type": "code",
      "source": [
        "#linspace\n",
        "#print from 2 to 10 with regular/same intervels\n",
        "b=np.linspace(2,10)\n",
        "b"
      ],
      "metadata": {
        "colab": {
          "base_uri": "https://localhost:8080/"
        },
        "id": "1mOT-Ldef8RZ",
        "outputId": "6af7fd1a-56a1-4ef6-8ac7-d40fac30ea24"
      },
      "execution_count": null,
      "outputs": [
        {
          "output_type": "execute_result",
          "data": {
            "text/plain": [
              "array([ 2.        ,  2.16326531,  2.32653061,  2.48979592,  2.65306122,\n",
              "        2.81632653,  2.97959184,  3.14285714,  3.30612245,  3.46938776,\n",
              "        3.63265306,  3.79591837,  3.95918367,  4.12244898,  4.28571429,\n",
              "        4.44897959,  4.6122449 ,  4.7755102 ,  4.93877551,  5.10204082,\n",
              "        5.26530612,  5.42857143,  5.59183673,  5.75510204,  5.91836735,\n",
              "        6.08163265,  6.24489796,  6.40816327,  6.57142857,  6.73469388,\n",
              "        6.89795918,  7.06122449,  7.2244898 ,  7.3877551 ,  7.55102041,\n",
              "        7.71428571,  7.87755102,  8.04081633,  8.20408163,  8.36734694,\n",
              "        8.53061224,  8.69387755,  8.85714286,  9.02040816,  9.18367347,\n",
              "        9.34693878,  9.51020408,  9.67346939,  9.83673469, 10.        ])"
            ]
          },
          "metadata": {},
          "execution_count": 48
        }
      ]
    },
    {
      "cell_type": "code",
      "source": [
        "#linspace\n",
        "b=np.linspace(2,10)\n",
        "b"
      ],
      "metadata": {
        "id": "i89ew4UrgrD1"
      },
      "execution_count": null,
      "outputs": []
    },
    {
      "cell_type": "code",
      "source": [
        "#creating random value [0,1) include 0 and excluding 1\n",
        "b=np.random.rand(3) # prints 3 random numbers between 0 and 1\n",
        "b"
      ],
      "metadata": {
        "colab": {
          "base_uri": "https://localhost:8080/"
        },
        "id": "7c6uhJVxiW9J",
        "outputId": "9363a7e0-6cdc-491a-99a3-6028ed11d043"
      },
      "execution_count": null,
      "outputs": [
        {
          "output_type": "execute_result",
          "data": {
            "text/plain": [
              "array([0.03332586, 0.73421088, 0.43638514])"
            ]
          },
          "metadata": {},
          "execution_count": 49
        }
      ]
    },
    {
      "cell_type": "code",
      "source": [
        "#each random number will be multiplied by 3\n",
        "b=np.random.rand(3)*3\n",
        "b"
      ],
      "metadata": {
        "colab": {
          "base_uri": "https://localhost:8080/"
        },
        "id": "ZEinfa1Zip53",
        "outputId": "43c4fd4c-b49e-4bd4-8945-19459f938376"
      },
      "execution_count": null,
      "outputs": [
        {
          "output_type": "execute_result",
          "data": {
            "text/plain": [
              "array([0.54658787, 0.60502136, 0.40704964])"
            ]
          },
          "metadata": {},
          "execution_count": 50
        }
      ]
    },
    {
      "cell_type": "code",
      "source": [
        "c=np.random.rand(4)\n",
        "c"
      ],
      "metadata": {
        "colab": {
          "base_uri": "https://localhost:8080/"
        },
        "id": "Khagnhe5jFVH",
        "outputId": "a5c86b70-bd8e-4718-e4d4-7c4afac46e80"
      },
      "execution_count": null,
      "outputs": [
        {
          "output_type": "execute_result",
          "data": {
            "text/plain": [
              "array([0.13085833, 0.39251952, 0.6762316 , 0.1632493 ])"
            ]
          },
          "metadata": {},
          "execution_count": 51
        }
      ]
    },
    {
      "cell_type": "code",
      "source": [
        "#random number in 3*2 matrix\n",
        "f=np.random.rand(3,2)\n",
        "f"
      ],
      "metadata": {
        "colab": {
          "base_uri": "https://localhost:8080/"
        },
        "id": "2ebm2Gb6jLgT",
        "outputId": "e831511e-472e-4877-9eb4-d73d9f80aeff"
      },
      "execution_count": null,
      "outputs": [
        {
          "output_type": "execute_result",
          "data": {
            "text/plain": [
              "array([[0.83714641, 0.68493839],\n",
              "       [0.50153561, 0.01395511],\n",
              "       [0.70199606, 0.67080607]])"
            ]
          },
          "metadata": {},
          "execution_count": 52
        }
      ]
    },
    {
      "cell_type": "code",
      "source": [
        "g=np.random.random(3)\n",
        "g"
      ],
      "metadata": {
        "colab": {
          "base_uri": "https://localhost:8080/"
        },
        "id": "lZcJD3RnjaNu",
        "outputId": "9646195b-b71f-4870-90c6-3f72cb3eb41a"
      },
      "execution_count": null,
      "outputs": [
        {
          "output_type": "execute_result",
          "data": {
            "text/plain": [
              "array([0.84942822, 0.25147083, 0.35758937])"
            ]
          },
          "metadata": {},
          "execution_count": 54
        }
      ]
    },
    {
      "cell_type": "code",
      "source": [
        "g=np.random.random(3,2)#THIS DOESNT WORK WITH  multidimensional ARRAY\n",
        "g"
      ],
      "metadata": {
        "id": "YuzIzj6rj-uw"
      },
      "execution_count": null,
      "outputs": []
    },
    {
      "cell_type": "markdown",
      "source": [],
      "metadata": {
        "id": "yHJbB4gak_4e"
      }
    },
    {
      "cell_type": "code",
      "source": [
        "#printing random integer number between 2,4 \n",
        "h=np.random.randint(2,4)\n",
        "h"
      ],
      "metadata": {
        "colab": {
          "base_uri": "https://localhost:8080/"
        },
        "id": "2mkUGf99kBYN",
        "outputId": "ece7c64c-8b33-4cc6-82ee-9707d71a6b11"
      },
      "execution_count": null,
      "outputs": [
        {
          "output_type": "execute_result",
          "data": {
            "text/plain": [
              "3"
            ]
          },
          "metadata": {},
          "execution_count": 58
        }
      ]
    },
    {
      "cell_type": "code",
      "source": [
        "h=np.random.randint(2,7,10)\n",
        "h"
      ],
      "metadata": {
        "colab": {
          "base_uri": "https://localhost:8080/"
        },
        "id": "d9vTCzgBlmgJ",
        "outputId": "f3069114-c5e0-4479-fba7-a5319e3e630c"
      },
      "execution_count": null,
      "outputs": [
        {
          "output_type": "execute_result",
          "data": {
            "text/plain": [
              "array([3, 2, 3, 3, 5, 2, 6, 4, 5, 2])"
            ]
          },
          "metadata": {},
          "execution_count": 60
        }
      ]
    },
    {
      "cell_type": "markdown",
      "source": [
        "**indexing and slicing**"
      ],
      "metadata": {
        "id": "W4Nc3_Ublvrx"
      }
    },
    {
      "cell_type": "markdown",
      "source": [
        "strides-bytes size required to store next value.(byte of data required to store next value)\n",
        "\n",
        "a=[1,2,3,4,5]\n",
        "if each value take 4 bytes to store then the value 2 require 8 bytes to store`\n"
      ],
      "metadata": {
        "id": "jOfkMtHomN5_"
      }
    },
    {
      "cell_type": "code",
      "source": [
        "import numpy as np\n",
        "\n",
        "li = [1, 2, 3, 4, 5]\n",
        "arr = np.array(li)\n",
        "\n",
        "print(li)\n",
        "print(arr)"
      ],
      "metadata": {
        "colab": {
          "base_uri": "https://localhost:8080/"
        },
        "id": "uETLtyd-nCgg",
        "outputId": "2840f487-61d8-4576-9ce4-cc493d316cf2"
      },
      "execution_count": null,
      "outputs": [
        {
          "output_type": "stream",
          "name": "stdout",
          "text": [
            "[1, 2, 3, 4, 5]\n",
            "[1 2 3 4 5]\n"
          ]
        }
      ]
    },
    {
      "cell_type": "code",
      "source": [
        "print(arr.data) #gives the memory size\n",
        "print(arr.shape)\n",
        "print(arr.dtype)\n",
        "print(arr.strides)"
      ],
      "metadata": {
        "colab": {
          "base_uri": "https://localhost:8080/"
        },
        "id": "RIz2smMZs03M",
        "outputId": "d8c7808c-17fc-40d4-c6b6-98d42104fce1"
      },
      "execution_count": null,
      "outputs": [
        {
          "output_type": "stream",
          "name": "stdout",
          "text": [
            "<memory at 0x7fe39a76e7a0>\n",
            "(5,)\n",
            "int64\n",
            "(8,)\n"
          ]
        }
      ]
    },
    {
      "cell_type": "code",
      "source": [
        "print(li[3])\n",
        "print(arr[3])\n",
        "print(li[1:4])\n",
        "print(arr[1:4])"
      ],
      "metadata": {
        "colab": {
          "base_uri": "https://localhost:8080/"
        },
        "id": "E3LgVhzXtFZN",
        "outputId": "ab4ce4ab-bdf1-4b99-d15c-723dcdc7f2fc"
      },
      "execution_count": null,
      "outputs": [
        {
          "output_type": "stream",
          "name": "stdout",
          "text": [
            "4\n",
            "4\n",
            "[2, 3, 4]\n",
            "[2 3 4]\n"
          ]
        }
      ]
    },
    {
      "cell_type": "code",
      "source": [
        "li_2d = [[1, 2, 3, 4], [5, 6, 7, 8], [9, 10, 11, 12], [13, 14, 15, 16]]\n",
        "arr_2d = np.array(li_2d)\n",
        "\n",
        "print(li_2d)\n",
        "print(arr_2d)"
      ],
      "metadata": {
        "colab": {
          "base_uri": "https://localhost:8080/"
        },
        "id": "T8TYW1oKtP5b",
        "outputId": "e391536f-877a-4478-e97f-90e6f551d19c"
      },
      "execution_count": null,
      "outputs": [
        {
          "output_type": "stream",
          "name": "stdout",
          "text": [
            "[[1, 2, 3, 4], [5, 6, 7, 8], [9, 10, 11, 12], [13, 14, 15, 16]]\n",
            "[[ 1  2  3  4]\n",
            " [ 5  6  7  8]\n",
            " [ 9 10 11 12]\n",
            " [13 14 15 16]]\n"
          ]
        }
      ]
    },
    {
      "cell_type": "code",
      "source": [
        "print(arr_2d.data)\n",
        "print(arr_2d.shape)\n",
        "print(arr_2d.dtype)\n",
        "print(arr_2d.strides)"
      ],
      "metadata": {
        "colab": {
          "base_uri": "https://localhost:8080/"
        },
        "id": "29kU-vWCtVjy",
        "outputId": "cc498cd5-6d28-46c9-ec81-ce6b286c59a4"
      },
      "execution_count": null,
      "outputs": [
        {
          "output_type": "stream",
          "name": "stdout",
          "text": [
            "<memory at 0x7fe39a528590>\n",
            "(4, 4)\n",
            "int64\n",
            "(32, 8)\n"
          ]
        }
      ]
    },
    {
      "cell_type": "code",
      "source": [
        "li_2d = [[1, 2, 3, 4], [5, 6, 7, 8], [9, 10, 11, 12], [13, 14, 15, 16]]\n",
        "print(li_2d[2][1])\n",
        "print(arr_2d[2][1])\n",
        "print(arr_2d[2, 1])"
      ],
      "metadata": {
        "colab": {
          "base_uri": "https://localhost:8080/"
        },
        "id": "U_Wg3m_vtdhW",
        "outputId": "add00086-c963-4979-cc1b-93fe4a8552eb"
      },
      "execution_count": null,
      "outputs": [
        {
          "output_type": "stream",
          "name": "stdout",
          "text": [
            "10\n",
            "10\n",
            "10\n"
          ]
        }
      ]
    },
    {
      "cell_type": "code",
      "source": [
        "print(li_2d[1][:3])\n",
        "print(arr_2d[1, :3])"
      ],
      "metadata": {
        "colab": {
          "base_uri": "https://localhost:8080/"
        },
        "id": "3VDSQNDxtxX8",
        "outputId": "57857165-b549-4e15-aada-2c6915b7f5d7"
      },
      "execution_count": null,
      "outputs": [
        {
          "output_type": "stream",
          "name": "stdout",
          "text": [
            "[5, 6, 7]\n",
            "[5 6 7]\n"
          ]
        }
      ]
    },
    {
      "cell_type": "code",
      "source": [
        "print(li_2d)"
      ],
      "metadata": {
        "colab": {
          "base_uri": "https://localhost:8080/"
        },
        "id": "GcTSURGeuQhs",
        "outputId": "dcb72e05-9e06-40a1-fea7-2bcab9c434a6"
      },
      "execution_count": null,
      "outputs": [
        {
          "output_type": "stream",
          "name": "stdout",
          "text": [
            "[[1, 2, 3, 4], [5, 6, 7, 8], [9, 10, 11, 12], [13, 14, 15, 16]]\n"
          ]
        }
      ]
    },
    {
      "cell_type": "code",
      "source": [
        "print(li_2d[0:3][2])"
      ],
      "metadata": {
        "colab": {
          "base_uri": "https://localhost:8080/"
        },
        "id": "PjP9oyuouXDW",
        "outputId": "cdf8240d-9519-4e7f-984b-d0d2d1ec61b9"
      },
      "execution_count": null,
      "outputs": [
        {
          "output_type": "stream",
          "name": "stdout",
          "text": [
            "[9, 10, 11, 12]\n"
          ]
        }
      ]
    },
    {
      "cell_type": "code",
      "source": [
        "print(li_2d[0:3])"
      ],
      "metadata": {
        "colab": {
          "base_uri": "https://localhost:8080/"
        },
        "id": "DJ6YF7eZvUxG",
        "outputId": "753a6937-cca2-4a33-c377-778b6b058d52"
      },
      "execution_count": null,
      "outputs": [
        {
          "output_type": "stream",
          "name": "stdout",
          "text": [
            "[[1, 2, 3, 4], [5, 6, 7, 8], [9, 10, 11, 12]]\n"
          ]
        }
      ]
    },
    {
      "cell_type": "code",
      "source": [
        "print(li_2d[0:3][0])"
      ],
      "metadata": {
        "colab": {
          "base_uri": "https://localhost:8080/"
        },
        "id": "WTvGzh45veVg",
        "outputId": "d619aa69-81a2-4e43-d212-8a43ff1a76ad"
      },
      "execution_count": null,
      "outputs": [
        {
          "output_type": "stream",
          "name": "stdout",
          "text": [
            "[1, 2, 3, 4]\n"
          ]
        }
      ]
    },
    {
      "cell_type": "code",
      "source": [
        "print(li_2d[0:3][1])"
      ],
      "metadata": {
        "colab": {
          "base_uri": "https://localhost:8080/"
        },
        "id": "FRir0z2VvRqR",
        "outputId": "f16b1da6-8672-4ae8-a6c7-c4b9aff75142"
      },
      "execution_count": null,
      "outputs": [
        {
          "output_type": "stream",
          "name": "stdout",
          "text": [
            "[5, 6, 7, 8]\n"
          ]
        }
      ]
    },
    {
      "cell_type": "code",
      "source": [
        "print(arr_2d[0:3, 2])"
      ],
      "metadata": {
        "colab": {
          "base_uri": "https://localhost:8080/"
        },
        "id": "5v4HKIvsv1IB",
        "outputId": "8f1a4136-c212-4df8-a07c-e4e2458f7881"
      },
      "execution_count": null,
      "outputs": [
        {
          "output_type": "stream",
          "name": "stdout",
          "text": [
            "[ 3  7 11]\n"
          ]
        }
      ]
    },
    {
      "cell_type": "code",
      "source": [
        "print(arr_2d[2:4, 1:3])\n",
        "print(li_2d[2:4][1:3])"
      ],
      "metadata": {
        "colab": {
          "base_uri": "https://localhost:8080/"
        },
        "id": "72oQuUlGtWm7",
        "outputId": "3dab554e-37ec-413a-9d7f-930edd73c245"
      },
      "execution_count": null,
      "outputs": [
        {
          "output_type": "stream",
          "name": "stdout",
          "text": [
            "[[10 11]\n",
            " [14 15]]\n",
            "[[13, 14, 15, 16]]\n"
          ]
        }
      ]
    },
    {
      "cell_type": "code",
      "source": [
        "#to print element from each list\n",
        "print(arr_2d[2:4, 1:3])\n",
        "print(li_2d[2:4][1][0])"
      ],
      "metadata": {
        "colab": {
          "base_uri": "https://localhost:8080/"
        },
        "id": "pC3antZQV_rO",
        "outputId": "8a9fd245-1bf0-407a-bcfa-3bdc97eb91e1"
      },
      "execution_count": null,
      "outputs": [
        {
          "output_type": "stream",
          "name": "stdout",
          "text": [
            "[[10 11]\n",
            " [14 15]]\n",
            "13\n"
          ]
        }
      ]
    },
    {
      "cell_type": "code",
      "source": [
        "print(arr_2d[2:4, 1:3])\n",
        "print(li_2d[2:4][1][1:3])"
      ],
      "metadata": {
        "colab": {
          "base_uri": "https://localhost:8080/"
        },
        "id": "D0ozuKZHWJ5t",
        "outputId": "30150903-1e8e-4124-8c56-0c6df98aadfe"
      },
      "execution_count": null,
      "outputs": [
        {
          "output_type": "stream",
          "name": "stdout",
          "text": [
            "[[10 11]\n",
            " [14 15]]\n",
            "[14, 15]\n"
          ]
        }
      ]
    },
    {
      "cell_type": "code",
      "source": [
        "print(arr_2d)\n",
        "print(arr_2d[0:3,-3])"
      ],
      "metadata": {
        "colab": {
          "base_uri": "https://localhost:8080/"
        },
        "id": "zRT3m3xA1MEa",
        "outputId": "7b5ffe46-1b08-440e-bab3-258020cf3bc5"
      },
      "execution_count": null,
      "outputs": [
        {
          "output_type": "stream",
          "name": "stdout",
          "text": [
            "[[ 1  2  3  4]\n",
            " [ 5  6  7  8]\n",
            " [ 9 10 11 12]\n",
            " [13 14 15 16]]\n",
            "[ 2  6 10]\n"
          ]
        }
      ]
    },
    {
      "cell_type": "code",
      "source": [
        "print(arr_2d[0:3:2])"
      ],
      "metadata": {
        "colab": {
          "base_uri": "https://localhost:8080/"
        },
        "id": "ctwqlV1J1iWN",
        "outputId": "015e5198-9ca1-4e59-bf78-0572b3cbc668"
      },
      "execution_count": null,
      "outputs": [
        {
          "output_type": "stream",
          "name": "stdout",
          "text": [
            "[[ 1  2  3  4]\n",
            " [ 9 10 11 12]]\n"
          ]
        }
      ]
    },
    {
      "cell_type": "code",
      "source": [
        "print(arr_2d[0:3,2])"
      ],
      "metadata": {
        "colab": {
          "base_uri": "https://localhost:8080/"
        },
        "id": "z2jYwD_C1tT6",
        "outputId": "0695e420-9e02-4201-d1ad-acdfbe35b271"
      },
      "execution_count": null,
      "outputs": [
        {
          "output_type": "stream",
          "name": "stdout",
          "text": [
            "[ 3  7 11]\n"
          ]
        }
      ]
    },
    {
      "cell_type": "code",
      "source": [
        "print(arr_2d[2][1])"
      ],
      "metadata": {
        "colab": {
          "base_uri": "https://localhost:8080/"
        },
        "id": "Ol3HORm0177H",
        "outputId": "b75eeb46-b869-4a0b-bad6-551295a674d5"
      },
      "execution_count": null,
      "outputs": [
        {
          "output_type": "stream",
          "name": "stdout",
          "text": [
            "10\n"
          ]
        }
      ]
    },
    {
      "cell_type": "code",
      "source": [
        "print(arr_2d[2,1])"
      ],
      "metadata": {
        "colab": {
          "base_uri": "https://localhost:8080/"
        },
        "id": "ipZtAVcu2LE3",
        "outputId": "67979f53-f45f-444d-a67b-3b95812dab68"
      },
      "execution_count": null,
      "outputs": [
        {
          "output_type": "stream",
          "name": "stdout",
          "text": [
            "10\n"
          ]
        }
      ]
    },
    {
      "cell_type": "code",
      "source": [
        "print(arr_2d[0:3,])"
      ],
      "metadata": {
        "colab": {
          "base_uri": "https://localhost:8080/"
        },
        "id": "QHuk7rjN2UAA",
        "outputId": "6651e8f4-e483-4cbb-f4d0-309feac99342"
      },
      "execution_count": null,
      "outputs": [
        {
          "output_type": "stream",
          "name": "stdout",
          "text": [
            "[[ 1  2  3  4]\n",
            " [ 5  6  7  8]\n",
            " [ 9 10 11 12]]\n"
          ]
        }
      ]
    },
    {
      "cell_type": "code",
      "source": [
        "import numpy as np \n",
        "\n",
        "a = np.arange(10) \n",
        "b = a[5] \n",
        "print(a)\n",
        "b"
      ],
      "metadata": {
        "colab": {
          "base_uri": "https://localhost:8080/"
        },
        "id": "h2QifhPMuczV",
        "outputId": "ff3e3a54-1bb9-4fa7-8f92-523427c5a376"
      },
      "execution_count": null,
      "outputs": [
        {
          "output_type": "stream",
          "name": "stdout",
          "text": [
            "[0 1 2 3 4 5 6 7 8 9]\n"
          ]
        },
        {
          "output_type": "execute_result",
          "data": {
            "text/plain": [
              "5"
            ]
          },
          "metadata": {},
          "execution_count": 22
        }
      ]
    },
    {
      "cell_type": "code",
      "source": [
        "# array to begin with \n",
        "import numpy as np \n",
        "a = np.array([[1,2,3],[3,4,5],[4,5,6]]) \n",
        "\n",
        "print('Our array is:') \n",
        "print(a) \n",
        "\n",
        "# this returns array of items in the second column \n",
        "print('The items in the second column are:') \n",
        "print(a[...,1]) \n",
        "  \n",
        "\n",
        "# Now we will slice all items from the second row \n",
        "print('The items in the second row are:')\n",
        "print(a[1,...]) \n",
        "  \n",
        "\n",
        "# Now we will slice all items from column 1 onwards \n",
        "print('The items column 1 onwards are:') \n",
        "print(a[...,1:])"
      ],
      "metadata": {
        "colab": {
          "base_uri": "https://localhost:8080/"
        },
        "id": "iKNR6oF7u-P5",
        "outputId": "51a9e527-ca40-4400-a1a3-60e9587b1a99"
      },
      "execution_count": null,
      "outputs": [
        {
          "output_type": "stream",
          "name": "stdout",
          "text": [
            "Our array is:\n",
            "[[1 2 3]\n",
            " [3 4 5]\n",
            " [4 5 6]]\n",
            "The items in the second column are:\n",
            "[2 4 5]\n",
            "The items in the second row are:\n",
            "[3 4 5]\n",
            "The items column 1 onwards are:\n",
            "[[2 3]\n",
            " [4 5]\n",
            " [5 6]]\n"
          ]
        }
      ]
    },
    {
      "cell_type": "code",
      "source": [
        "np.diag(arr_2d)"
      ],
      "metadata": {
        "colab": {
          "base_uri": "https://localhost:8080/"
        },
        "id": "SQ0pE793yCVr",
        "outputId": "dca0b8ae-ee02-4ab0-ce8e-2e4883e85fe1"
      },
      "execution_count": null,
      "outputs": [
        {
          "output_type": "execute_result",
          "data": {
            "text/plain": [
              "array([ 1,  6, 11, 16])"
            ]
          },
          "metadata": {},
          "execution_count": 76
        }
      ]
    },
    {
      "cell_type": "code",
      "source": [
        "np.diag(arr_2d,1) #upper triangle diagonal"
      ],
      "metadata": {
        "colab": {
          "base_uri": "https://localhost:8080/"
        },
        "id": "P5wN93icz6f7",
        "outputId": "2abeb606-2cd8-45e1-8bef-7eab49370af9"
      },
      "execution_count": null,
      "outputs": [
        {
          "output_type": "execute_result",
          "data": {
            "text/plain": [
              "array([ 2,  7, 12])"
            ]
          },
          "metadata": {},
          "execution_count": 82
        }
      ]
    },
    {
      "cell_type": "code",
      "source": [
        "np.diag(arr_2d,-1) #lower triangle diagonal."
      ],
      "metadata": {
        "colab": {
          "base_uri": "https://localhost:8080/"
        },
        "id": "AjbB-Twgv6Jg",
        "outputId": "95b1be69-4cb6-4a2e-a93f-b5a57e994c98"
      },
      "execution_count": null,
      "outputs": [
        {
          "output_type": "execute_result",
          "data": {
            "text/plain": [
              "array([ 5, 10, 15])"
            ]
          },
          "metadata": {},
          "execution_count": 26
        }
      ]
    },
    {
      "cell_type": "code",
      "source": [
        "print(arr_2d.diagonal())"
      ],
      "metadata": {
        "colab": {
          "base_uri": "https://localhost:8080/"
        },
        "id": "DugaDw_aXj-t",
        "outputId": "2f48d25d-3e6e-4cad-ce99-a963bdea7b63"
      },
      "execution_count": null,
      "outputs": [
        {
          "output_type": "stream",
          "name": "stdout",
          "text": [
            "[ 1  6 11 16]\n"
          ]
        }
      ]
    },
    {
      "cell_type": "code",
      "source": [],
      "metadata": {
        "id": "igxEzSjreyGK"
      },
      "execution_count": null,
      "outputs": []
    },
    {
      "cell_type": "code",
      "source": [
        "#printing the diagonal element\n",
        "print([arr_2d[i][i] for i in range(len(arr_2d))])"
      ],
      "metadata": {
        "colab": {
          "base_uri": "https://localhost:8080/"
        },
        "id": "xDXhZwVtXuLR",
        "outputId": "182e7468-e2f8-457d-a41c-a771d8795df7"
      },
      "execution_count": null,
      "outputs": [
        {
          "output_type": "stream",
          "name": "stdout",
          "text": [
            "[1, 6, 11, 16]\n"
          ]
        }
      ]
    },
    {
      "cell_type": "code",
      "source": [
        "for i in range(len(arr_2d)):\n",
        "  print(i)"
      ],
      "metadata": {
        "colab": {
          "base_uri": "https://localhost:8080/"
        },
        "id": "1s2azG7yYZEB",
        "outputId": "b7acb1cf-02de-464b-e969-2a392801358d"
      },
      "execution_count": null,
      "outputs": [
        {
          "output_type": "stream",
          "name": "stdout",
          "text": [
            "0\n",
            "1\n",
            "2\n",
            "3\n"
          ]
        }
      ]
    },
    {
      "cell_type": "code",
      "source": [
        "for i in range(len(arr_2d)):\n",
        "  print(arr_2d[i])"
      ],
      "metadata": {
        "colab": {
          "base_uri": "https://localhost:8080/"
        },
        "id": "-Jc_7bZ9Zl5X",
        "outputId": "8abedaaa-3a95-4332-8ce4-e59c35bfc659"
      },
      "execution_count": null,
      "outputs": [
        {
          "output_type": "stream",
          "name": "stdout",
          "text": [
            "[1 2 3 4]\n",
            "[5 6 7 8]\n",
            "[ 9 10 11 12]\n",
            "[13 14 15 16]\n"
          ]
        }
      ]
    },
    {
      "cell_type": "code",
      "source": [
        "for i in range(len(arr_2d)):\n",
        "  print(arr_2d[i][0])"
      ],
      "metadata": {
        "colab": {
          "base_uri": "https://localhost:8080/"
        },
        "id": "LTqSdI4bZ3WJ",
        "outputId": "00e88801-ca43-4327-ac5b-fc13baf20c38"
      },
      "execution_count": null,
      "outputs": [
        {
          "output_type": "stream",
          "name": "stdout",
          "text": [
            "1\n",
            "5\n",
            "9\n",
            "13\n"
          ]
        }
      ]
    },
    {
      "cell_type": "code",
      "source": [
        "for i in range(len(arr_2d)):\n",
        "  print(arr_2d[0][i])"
      ],
      "metadata": {
        "colab": {
          "base_uri": "https://localhost:8080/"
        },
        "id": "zd5NVq29aEmX",
        "outputId": "52ac70f8-31fa-4b2a-f1e8-3ae1f1dec3c5"
      },
      "execution_count": null,
      "outputs": [
        {
          "output_type": "stream",
          "name": "stdout",
          "text": [
            "1\n",
            "2\n",
            "3\n",
            "4\n"
          ]
        }
      ]
    },
    {
      "cell_type": "code",
      "source": [
        "for i in range(len(arr_2d)):\n",
        "  for j in range(i):\n",
        "    print(arr_2d[i][j])"
      ],
      "metadata": {
        "colab": {
          "base_uri": "https://localhost:8080/"
        },
        "id": "QdNMjPLBaQLP",
        "outputId": "a153c17d-6676-4784-f38b-495978d8fbe7"
      },
      "execution_count": null,
      "outputs": [
        {
          "output_type": "stream",
          "name": "stdout",
          "text": [
            "5\n",
            "9\n",
            "10\n",
            "13\n",
            "14\n",
            "15\n"
          ]
        }
      ]
    },
    {
      "cell_type": "code",
      "source": [
        "print(arr_2d)"
      ],
      "metadata": {
        "colab": {
          "base_uri": "https://localhost:8080/"
        },
        "id": "A9NvNlU_nT5H",
        "outputId": "28ab50c6-9ff7-46a6-a802-65928a6ef0ad"
      },
      "execution_count": null,
      "outputs": [
        {
          "output_type": "stream",
          "name": "stdout",
          "text": [
            "[[ 1  2  3  4]\n",
            " [ 5  6  7  8]\n",
            " [ 9 10 11 12]\n",
            " [13 14 15 16]]\n"
          ]
        }
      ]
    },
    {
      "cell_type": "code",
      "source": [
        "#printing diagnonal element in reverse order\n",
        "print([arr_2d[i][len(arr_2d)-i-1] for i in range(len(arr_2d))])"
      ],
      "metadata": {
        "colab": {
          "base_uri": "https://localhost:8080/"
        },
        "id": "ZnAQozi6nZgv",
        "outputId": "68abb502-e854-457e-f561-bd930139be4d"
      },
      "execution_count": null,
      "outputs": [
        {
          "output_type": "stream",
          "name": "stdout",
          "text": [
            "[4, 7, 10, 13]\n"
          ]
        }
      ]
    },
    {
      "cell_type": "markdown",
      "source": [
        "4-0-1=3-[0][3]=4\n",
        "4-1-1=2-[1][2]=7\n",
        "4-2-1=1[2][1]=10\n",
        "4-3-1=0-[3][0]=13"
      ],
      "metadata": {
        "id": "zmR5EGR90OlF"
      }
    },
    {
      "cell_type": "code",
      "source": [],
      "metadata": {
        "id": "ZEa5ZA4VoRBJ"
      },
      "execution_count": null,
      "outputs": []
    },
    {
      "cell_type": "markdown",
      "source": [
        "\n",
        "print([arr[i][i] for i in range(len(arr)-1,-1,-1)])\n"
      ],
      "metadata": {
        "id": "_27xy0UymFv9"
      }
    },
    {
      "cell_type": "code",
      "source": [
        "#printing diagonal from downwards\n",
        "print([arr_2d[i][i] for i in range(len(arr_2d)-1,-1,-1)]) #start,end,step\n",
        "len(arr_2d)"
      ],
      "metadata": {
        "colab": {
          "base_uri": "https://localhost:8080/"
        },
        "id": "yFm2AjljozzL",
        "outputId": "cea5d816-64af-46bb-974e-557cfdfe8978"
      },
      "execution_count": null,
      "outputs": [
        {
          "output_type": "stream",
          "name": "stdout",
          "text": [
            "[16, 11, 6, 1]\n"
          ]
        },
        {
          "output_type": "execute_result",
          "data": {
            "text/plain": [
              "4"
            ]
          },
          "metadata": {},
          "execution_count": 10
        }
      ]
    },
    {
      "cell_type": "markdown",
      "source": [
        "4-1 =(3,-1,-1)\n",
        "[3][3]=16\n",
        "[2][2]=11\n",
        "[1][1]=6\n",
        "[0][0]=1"
      ],
      "metadata": {
        "id": "Vc8QL7dK0w3d"
      }
    },
    {
      "cell_type": "code",
      "source": [
        "\n",
        "for i in range(len(arr_2d)):\n",
        "  print(arr_2d[i][len(arr_2d)-1-i])"
      ],
      "metadata": {
        "id": "7PsQWe-ne5EL",
        "colab": {
          "base_uri": "https://localhost:8080/"
        },
        "outputId": "5b0ab6ca-082e-434c-f8db-f034ea8b5a44"
      },
      "execution_count": null,
      "outputs": [
        {
          "output_type": "stream",
          "name": "stdout",
          "text": [
            "4\n",
            "7\n",
            "10\n",
            "13\n"
          ]
        }
      ]
    },
    {
      "cell_type": "markdown",
      "source": [
        "4-1-0=3\n",
        "[0][3]\n",
        "[1][4-1-1]=[1][2]\n",
        "[2][4-2-1]=[2][1]\n",
        "[3][4-3-1]=[3][0]"
      ],
      "metadata": {
        "id": "LPxlmFCY1z-Y"
      }
    },
    {
      "cell_type": "code",
      "source": [
        "from numpy import random\n",
        "b=random.binomial(n=10,p=0.5,size=10)\n",
        "b"
      ],
      "metadata": {
        "colab": {
          "base_uri": "https://localhost:8080/"
        },
        "id": "-ZLJFpORa_0p",
        "outputId": "0451f274-93ea-42a8-b1ff-f804a4f64db8"
      },
      "execution_count": null,
      "outputs": [
        {
          "output_type": "execute_result",
          "data": {
            "text/plain": [
              "array([5, 5, 6, 4, 5, 5, 5, 4, 4, 5])"
            ]
          },
          "metadata": {},
          "execution_count": 23
        }
      ]
    },
    {
      "cell_type": "code",
      "source": [
        "from numpy import random\n",
        "b=random.normal(n=10,p=0.5,size=10)\n",
        "b"
      ],
      "metadata": {
        "id": "zajFgMCbcJh1"
      },
      "execution_count": null,
      "outputs": []
    },
    {
      "cell_type": "code",
      "source": [
        "f=np.arange(9,50) #creating an array in the range of 9 to 50 excluding 50"
      ],
      "metadata": {
        "colab": {
          "base_uri": "https://localhost:8080/"
        },
        "id": "hwVee6KO04g8",
        "outputId": "34470865-e046-416b-cc8d-f5b421f3a048"
      },
      "execution_count": null,
      "outputs": [
        {
          "output_type": "execute_result",
          "data": {
            "text/plain": [
              "array([ 9, 10, 11, 12, 13, 14, 15, 16, 17, 18, 19, 20, 21, 22, 23, 24, 25,\n",
              "       26, 27, 28, 29, 30, 31, 32, 33, 34, 35, 36, 37, 38, 39, 40, 41, 42,\n",
              "       43, 44, 45, 46, 47, 48, 49])"
            ]
          },
          "metadata": {},
          "execution_count": 83
        }
      ]
    },
    {
      "cell_type": "code",
      "source": [
        "f=np.linspace(9,49,dtype=int)\n",
        "\n",
        "f"
      ],
      "metadata": {
        "colab": {
          "base_uri": "https://localhost:8080/"
        },
        "id": "9u9d1mAZ1Kf_",
        "outputId": "90131e8c-4153-467e-b05e-6772de77f256"
      },
      "execution_count": null,
      "outputs": [
        {
          "output_type": "execute_result",
          "data": {
            "text/plain": [
              "array([ 9,  9, 10, 11, 12, 13, 13, 14, 15, 16, 17, 17, 18, 19, 20, 21, 22,\n",
              "       22, 23, 24, 25, 26, 26, 27, 28, 29, 30, 31, 31, 32, 33, 34, 35, 35,\n",
              "       36, 37, 38, 39, 40, 40, 41, 42, 43, 44, 44, 45, 46, 47, 48, 49])"
            ]
          },
          "metadata": {},
          "execution_count": 87
        }
      ]
    },
    {
      "cell_type": "code",
      "source": [
        "f=np.linspace(9,49,dtype=int)\n",
        "\n",
        "for i in f:\n",
        "  print(i,end=\" \")"
      ],
      "metadata": {
        "colab": {
          "base_uri": "https://localhost:8080/"
        },
        "id": "SNbaGEKn1yY8",
        "outputId": "9ffbf65a-9fa2-4df0-aa4b-f72873de9e99"
      },
      "execution_count": null,
      "outputs": [
        {
          "output_type": "stream",
          "name": "stdout",
          "text": [
            "9 9 10 11 12 13 13 14 15 16 17 17 18 19 20 21 22 22 23 24 25 26 26 27 28 29 30 31 31 32 33 34 35 35 36 37 38 39 40 40 41 42 43 44 44 45 46 47 48 49 "
          ]
        }
      ]
    },
    {
      "cell_type": "code",
      "source": [
        "#create\n",
        "t=np.eye(5,6,dtype=int)\n",
        "t"
      ],
      "metadata": {
        "colab": {
          "base_uri": "https://localhost:8080/"
        },
        "id": "bUOuH3xb2PsF",
        "outputId": "29df50ba-2328-43af-b399-30a85056ac31"
      },
      "execution_count": null,
      "outputs": [
        {
          "output_type": "execute_result",
          "data": {
            "text/plain": [
              "array([[1, 0, 0, 0, 0, 0],\n",
              "       [0, 1, 0, 0, 0, 0],\n",
              "       [0, 0, 1, 0, 0, 0],\n",
              "       [0, 0, 0, 1, 0, 0],\n",
              "       [0, 0, 0, 0, 1, 0]])"
            ]
          },
          "metadata": {},
          "execution_count": 92
        }
      ]
    },
    {
      "cell_type": "markdown",
      "source": [
        "**boolean**"
      ],
      "metadata": {
        "id": "NeWFwtlFhi9z"
      }
    },
    {
      "cell_type": "code",
      "source": [
        "a=[1,2,3,4,5,6,7,8]\n",
        "print(a[1]>5)"
      ],
      "metadata": {
        "colab": {
          "base_uri": "https://localhost:8080/"
        },
        "id": "A9NE08AErYAf",
        "outputId": "6eba75fb-f54e-443e-8155-7ceb12f82624"
      },
      "execution_count": null,
      "outputs": [
        {
          "output_type": "stream",
          "name": "stdout",
          "text": [
            "False\n"
          ]
        }
      ]
    },
    {
      "cell_type": "code",
      "source": [
        "a=[1,2,3,4,5,6,7,8]\n",
        "print(a[a[5]>5])"
      ],
      "metadata": {
        "colab": {
          "base_uri": "https://localhost:8080/"
        },
        "id": "y45NygiDrwMl",
        "outputId": "99d89aa9-5efc-4119-d928-d635194c2131"
      },
      "execution_count": null,
      "outputs": [
        {
          "output_type": "stream",
          "name": "stdout",
          "text": [
            "2\n"
          ]
        }
      ]
    },
    {
      "cell_type": "markdown",
      "source": [
        "passing boolean array to original array so this will only print the array with true values alone"
      ],
      "metadata": {
        "id": "jMtfxZQ9kgKm"
      }
    },
    {
      "cell_type": "code",
      "source": [
        "a=np.array([\"t\",\"r\",\"e\",\"f\",\"g\",\"h\",\"i\",\"j\"])\n",
        "b=np.random.randint(1,20,8)\n",
        "print(a)\n",
        "print(b)"
      ],
      "metadata": {
        "colab": {
          "base_uri": "https://localhost:8080/"
        },
        "id": "8xdkLqFZsO1r",
        "outputId": "eb850405-93d7-475c-d230-2ecabe8c6a63"
      },
      "execution_count": null,
      "outputs": [
        {
          "output_type": "stream",
          "name": "stdout",
          "text": [
            "['t' 'r' 'e' 'f' 'g' 'h' 'i' 'j']\n",
            "[ 2 14 13 11 14 15  3 15]\n"
          ]
        }
      ]
    },
    {
      "cell_type": "code",
      "source": [
        "print(b>5) #creates a boolean array where value > 5 is set to true other wise fasle"
      ],
      "metadata": {
        "colab": {
          "base_uri": "https://localhost:8080/"
        },
        "id": "4F-u-AsdsnVE",
        "outputId": "6f965345-1f27-4670-bd6f-bc985c7f3f2e"
      },
      "execution_count": null,
      "outputs": [
        {
          "output_type": "stream",
          "name": "stdout",
          "text": [
            "[False  True  True  True  True  True False  True]\n"
          ]
        }
      ]
    },
    {
      "cell_type": "code",
      "source": [
        "bool_arr=b>10\n",
        "print(bool_arr)\n",
        "newarr=b[bool_arr]  #prints only values from b for which bool_arr value is true\n",
        "print(newarr)"
      ],
      "metadata": {
        "colab": {
          "base_uri": "https://localhost:8080/"
        },
        "id": "aOA9Nxb0s3Bu",
        "outputId": "c2fe8824-06ab-4e98-97ac-8a7e05648a09"
      },
      "execution_count": null,
      "outputs": [
        {
          "output_type": "stream",
          "name": "stdout",
          "text": [
            "[False  True  True  True  True  True False  True]\n",
            "[14 13 11 14 15 15]\n"
          ]
        }
      ]
    },
    {
      "cell_type": "code",
      "source": [
        "bool_str=b<10\n",
        "print(bool_str)\n",
        "newstr=a[bool_str]\n",
        "print(newstr)"
      ],
      "metadata": {
        "colab": {
          "base_uri": "https://localhost:8080/"
        },
        "id": "Dfw5zWdHs3lq",
        "outputId": "731ee626-c620-4b8b-b194-83e893657efa"
      },
      "execution_count": null,
      "outputs": [
        {
          "output_type": "stream",
          "name": "stdout",
          "text": [
            "[ True False False False False False  True False]\n",
            "['t' 'i']\n"
          ]
        }
      ]
    },
    {
      "cell_type": "code",
      "source": [
        "n_arr=b[b>12]\n",
        "print(n_arr)"
      ],
      "metadata": {
        "colab": {
          "base_uri": "https://localhost:8080/"
        },
        "id": "G0Z7bH_psO5W",
        "outputId": "43ac4db2-8bab-4d49-e051-b15da986e976"
      },
      "execution_count": null,
      "outputs": [
        {
          "output_type": "stream",
          "name": "stdout",
          "text": [
            "[14 13 14 15 15]\n"
          ]
        }
      ]
    },
    {
      "cell_type": "code",
      "source": [
        "n_arr=b[(b>10) & (b<18)]\n",
        "print(n_arr)"
      ],
      "metadata": {
        "colab": {
          "base_uri": "https://localhost:8080/"
        },
        "id": "cXupld0Pt0wr",
        "outputId": "5bf41009-0126-4f39-dd86-70e81dc9bec1"
      },
      "execution_count": null,
      "outputs": [
        {
          "output_type": "stream",
          "name": "stdout",
          "text": [
            "[14 13 11 14 15 15]\n"
          ]
        }
      ]
    },
    {
      "cell_type": "code",
      "source": [
        "n_arr=b[b==13]\n",
        "print(n_arr)"
      ],
      "metadata": {
        "colab": {
          "base_uri": "https://localhost:8080/"
        },
        "id": "NRHqYWCuuEiy",
        "outputId": "ac9ddcaf-3fd2-4dbc-c034-3c8e130c6eb8"
      },
      "execution_count": null,
      "outputs": [
        {
          "output_type": "stream",
          "name": "stdout",
          "text": [
            "[13]\n"
          ]
        }
      ]
    },
    {
      "cell_type": "code",
      "source": [
        "n=b[b==100]\n",
        "print(n)   #if element is not present it gives an empty list"
      ],
      "metadata": {
        "colab": {
          "base_uri": "https://localhost:8080/"
        },
        "id": "IGbCn9DFwLrt",
        "outputId": "f5f13c4e-7a94-4b4d-8baa-fa5100a86417"
      },
      "execution_count": null,
      "outputs": [
        {
          "output_type": "stream",
          "name": "stdout",
          "text": [
            "[]\n"
          ]
        }
      ]
    },
    {
      "cell_type": "code",
      "source": [
        "str_arr=a[a =='t']\n",
        "print(str_arr)"
      ],
      "metadata": {
        "colab": {
          "base_uri": "https://localhost:8080/"
        },
        "id": "cTGdxp0PupOK",
        "outputId": "8be6d81e-9038-4394-9229-7bc34d0862c9"
      },
      "execution_count": null,
      "outputs": [
        {
          "output_type": "stream",
          "name": "stdout",
          "text": [
            "['t']\n"
          ]
        }
      ]
    },
    {
      "cell_type": "code",
      "source": [
        "str_b=a=='t'\n",
        "print(str_b)\n",
        "n=b[str_b]\n",
        "print(n)"
      ],
      "metadata": {
        "colab": {
          "base_uri": "https://localhost:8080/"
        },
        "id": "rGElXwEMv38o",
        "outputId": "6630c30a-65af-4bb6-f5c6-225284ff49ff"
      },
      "execution_count": null,
      "outputs": [
        {
          "output_type": "stream",
          "name": "stdout",
          "text": [
            "[ True False False False False False False False]\n",
            "[2]\n"
          ]
        }
      ]
    },
    {
      "cell_type": "code",
      "source": [
        "str_arr= a[(a == 't') | ( a== 'r')]\n",
        "print(str_arr)"
      ],
      "metadata": {
        "colab": {
          "base_uri": "https://localhost:8080/"
        },
        "id": "2Y9rsKmuuSdM",
        "outputId": "c41e83ae-3fd3-4545-cc64-b88956254bf0"
      },
      "execution_count": null,
      "outputs": [
        {
          "output_type": "stream",
          "name": "stdout",
          "text": [
            "['t' 'r']\n"
          ]
        }
      ]
    },
    {
      "cell_type": "markdown",
      "source": [
        "where function used to find the index"
      ],
      "metadata": {
        "id": "TzYH5tBap9Zn"
      }
    },
    {
      "cell_type": "code",
      "source": [
        "ind=np.where(b==10)  #when element is not present answer is an empty array\n",
        "print(ind)"
      ],
      "metadata": {
        "colab": {
          "base_uri": "https://localhost:8080/"
        },
        "id": "QFe-QsHdwYYE",
        "outputId": "3b6d2146-2bed-40d7-9a8b-597fa2b8cdfb"
      },
      "execution_count": null,
      "outputs": [
        {
          "output_type": "stream",
          "name": "stdout",
          "text": [
            "(array([], dtype=int64),)\n"
          ]
        }
      ]
    },
    {
      "cell_type": "code",
      "source": [
        "ind=np.where(b==13)\n",
        "print(ind)"
      ],
      "metadata": {
        "colab": {
          "base_uri": "https://localhost:8080/"
        },
        "id": "WVGpgueHwf4D",
        "outputId": "dc1f32e6-4225-44bb-9145-7b50c620fe34"
      },
      "execution_count": null,
      "outputs": [
        {
          "output_type": "stream",
          "name": "stdout",
          "text": [
            "(array([2]),)\n"
          ]
        }
      ]
    },
    {
      "cell_type": "code",
      "source": [
        "print(b[ind]) "
      ],
      "metadata": {
        "colab": {
          "base_uri": "https://localhost:8080/"
        },
        "id": "4hihf7AUw0xM",
        "outputId": "7193d8eb-6f0d-49a9-c6dc-0a80a89e7bc3"
      },
      "execution_count": null,
      "outputs": [
        {
          "output_type": "stream",
          "name": "stdout",
          "text": [
            "[13]\n"
          ]
        }
      ]
    },
    {
      "cell_type": "code",
      "source": [
        "ind=np.where(b>10) #give the index of element whose value is greater than 10\n",
        "print(ind)\n",
        "print(b[ind])      #pint element corresponding to each index"
      ],
      "metadata": {
        "colab": {
          "base_uri": "https://localhost:8080/"
        },
        "id": "-zD28B0rw8rJ",
        "outputId": "7132a28b-870f-4dd3-e111-b335febf1cfa"
      },
      "execution_count": null,
      "outputs": [
        {
          "output_type": "stream",
          "name": "stdout",
          "text": [
            "(array([1, 2, 3, 4, 5, 7]),)\n",
            "[14 13 11 14 15 15]\n"
          ]
        }
      ]
    },
    {
      "cell_type": "code",
      "source": [
        "import numpy as np\n",
        "c=np.random.randint(1,30,(5,6)) #creating 5*6 array using randint and numpy\n",
        "c"
      ],
      "metadata": {
        "colab": {
          "base_uri": "https://localhost:8080/"
        },
        "id": "J1u6-4eruiOs",
        "outputId": "8e2f1c2c-7e2c-455e-89dd-f9c13e878b96"
      },
      "execution_count": null,
      "outputs": [
        {
          "output_type": "execute_result",
          "data": {
            "text/plain": [
              "array([[12, 13, 28, 29,  2, 16],\n",
              "       [ 6, 22,  3,  2,  2,  9],\n",
              "       [ 5, 20, 10, 14,  9, 24],\n",
              "       [24, 10, 12, 27, 18, 17],\n",
              "       [29, 24, 25, 25, 19, 20]])"
            ]
          },
          "metadata": {},
          "execution_count": 1
        }
      ]
    },
    {
      "cell_type": "code",
      "source": [
        "b=c[c>20]\n",
        "print(b)\n",
        "f=c>20\n",
        "print(f)\n",
        "\n"
      ],
      "metadata": {
        "colab": {
          "base_uri": "https://localhost:8080/"
        },
        "id": "Jffw4vPmu9NT",
        "outputId": "47e97df1-3006-4c9a-bc74-dd1820a58bde"
      },
      "execution_count": null,
      "outputs": [
        {
          "output_type": "stream",
          "name": "stdout",
          "text": [
            "[29 21 27 28 25 26 24 21 23 21 28]\n",
            "[[ True False  True False False False]\n",
            " [False  True False  True False False]\n",
            " [False  True False False False False]\n",
            " [False False  True  True  True False]\n",
            " [ True  True  True False False False]]\n"
          ]
        }
      ]
    },
    {
      "cell_type": "code",
      "source": [
        "c=np.random.randint(1,30,(5,6))\n",
        "print(c)\n",
        "ind=np.where(c>20)\n",
        "print(c[ind])"
      ],
      "metadata": {
        "colab": {
          "base_uri": "https://localhost:8080/"
        },
        "id": "R5qeCqwTwDjV",
        "outputId": "fd95fdb4-cf1f-4ffd-8526-1f26a6a87262"
      },
      "execution_count": null,
      "outputs": [
        {
          "output_type": "stream",
          "name": "stdout",
          "text": [
            "[[29  9 21  8  8  1]\n",
            " [ 8 27  6 28 20 18]\n",
            " [ 1 25  4 18 16  8]\n",
            " [ 2  7 26 24 21  9]\n",
            " [23 21 28  5 11 19]]\n",
            "[29 21 27 28 25 26 24 21 23 21 28]\n"
          ]
        }
      ]
    },
    {
      "cell_type": "code",
      "source": [
        "v=c[:,3]==28 # checking from all rows 3rdcolunm\n",
        "v"
      ],
      "metadata": {
        "colab": {
          "base_uri": "https://localhost:8080/"
        },
        "id": "Cz8UH7xtwEyw",
        "outputId": "88a61b4a-bcdf-40d4-97eb-188c660e681e"
      },
      "execution_count": null,
      "outputs": [
        {
          "output_type": "execute_result",
          "data": {
            "text/plain": [
              "array([False,  True, False, False, False])"
            ]
          },
          "metadata": {},
          "execution_count": 25
        }
      ]
    },
    {
      "cell_type": "code",
      "source": [
        "v=c[:,3]==28 # checking from all rows 3rdcolunm\n",
        "v"
      ],
      "metadata": {
        "id": "Xwxd0tbtysA6"
      },
      "execution_count": null,
      "outputs": []
    },
    {
      "cell_type": "code",
      "source": [
        "v=c[:,:]==28 # checking from all rows and column for value 28\n",
        "v"
      ],
      "metadata": {
        "colab": {
          "base_uri": "https://localhost:8080/"
        },
        "id": "UE7MVCeTxjI8",
        "outputId": "243e284a-ed94-4631-f66c-63f04fddcace"
      },
      "execution_count": null,
      "outputs": [
        {
          "output_type": "execute_result",
          "data": {
            "text/plain": [
              "array([[False, False, False, False, False, False],\n",
              "       [False, False, False,  True, False, False],\n",
              "       [False, False, False, False, False, False],\n",
              "       [False, False, False, False, False, False],\n",
              "       [False, False,  True, False, False, False]])"
            ]
          },
          "metadata": {},
          "execution_count": 26
        }
      ]
    },
    {
      "cell_type": "markdown",
      "source": [
        "mathematical function in numpy"
      ],
      "metadata": {
        "id": "1WOFbyCrsSBs"
      }
    },
    {
      "cell_type": "code",
      "source": [
        "a=np.arange(1,6)\n",
        "b=np.arange(1,6)\n",
        "print(a)\n",
        "print(b)"
      ],
      "metadata": {
        "colab": {
          "base_uri": "https://localhost:8080/"
        },
        "id": "N0J4mBDRzIhP",
        "outputId": "f9095754-acd6-49e6-fada-86b4b92fef26"
      },
      "execution_count": null,
      "outputs": [
        {
          "output_type": "stream",
          "name": "stdout",
          "text": [
            "[1 2 3 4 5]\n",
            "[1 2 3 4 5]\n"
          ]
        }
      ]
    },
    {
      "cell_type": "code",
      "source": [
        "print(a+b)\n",
        "print(a-b)\n",
        "print(a*b)\n",
        "print(a/b)\n",
        "print(a//b)"
      ],
      "metadata": {
        "colab": {
          "base_uri": "https://localhost:8080/"
        },
        "id": "LVTxVJNLzYDn",
        "outputId": "97013f38-05dd-4278-c8da-ad621c4c977d"
      },
      "execution_count": null,
      "outputs": [
        {
          "output_type": "stream",
          "name": "stdout",
          "text": [
            "[ 2  4  6  8 10]\n",
            "[0 0 0 0 0]\n",
            "[ 1  4  9 16 25]\n",
            "[1. 1. 1. 1. 1.]\n",
            "[1 1 1 1 1]\n"
          ]
        }
      ]
    },
    {
      "cell_type": "code",
      "source": [
        "print(a.sum())\n",
        "print(a.mean())\n",
        "print(a.min())\n",
        "print(a.max())\n",
        "print(a.argmin()) #index position of elemnt with max value\n",
        "print(a.argmax()) #index position of elemnt with min value"
      ],
      "metadata": {
        "colab": {
          "base_uri": "https://localhost:8080/"
        },
        "id": "ndjQxdCGz1JD",
        "outputId": "2686597c-5496-4ccd-9f6c-bd3327e0adbb"
      },
      "execution_count": null,
      "outputs": [
        {
          "output_type": "stream",
          "name": "stdout",
          "text": [
            "15\n",
            "3.0\n",
            "1\n",
            "5\n",
            "0\n",
            "4\n"
          ]
        }
      ]
    },
    {
      "cell_type": "code",
      "source": [
        "print(a==b)"
      ],
      "metadata": {
        "colab": {
          "base_uri": "https://localhost:8080/"
        },
        "id": "HMCvEkah0iLU",
        "outputId": "278d1db2-b612-45d9-f4f4-426a5d58b1ff"
      },
      "execution_count": null,
      "outputs": [
        {
          "output_type": "stream",
          "name": "stdout",
          "text": [
            "[ True  True  True  True  True]\n"
          ]
        }
      ]
    },
    {
      "cell_type": "code",
      "source": [
        "print(a==b)\n",
        "print(a>b)\n",
        "print(a<b)\n",
        "print(a<=b)"
      ],
      "metadata": {
        "colab": {
          "base_uri": "https://localhost:8080/"
        },
        "id": "ba4o0wYW0oU9",
        "outputId": "8ed468b9-2f41-447c-a254-b38323154bd2"
      },
      "execution_count": null,
      "outputs": [
        {
          "output_type": "stream",
          "name": "stdout",
          "text": [
            "[ True  True  True  True  True]\n",
            "[False False False False False]\n",
            "[False False False False False]\n",
            "[ True  True  True  True  True]\n"
          ]
        }
      ]
    },
    {
      "cell_type": "markdown",
      "source": [
        "argmin-index of minimum value\n",
        "argmax-index of maxmum value\n",
        "broadcasting-copyimg vaLUE\n",
        "for broadcasting any one of the dimension from two arrays should be same"
      ],
      "metadata": {
        "id": "yJQBarWHs8LY"
      }
    },
    {
      "cell_type": "code",
      "source": [
        "arr=np.arange(1,7)\n",
        "print(arr)\n",
        "arr[3:]=100\n",
        "print(arr)"
      ],
      "metadata": {
        "colab": {
          "base_uri": "https://localhost:8080/"
        },
        "id": "W58Vw2Zq1Rx8",
        "outputId": "36f023a0-330e-4a18-f65d-58e972b8106d"
      },
      "execution_count": null,
      "outputs": [
        {
          "output_type": "stream",
          "name": "stdout",
          "text": [
            "[1 2 3 4 5 6]\n",
            "[  1   2   3 100 100 100]\n"
          ]
        }
      ]
    },
    {
      "cell_type": "code",
      "source": [
        "arr1=np.arange(0,7)\n",
        "arr1[3:]=500\n",
        "print(arr1)"
      ],
      "metadata": {
        "colab": {
          "base_uri": "https://localhost:8080/"
        },
        "id": "KRbcoj0R1nDO",
        "outputId": "6d306f02-c577-419f-e66b-66e86ddc085b"
      },
      "execution_count": null,
      "outputs": [
        {
          "output_type": "stream",
          "name": "stdout",
          "text": [
            "[  0   1   2 500 500 500 500]\n"
          ]
        }
      ]
    },
    {
      "cell_type": "code",
      "source": [
        "arr2=arr.copy()\n",
        "print(arr2)"
      ],
      "metadata": {
        "colab": {
          "base_uri": "https://localhost:8080/"
        },
        "id": "hZ6YWha-15dC",
        "outputId": "42124fd3-62fc-400e-f39f-8d62bcdec502"
      },
      "execution_count": null,
      "outputs": [
        {
          "output_type": "stream",
          "name": "stdout",
          "text": [
            "[  1   2   3 100 100 100]\n"
          ]
        }
      ]
    },
    {
      "cell_type": "markdown",
      "source": [
        "**Broadcasting**\n",
        "\n",
        "broadcasting-copyimg vaLUE for broadcasting any one of the dimension from two arrays should be same"
      ],
      "metadata": {
        "id": "67BKmZVK2KB9"
      }
    },
    {
      "cell_type": "code",
      "source": [
        "x=np.random.randint(1,10,(3,3))\n",
        "y=np.random.randint(1,10,(3,1))\n",
        "print(x,\"\\n\",y)\n",
        "print(x-y)"
      ],
      "metadata": {
        "colab": {
          "base_uri": "https://localhost:8080/"
        },
        "id": "ddVJYo_J2E43",
        "outputId": "c0c47564-7f82-47d2-fd86-beb7d3242304"
      },
      "execution_count": null,
      "outputs": [
        {
          "output_type": "stream",
          "name": "stdout",
          "text": [
            "[[6 2 4]\n",
            " [4 2 2]\n",
            " [8 1 7]] \n",
            " [[4]\n",
            " [3]\n",
            " [9]]\n",
            "[[ 2 -2  0]\n",
            " [ 1 -1 -1]\n",
            " [-1 -8 -2]]\n"
          ]
        }
      ]
    },
    {
      "cell_type": "code",
      "source": [
        "x=np.random.randint(1,10,(3,2))\n",
        "y=np.random.randint(1,10,(2,1))\n",
        "print(x,\"\\n\",y) #ValueError: operands could not be broadcast together with shapes (3,2) (2,1) \n",
        "#here corresponding dimensions of two array is not same and broadcasting is not possible\n",
        "print(x-y)"
      ],
      "metadata": {
        "id": "Vn8rC80o24xL"
      },
      "execution_count": null,
      "outputs": []
    },
    {
      "cell_type": "markdown",
      "source": [
        "given an integer array of size 10\n",
        "print the index of elementswhich are multiple of 3\n",
        "note generate the following arrray\n",
        "array [1,3,5,7,9,11,13,15,17,19]"
      ],
      "metadata": {
        "id": "K2D7LE3p5V67"
      }
    },
    {
      "cell_type": "code",
      "source": [
        "arr1=np.array([1,3,5,7,9,11,13,15,17,19])\n",
        "list1=[]\n",
        "for i in range(len(arr1)):\n",
        "  if arr1[i]%3==0:\n",
        "    list1.append(i)\n",
        "print(list1)"
      ],
      "metadata": {
        "colab": {
          "base_uri": "https://localhost:8080/"
        },
        "id": "ZnDFnGrf3mpZ",
        "outputId": "647aea98-df49-41e4-f48b-10dc07c9ea30"
      },
      "execution_count": null,
      "outputs": [
        {
          "output_type": "stream",
          "name": "stdout",
          "text": [
            "[1, 4, 7]\n"
          ]
        }
      ]
    },
    {
      "cell_type": "code",
      "source": [
        "nparray=np.arange(1,20,2)\n",
        "for i in np.where(nparray%3==0):\n",
        "  print(i,end=\" \")\n"
      ],
      "metadata": {
        "colab": {
          "base_uri": "https://localhost:8080/"
        },
        "id": "3KrXg_Fa4wkd",
        "outputId": "4547a51e-87fa-4476-f75f-d54538c14aa9"
      },
      "execution_count": null,
      "outputs": [
        {
          "output_type": "stream",
          "name": "stdout",
          "text": [
            "[1 4 7] "
          ]
        }
      ]
    },
    {
      "cell_type": "code",
      "source": [
        "nparray=np.arange(1,20,2)\n",
        "for i in np.where(nparray%3==0)[0]:\n",
        "  print(i,end=\" \")\n"
      ],
      "metadata": {
        "colab": {
          "base_uri": "https://localhost:8080/"
        },
        "id": "JVx_Ns105KWf",
        "outputId": "081533bc-014d-42e0-9e16-80d20c118006"
      },
      "execution_count": null,
      "outputs": [
        {
          "output_type": "stream",
          "name": "stdout",
          "text": [
            "1 4 7 "
          ]
        }
      ]
    },
    {
      "cell_type": "code",
      "source": [
        "arr2=np.arange(1,11,1)\n",
        "arr2[arr2%2!=0]=-1\n",
        "arr2"
      ],
      "metadata": {
        "colab": {
          "base_uri": "https://localhost:8080/"
        },
        "id": "_jMVVFn_5_Ao",
        "outputId": "2ee2046d-d090-4415-a23c-5d2ddc7350c9"
      },
      "execution_count": null,
      "outputs": [
        {
          "output_type": "execute_result",
          "data": {
            "text/plain": [
              "array([-1,  2, -1,  4, -1,  6, -1,  8, -1, 10])"
            ]
          },
          "metadata": {},
          "execution_count": 42
        }
      ]
    },
    {
      "cell_type": "code",
      "source": [
        "arr2=np.arange(1,11,1)\n",
        "arrnew=arr2%2!=0\n",
        "arr2[arrnew]=-1\n",
        "arr2\n"
      ],
      "metadata": {
        "colab": {
          "base_uri": "https://localhost:8080/"
        },
        "id": "8ych_uXY7Jo_",
        "outputId": "e3e8ae24-7285-461e-c1ef-47760a90148a"
      },
      "execution_count": null,
      "outputs": [
        {
          "output_type": "execute_result",
          "data": {
            "text/plain": [
              "array([-1,  2, -1,  4, -1,  6, -1,  8, -1, 10])"
            ]
          },
          "metadata": {},
          "execution_count": 46
        }
      ]
    },
    {
      "cell_type": "markdown",
      "source": [
        "given an integer array of size 9 and replace the first occurances of max value by 0"
      ],
      "metadata": {
        "id": "SC-l9i1I4mQZ"
      }
    },
    {
      "cell_type": "code",
      "source": [
        "arr3=np.array([11,2,13,4,15,6,27,8,19])\n",
        "\n",
        "a=arr3.argmax()\n",
        "\n",
        "for i in range(len(arr3)):\n",
        "  if i==a:\n",
        "    arr3[i]=0\n",
        "print(arr3)\n"
      ],
      "metadata": {
        "colab": {
          "base_uri": "https://localhost:8080/"
        },
        "id": "Lv1ftZRj8Os2",
        "outputId": "adad6c30-4014-4cf2-9ede-abb0253bdff5"
      },
      "execution_count": null,
      "outputs": [
        {
          "output_type": "stream",
          "name": "stdout",
          "text": [
            "[11  2 13  4 15  6  0  8 19]\n"
          ]
        }
      ]
    },
    {
      "cell_type": "code",
      "source": [
        "arr3=np.array([1,2,13,4,15,6,27,8,19])\n",
        "index=arr3.argmax()\n",
        "arr3[index]=0\n",
        "print(arr3)\n"
      ],
      "metadata": {
        "colab": {
          "base_uri": "https://localhost:8080/"
        },
        "id": "CzPmuw2i9ZK2",
        "outputId": "1b4ba2b8-f74f-4b7a-ff20-8902af9abf4c"
      },
      "execution_count": null,
      "outputs": [
        {
          "output_type": "stream",
          "name": "stdout",
          "text": [
            "[ 1  2 13  4 15  6  0  8 19]\n"
          ]
        }
      ]
    },
    {
      "cell_type": "code",
      "source": [
        "arr3=np.array([1,2,13,4,15,6,27,8,19])\n",
        "index=arr3.argmax()\n",
        "arr3[index]=0\n",
        "print(arr3)\n"
      ],
      "metadata": {
        "id": "oBuSC8UB91Wc",
        "colab": {
          "base_uri": "https://localhost:8080/"
        },
        "outputId": "1c0a0bf4-5fb8-491e-de01-11d5e035d03d"
      },
      "execution_count": null,
      "outputs": [
        {
          "output_type": "stream",
          "name": "stdout",
          "text": [
            "[ 1  2 13  4 15  6  0  8 19]\n"
          ]
        }
      ]
    },
    {
      "cell_type": "code",
      "source": [
        "arr3=np.array([1,2,13,4,15,6,27,8,19])\n",
        "index=arr3.argmax()\n",
        "arr3[index]=0\n",
        "for i in arr3:\n",
        "  print(i,end=\" \")\n"
      ],
      "metadata": {
        "colab": {
          "base_uri": "https://localhost:8080/"
        },
        "id": "QnMKOt5u54BC",
        "outputId": "661cb4ba-cb57-490b-c019-556bebf7219d"
      },
      "execution_count": null,
      "outputs": [
        {
          "output_type": "stream",
          "name": "stdout",
          "text": [
            "1 2 13 4 15 6 0 8 19 "
          ]
        }
      ]
    },
    {
      "cell_type": "code",
      "source": [
        "import numpy as np\n",
        "arr3=np.array([1,2,13,4,15,6,27,8,19,27])\n",
        "index=arr3.argmax()\n",
        "arr3[index]=0\n",
        "print(arr3)\n"
      ],
      "metadata": {
        "id": "kuTuoW-S7f4Y",
        "colab": {
          "base_uri": "https://localhost:8080/"
        },
        "outputId": "23cacb4f-a9be-4440-a0e3-fe2e756a7601"
      },
      "execution_count": null,
      "outputs": [
        {
          "output_type": "stream",
          "name": "stdout",
          "text": [
            "[ 1  2 13  4 15  6  0  8 19 27]\n"
          ]
        }
      ]
    },
    {
      "cell_type": "markdown",
      "source": [
        "given 1d array , negate all elements(-3,-4,-5,-6,-7)\n",
        "which are between 3 and 8 \n",
        "for the following array arr4=np.arange(1,11,1)"
      ],
      "metadata": {
        "id": "wmP3iW946NIU"
      }
    },
    {
      "cell_type": "code",
      "source": [
        "arr4=np.arange(1,11,1)\n",
        "for i in range(len(arr4)):\n",
        "  if i>=3 and i<=8:\n",
        "    arr4[i]=arr4[i]*(-1)\n",
        "\n",
        "print(arr4)\n",
        "\n",
        "\n"
      ],
      "metadata": {
        "colab": {
          "base_uri": "https://localhost:8080/"
        },
        "id": "VUCsa8QF94U9",
        "outputId": "097dcbfa-6810-4371-e7c2-69b778398cb8"
      },
      "execution_count": null,
      "outputs": [
        {
          "output_type": "stream",
          "name": "stdout",
          "text": [
            "[ 1  2  3 -4 -5 -6 -7 -8 -9 10]\n"
          ]
        }
      ]
    },
    {
      "cell_type": "code",
      "source": [
        "np_array=np.arange(1,11,1)\n",
        "index=np.where((np_array>=3) & (np_array<=8))\n",
        "np_array[index]=np_array[index]*-1\n",
        "print(np_array)"
      ],
      "metadata": {
        "colab": {
          "base_uri": "https://localhost:8080/"
        },
        "id": "QaoisjfL8pat",
        "outputId": "ded03e7c-2d34-409a-da2e-37f47d4265fa"
      },
      "execution_count": null,
      "outputs": [
        {
          "output_type": "stream",
          "name": "stdout",
          "text": [
            "[ 1  2 -3 -4 -5 -6 -7 -8  9 10]\n"
          ]
        }
      ]
    },
    {
      "cell_type": "code",
      "source": [
        "arr=np.arange(1,11,1)\n",
        "for i in range(2,8):\n",
        "  arr[i]=arr[i]*-1\n",
        "print(arr)\n"
      ],
      "metadata": {
        "colab": {
          "base_uri": "https://localhost:8080/"
        },
        "id": "PecVyAAb9G6k",
        "outputId": "25a72734-da7f-43f1-b533-6142116ede39"
      },
      "execution_count": null,
      "outputs": [
        {
          "output_type": "stream",
          "name": "stdout",
          "text": [
            "[ 1  2 -3 -4 -5 -6 -7 -8  9 10]\n"
          ]
        }
      ]
    },
    {
      "cell_type": "code",
      "source": [
        "np_array1=np.arange(1,11,1)\n",
        "index=np.where((np_array1>=3) & (np_array1<=8))\n",
        "for i in index:\n",
        "  np_array1[index]=np.negative(np_array1[index])  #used function negative \n",
        "print(np_array1)"
      ],
      "metadata": {
        "colab": {
          "base_uri": "https://localhost:8080/"
        },
        "id": "wGNF66DJ9f21",
        "outputId": "b2cccd35-e2fc-4723-f8ce-99c341743ece"
      },
      "execution_count": null,
      "outputs": [
        {
          "output_type": "stream",
          "name": "stdout",
          "text": [
            "[ 1  2 -3 -4 -5 -6 -7 -8  9 10]\n"
          ]
        }
      ]
    },
    {
      "cell_type": "code",
      "source": [
        "arr4=np.arange(1,11,1)\n",
        "for i in range(len(arr4)):\n",
        "  if arr4[i]>=3 and arr4[i]<=8:\n",
        "    arr4[i]=arr4[i]*(-1)\n",
        "\n",
        "print(arr4)\n",
        "\n",
        "\n"
      ],
      "metadata": {
        "colab": {
          "base_uri": "https://localhost:8080/"
        },
        "id": "4AWvOKQP_CqN",
        "outputId": "ff00d75e-05b0-49ba-e6c9-01e422f5d823"
      },
      "execution_count": null,
      "outputs": [
        {
          "output_type": "stream",
          "name": "stdout",
          "text": [
            "[ 1  2 -3 -4 -5 -6 -7 -8  9 10]\n"
          ]
        }
      ]
    },
    {
      "cell_type": "code",
      "source": [
        "import numpy as np\n",
        "\n",
        "arr = np.arange(11)\n",
        "\n",
        "arr[3:9] = np.multiply(arr[3:9],-1)\n",
        "\n",
        "print(arr)\n"
      ],
      "metadata": {
        "colab": {
          "base_uri": "https://localhost:8080/"
        },
        "id": "Q6GTMbQ2_XzN",
        "outputId": "9e574487-26eb-44d3-ffe3-0fc7d67a95ba"
      },
      "execution_count": null,
      "outputs": [
        {
          "output_type": "stream",
          "name": "stdout",
          "text": [
            "[ 0  1  2 -3 -4 -5 -6 -7 -8  9 10]\n"
          ]
        }
      ]
    },
    {
      "cell_type": "code",
      "source": [
        "arr=np.arange(1,11)\n",
        "for i in range (2,8):\n",
        "    arr[i]=-arr[i]\n",
        "\n",
        "print(arr)\n"
      ],
      "metadata": {
        "colab": {
          "base_uri": "https://localhost:8080/"
        },
        "id": "dNqiZlvx_pQK",
        "outputId": "ed0acf08-dd28-494b-88aa-89f1ec4a219c"
      },
      "execution_count": null,
      "outputs": [
        {
          "output_type": "stream",
          "name": "stdout",
          "text": [
            "[ 1  2 -3 -4 -5 -6 -7 -8  9 10]\n"
          ]
        }
      ]
    },
    {
      "cell_type": "code",
      "source": [
        "a=np.arange(1,11)\n",
        "for i in range(2,8):\n",
        "  a[i]=-(a[i])\n",
        "  print(a[i],end=' ')\n"
      ],
      "metadata": {
        "colab": {
          "base_uri": "https://localhost:8080/"
        },
        "id": "h-9lzZJV_zwE",
        "outputId": "10ff1b4b-0065-48f4-8c72-7002b3925c0e"
      },
      "execution_count": null,
      "outputs": [
        {
          "output_type": "stream",
          "name": "stdout",
          "text": [
            "-3 -4 -5 -6 -7 -8 "
          ]
        }
      ]
    },
    {
      "cell_type": "code",
      "source": [
        "num_list = [21,13,19,3,11,5,18] num_list.sort() num_list[len(num_list) // 2] \n"
      ],
      "metadata": {
        "id": "sbq_rzYf1WuU",
        "outputId": "baa80aa5-7ecc-4243-c2c0-869cf9fc5340",
        "colab": {
          "base_uri": "https://localhost:8080/",
          "height": 130
        }
      },
      "execution_count": null,
      "outputs": [
        {
          "output_type": "error",
          "ename": "SyntaxError",
          "evalue": "ignored",
          "traceback": [
            "\u001b[0;36m  File \u001b[0;32m\"<ipython-input-1-34003b72fe0b>\"\u001b[0;36m, line \u001b[0;32m1\u001b[0m\n\u001b[0;31m    num_list = [21,13,19,3,11,5,18] num_list.sort() num_list[len(num_list) // 2]\u001b[0m\n\u001b[0m                                           ^\u001b[0m\n\u001b[0;31mSyntaxError\u001b[0m\u001b[0;31m:\u001b[0m invalid syntax\n"
          ]
        }
      ]
    },
    {
      "cell_type": "markdown",
      "source": [
        "https://www.practicaldatascience.org/html/exercises/Exercise_numpy.html"
      ],
      "metadata": {
        "id": "4PfUNS9wzx4-"
      }
    },
    {
      "cell_type": "markdown",
      "source": [
        "Exercise 1\n",
        "First, lets make a common array to work with."
      ],
      "metadata": {
        "id": "UMUr8hsXA57H"
      }
    },
    {
      "cell_type": "code",
      "source": [
        "import numpy as np\n",
        "n=np.random.randint(1,10)\n",
        "print(n)"
      ],
      "metadata": {
        "colab": {
          "base_uri": "https://localhost:8080/"
        },
        "id": "cQh_R04-z0Rw",
        "outputId": "7413dfe4-33a1-48b7-f789-47f2394ce4b7"
      },
      "execution_count": null,
      "outputs": [
        {
          "output_type": "stream",
          "name": "stdout",
          "text": [
            "2\n"
          ]
        }
      ]
    },
    {
      "cell_type": "code",
      "source": [
        "import numpy as np\n",
        "\n",
        "n=np.random.randint(1,10)\n",
        "print(n)"
      ],
      "metadata": {
        "id": "3FmDuQTB0HYb"
      },
      "execution_count": null,
      "outputs": []
    },
    {
      "cell_type": "code",
      "source": [
        "import numpy as np\n",
        "for i in range(5):\n",
        "  n=np.random.randint(1,10)\n",
        "  print(n)"
      ],
      "metadata": {
        "colab": {
          "base_uri": "https://localhost:8080/"
        },
        "id": "19KsjzVN0UoK",
        "outputId": "17f1f5af-6cff-4257-ea4d-9047dbc444dc"
      },
      "execution_count": null,
      "outputs": [
        {
          "output_type": "stream",
          "name": "stdout",
          "text": [
            "3\n",
            "7\n",
            "8\n",
            "5\n",
            "6\n"
          ]
        }
      ]
    },
    {
      "cell_type": "markdown",
      "source": [
        "**Seed function** is used to save the state of a random function, so that it can generate same random numbers on multiple executions of the code on the same machine or on different machines (for a specific seed value)\n",
        "random.randint-generates random number but with each execution it gives different number"
      ],
      "metadata": {
        "id": "nHJ9ObSK01Rr"
      }
    },
    {
      "cell_type": "code",
      "source": [
        "import numpy as np\n",
        "\n",
        "for i in range(5):\n",
        "  np.random.seed(0)\n",
        "  n=np.random.randint(1,10)\n",
        "  print(n)"
      ],
      "metadata": {
        "colab": {
          "base_uri": "https://localhost:8080/"
        },
        "id": "Unm8YmoG0dwP",
        "outputId": "cd1727cd-060d-44a5-b986-0d32f08040ac"
      },
      "execution_count": null,
      "outputs": [
        {
          "output_type": "stream",
          "name": "stdout",
          "text": [
            "6\n",
            "6\n",
            "6\n",
            "6\n",
            "6\n"
          ]
        }
      ]
    },
    {
      "cell_type": "code",
      "source": [
        "import numpy as np\n",
        "np.random.seed(21) # This guarantees the code will generate the same set of random numbers whenever executed\n",
        "random_integers = np.random.randint(1,high=500000, size=(20, 5))\n",
        "random_integers"
      ],
      "metadata": {
        "colab": {
          "base_uri": "https://localhost:8080/"
        },
        "id": "YtK8KdMi1aj4",
        "outputId": "658b56c3-652e-4026-aded-fdc8e3a45ad0"
      },
      "execution_count": null,
      "outputs": [
        {
          "output_type": "execute_result",
          "data": {
            "text/plain": [
              "array([[ 80842, 333008, 202553, 140037,  81969],\n",
              "       [ 63857,  42105, 261540, 481981, 176739],\n",
              "       [489984, 326386, 110795, 394863,  25024],\n",
              "       [ 38317,  49982, 408830, 485118,  16119],\n",
              "       [407675, 231729, 265455, 109413, 103399],\n",
              "       [174677, 343356, 301717, 224120, 401101],\n",
              "       [140473, 254634, 112262,  25063, 108262],\n",
              "       [375059, 406983, 208947, 115641, 296685],\n",
              "       [444899, 129585, 171318, 313094, 425041],\n",
              "       [188411, 335140, 141681,  59641, 211420],\n",
              "       [287650,   8973, 477425, 382803, 465168],\n",
              "       [  3975,  32213, 160603, 275485, 388234],\n",
              "       [246225,  56174, 244097,   9350, 496966],\n",
              "       [225516, 273338,  73335, 283013, 212813],\n",
              "       [ 38175, 282399, 318413, 337639, 379802],\n",
              "       [198049, 101115, 419547, 260219, 325793],\n",
              "       [148593, 425024, 348570, 117968, 107007],\n",
              "       [ 52547, 180346, 178760, 305186, 262153],\n",
              "       [ 11835, 449971, 494184, 472031, 353049],\n",
              "       [476442,  35455, 191553, 384154,  29917]])"
            ]
          },
          "metadata": {},
          "execution_count": 6
        }
      ]
    },
    {
      "cell_type": "code",
      "source": [],
      "metadata": {
        "id": "pFlUX6C36gVL"
      },
      "execution_count": null,
      "outputs": []
    },
    {
      "cell_type": "markdown",
      "source": [
        "Exercise 2"
      ],
      "metadata": {
        "id": "cVVYUpQHBEJR"
      }
    },
    {
      "cell_type": "markdown",
      "source": [
        "What is the average value of the second column (to two decimal places)\n",
        "\n"
      ],
      "metadata": {
        "id": "5ZE15oXJ13Lt"
      }
    },
    {
      "cell_type": "code",
      "source": [
        "import numpy as np\n",
        "for i in range(5):\n",
        "  np.random.seed(0)\n",
        "  n=np.random.randint(1,10,size=(4,3))\n",
        "  averegrage=np.average(n,axis=0)[0]\n",
        "  print(n,averegrage)"
      ],
      "metadata": {
        "colab": {
          "base_uri": "https://localhost:8080/"
        },
        "id": "zcRbaylz2nMr",
        "outputId": "8764d0b7-8a9e-4456-d063-ce0acd665312"
      },
      "execution_count": null,
      "outputs": [
        {
          "output_type": "stream",
          "name": "stdout",
          "text": [
            "[[6 1 4]\n",
            " [4 8 4]\n",
            " [6 3 5]\n",
            " [8 7 9]] 6.0\n",
            "[[6 1 4]\n",
            " [4 8 4]\n",
            " [6 3 5]\n",
            " [8 7 9]] 6.0\n",
            "[[6 1 4]\n",
            " [4 8 4]\n",
            " [6 3 5]\n",
            " [8 7 9]] 6.0\n",
            "[[6 1 4]\n",
            " [4 8 4]\n",
            " [6 3 5]\n",
            " [8 7 9]] 6.0\n",
            "[[6 1 4]\n",
            " [4 8 4]\n",
            " [6 3 5]\n",
            " [8 7 9]] 6.0\n"
          ]
        }
      ]
    },
    {
      "cell_type": "markdown",
      "source": [
        "axis=1 means row-wise or column-wise."
      ],
      "metadata": {
        "id": "1vP2w96s3kvc"
      }
    },
    {
      "cell_type": "code",
      "source": [
        "\n",
        "np.average(random_integers,axis=0)[1]"
      ],
      "metadata": {
        "colab": {
          "base_uri": "https://localhost:8080/"
        },
        "id": "1WzT5cqr6CUM",
        "outputId": "bf5f7ad9-1e65-40a5-be95-bc4ff1546d4a"
      },
      "execution_count": null,
      "outputs": [
        {
          "output_type": "execute_result",
          "data": {
            "text/plain": [
              "214895.8"
            ]
          },
          "metadata": {},
          "execution_count": 20
        }
      ]
    },
    {
      "cell_type": "code",
      "source": [
        "#np.set_printoptions(precision = 2)\n",
        "a=np.average(random_integers,axis=0)[1]\n",
        "a = np.around(a, 3)\n",
        "a\n"
      ],
      "metadata": {
        "colab": {
          "base_uri": "https://localhost:8080/"
        },
        "id": "stLoB84x7vqT",
        "outputId": "d07b7cf9-acc0-4323-9343-114b22d76305"
      },
      "execution_count": null,
      "outputs": [
        {
          "output_type": "execute_result",
          "data": {
            "text/plain": [
              "214895.8"
            ]
          },
          "metadata": {},
          "execution_count": 25
        }
      ]
    },
    {
      "cell_type": "code",
      "source": [
        "#np.set_printoptions(precision = 2)\n",
        "a=np.average(random_integers,axis=0)\n",
        "a"
      ],
      "metadata": {
        "colab": {
          "base_uri": "https://localhost:8080/"
        },
        "id": "or2P6lCP8kL_",
        "outputId": "6f511064-3111-4775-eb7d-a34bbc5d1cfc"
      },
      "execution_count": null,
      "outputs": [
        {
          "output_type": "execute_result",
          "data": {
            "text/plain": [
              "array([204660.05, 214895.8 , 254579.25, 258840.95, 243333.05])"
            ]
          },
          "metadata": {},
          "execution_count": 28
        }
      ]
    },
    {
      "cell_type": "code",
      "source": [
        "a = np.random.random((3,3))\n",
        "print(a)\n",
        "a = np.around(a, 1)\n",
        "print(a)"
      ],
      "metadata": {
        "colab": {
          "base_uri": "https://localhost:8080/"
        },
        "id": "ofKfLO9D87Fl",
        "outputId": "e1b817e6-8b22-4f48-9e87-499a0328b5a7"
      },
      "execution_count": null,
      "outputs": [
        {
          "output_type": "stream",
          "name": "stdout",
          "text": [
            "[[0.83 0.78 0.87]\n",
            " [0.98 0.8  0.46]\n",
            " [0.78 0.12 0.64]]\n",
            "[[0.8 0.8 0.9]\n",
            " [1.  0.8 0.5]\n",
            " [0.8 0.1 0.6]]\n"
          ]
        }
      ]
    },
    {
      "cell_type": "code",
      "source": [
        "a = np.random.random((3,3))\n",
        "print(a)"
      ],
      "metadata": {
        "colab": {
          "base_uri": "https://localhost:8080/"
        },
        "id": "dsocLyN39HxI",
        "outputId": "b2a9837c-954e-4528-9276-4d1bbeb960d1"
      },
      "execution_count": null,
      "outputs": [
        {
          "output_type": "stream",
          "name": "stdout",
          "text": [
            "[[0.62 0.61 0.62]\n",
            " [0.94 0.68 0.36]\n",
            " [0.44 0.7  0.06]]\n"
          ]
        }
      ]
    },
    {
      "cell_type": "code",
      "source": [
        "np.set_printoptions(precision = 1)\n",
        "print(a)"
      ],
      "metadata": {
        "colab": {
          "base_uri": "https://localhost:8080/"
        },
        "id": "G1LF30lz9PuQ",
        "outputId": "3b0a09fc-2edb-4c8d-92c5-3384e309f3b1"
      },
      "execution_count": null,
      "outputs": [
        {
          "output_type": "stream",
          "name": "stdout",
          "text": [
            "[[0.6 0.6 0.6]\n",
            " [0.9 0.7 0.4]\n",
            " [0.4 0.7 0.1]]\n"
          ]
        }
      ]
    },
    {
      "cell_type": "code",
      "source": [
        "sum1=np.average(random_integers[:,1])\n",
        "sum1"
      ],
      "metadata": {
        "colab": {
          "base_uri": "https://localhost:8080/"
        },
        "id": "fNzRdIPt6Suc",
        "outputId": "f09ed13c-27cf-4015-a457-ea80db7e834e"
      },
      "execution_count": null,
      "outputs": [
        {
          "output_type": "execute_result",
          "data": {
            "text/plain": [
              "214895.8"
            ]
          },
          "metadata": {},
          "execution_count": 21
        }
      ]
    },
    {
      "cell_type": "markdown",
      "source": [
        "Exercise 3"
      ],
      "metadata": {
        "id": "6O00W1KiBLpl"
      }
    },
    {
      "cell_type": "markdown",
      "source": [
        "What is the average value of the first 5 rows of the third and fourth columns?"
      ],
      "metadata": {
        "id": "HSptxYaX9ffn"
      }
    },
    {
      "cell_type": "code",
      "source": [
        "s=np.average(random_integers[5:])\n",
        "s"
      ],
      "metadata": {
        "colab": {
          "base_uri": "https://localhost:8080/"
        },
        "id": "LXYTT93p9gtl",
        "outputId": "fd4db005-3e9e-4d07-9000-619326411cb9"
      },
      "execution_count": null,
      "outputs": [
        {
          "output_type": "execute_result",
          "data": {
            "text/plain": [
              "242646.16"
            ]
          },
          "metadata": {},
          "execution_count": 35
        }
      ]
    },
    {
      "cell_type": "code",
      "source": [
        "s1=random_integers[:5,3]\n",
        "print(s1)\n",
        "print(np.average(s1))\n"
      ],
      "metadata": {
        "colab": {
          "base_uri": "https://localhost:8080/"
        },
        "id": "fgXspBFH-tr6",
        "outputId": "f407e38d-1413-4a26-8db5-a809167cfa07"
      },
      "execution_count": null,
      "outputs": [
        {
          "output_type": "stream",
          "name": "stdout",
          "text": [
            "[140037 481981 394863 485118 109413]\n",
            "322282.4\n"
          ]
        }
      ]
    },
    {
      "cell_type": "markdown",
      "source": [
        "Exercise 4\n",
        "Example for braodcasting"
      ],
      "metadata": {
        "id": "-oVZnJ2IAggm"
      }
    },
    {
      "cell_type": "code",
      "source": [
        "import numpy as np\n",
        "first_matrix = np.array([[1, 2, 3], [4, 5, 6]])\n",
        "print(first_matrix)"
      ],
      "metadata": {
        "colab": {
          "base_uri": "https://localhost:8080/"
        },
        "id": "5FgaCSPeAkN0",
        "outputId": "5e877a30-eb2c-4447-991f-3244be740115"
      },
      "execution_count": null,
      "outputs": [
        {
          "output_type": "stream",
          "name": "stdout",
          "text": [
            "[[1 2 3]\n",
            " [4 5 6]]\n"
          ]
        }
      ]
    },
    {
      "cell_type": "code",
      "source": [
        "second_matrix = np.array([1, 2, 3])\n",
        "print(second_matrix)"
      ],
      "metadata": {
        "colab": {
          "base_uri": "https://localhost:8080/"
        },
        "id": "ZY1oxYMbAoSi",
        "outputId": "6c9d92bf-883c-4d88-e64b-a30fea4c37d5"
      },
      "execution_count": null,
      "outputs": [
        {
          "output_type": "stream",
          "name": "stdout",
          "text": [
            "[1 2 3]\n"
          ]
        }
      ]
    },
    {
      "cell_type": "code",
      "source": [
        "print(first_matrix + second_matrix)"
      ],
      "metadata": {
        "colab": {
          "base_uri": "https://localhost:8080/"
        },
        "id": "TcMr_sDPAruI",
        "outputId": "e4783c92-3cad-4096-9391-6d046f22df47"
      },
      "execution_count": null,
      "outputs": [
        {
          "output_type": "stream",
          "name": "stdout",
          "text": [
            "[[2 4 6]\n",
            " [5 7 9]]\n"
          ]
        }
      ]
    },
    {
      "cell_type": "markdown",
      "source": [
        "Execise 5¶\n",
        "Keep Python Closed! Write down the final result of the following code:\n",
        "boolean indexing"
      ],
      "metadata": {
        "id": "dBVuaSnxBY09"
      }
    },
    {
      "cell_type": "code",
      "source": [
        "my_vector = np.array([1, 2, 3, 4, 5, 6])\n",
        "selection = my_vector % 2 == 0\n",
        "print(selection)\n",
        "my_vector[selection]"
      ],
      "metadata": {
        "colab": {
          "base_uri": "https://localhost:8080/"
        },
        "id": "k7I5ZD4kBZEs",
        "outputId": "e9d52d4e-5351-4565-e4d5-08e28fcc576f"
      },
      "execution_count": null,
      "outputs": [
        {
          "output_type": "stream",
          "name": "stdout",
          "text": [
            "[False  True False  True False  True]\n"
          ]
        },
        {
          "output_type": "execute_result",
          "data": {
            "text/plain": [
              "array([2, 4, 6])"
            ]
          },
          "metadata": {},
          "execution_count": 47
        }
      ]
    },
    {
      "cell_type": "markdown",
      "source": [],
      "metadata": {
        "id": "6lKbhlJwBo5R"
      }
    }
  ]
}