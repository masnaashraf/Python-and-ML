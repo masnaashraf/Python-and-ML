{
  "nbformat": 4,
  "nbformat_minor": 0,
  "metadata": {
    "colab": {
      "provenance": [],
      "authorship_tag": "ABX9TyPkHorzn7S6Qtvr5Mw/KFzl",
      "include_colab_link": true
    },
    "kernelspec": {
      "name": "python3",
      "display_name": "Python 3"
    },
    "language_info": {
      "name": "python"
    }
  },
  "cells": [
    {
      "cell_type": "markdown",
      "metadata": {
        "id": "view-in-github",
        "colab_type": "text"
      },
      "source": [
        "<a href=\"https://colab.research.google.com/github/masnaashraf/Python-and-ML/blob/main/logistic_regression_Random_Forest.ipynb\" target=\"_parent\"><img src=\"https://colab.research.google.com/assets/colab-badge.svg\" alt=\"Open In Colab\"/></a>"
      ]
    },
    {
      "cell_type": "code",
      "execution_count": null,
      "metadata": {
        "id": "AP0RQzb32t76"
      },
      "outputs": [],
      "source": [
        "#employee performance dataset\n",
        "#Dependend variable-attrition"
      ]
    },
    {
      "cell_type": "code",
      "source": [
        "import pandas as pd\n",
        "import numpy as np\n",
        "from sklearn.linear_model import LinearRegression\n",
        "lr= LinearRegression()\n",
        "from sklearn.ensemble import RandomForestRegressor\n",
        "rfr= RandomForestRegressor(random_state=42)\n",
        "\n",
        "from sklearn.linear_model import LogisticRegression\n",
        "log= LogisticRegression()\n",
        "from sklearn.ensemble import RandomForestClassifier\n",
        "rfc= RandomForestClassifier(random_state=42)\n",
        "\n",
        "# simple imputer\n",
        "from sklearn.experimental import enable_iterative_imputer\n",
        "from sklearn.impute import IterativeImputer\n",
        "\n",
        "#KNN Imputer\n",
        "from sklearn.impute import KNNImputer\n",
        "\n",
        "import warnings\n",
        "warnings.filterwarnings(\"ignore\")\n"
      ],
      "metadata": {
        "id": "z--N8UPX4W85"
      },
      "execution_count": null,
      "outputs": []
    },
    {
      "cell_type": "code",
      "source": [
        "emppr=pd.read_csv(\"/content/Employee_Performance.csv\")\n",
        "emppr.head()\n"
      ],
      "metadata": {
        "colab": {
          "base_uri": "https://localhost:8080/",
          "height": 386
        },
        "id": "qmcz-Fna3Y0i",
        "outputId": "02ec24f8-22d0-4367-c3f8-35676228f6e8"
      },
      "execution_count": null,
      "outputs": [
        {
          "output_type": "execute_result",
          "data": {
            "text/plain": [
              "  EmpNumber  Age Gender EducationBackground MaritalStatus    EmpDepartment  \\\n",
              "0  E1001000   32   Male           Marketing        Single            Sales   \n",
              "1  E1001006   47   Male           Marketing        Single            Sales   \n",
              "2  E1001007   40   Male       Life Sciences       Married            Sales   \n",
              "3  E1001009   41   Male     Human Resources      Divorced  Human Resources   \n",
              "4  E1001010   60   Male           Marketing        Single            Sales   \n",
              "\n",
              "        EmpJobRole BusinessTravelFrequency  DistanceFromHome  \\\n",
              "0  Sales Executive           Travel_Rarely                10   \n",
              "1  Sales Executive           Travel_Rarely                14   \n",
              "2  Sales Executive       Travel_Frequently                 5   \n",
              "3          Manager           Travel_Rarely                10   \n",
              "4  Sales Executive           Travel_Rarely                16   \n",
              "\n",
              "   EmpEducationLevel  ...  EmpRelationshipSatisfaction  \\\n",
              "0                  3  ...                            4   \n",
              "1                  4  ...                            4   \n",
              "2                  4  ...                            3   \n",
              "3                  4  ...                            2   \n",
              "4                  4  ...                            4   \n",
              "\n",
              "   TotalWorkExperienceInYears  TrainingTimesLastYear  EmpWorkLifeBalance  \\\n",
              "0                          10                      2                   2   \n",
              "1                          20                      2                   3   \n",
              "2                          20                      2                   3   \n",
              "3                          23                      2                   2   \n",
              "4                          10                      1                   3   \n",
              "\n",
              "   ExperienceYearsAtThisCompany  ExperienceYearsInCurrentRole  \\\n",
              "0                            10                             7   \n",
              "1                             7                             7   \n",
              "2                            18                            13   \n",
              "3                            21                             6   \n",
              "4                             2                             2   \n",
              "\n",
              "  YearsSinceLastPromotion  YearsWithCurrManager  Attrition  PerformanceRating  \n",
              "0                       0                     8         No                  3  \n",
              "1                       1                     7         No                  3  \n",
              "2                       1                    12         No                  4  \n",
              "3                      12                     6         No                  3  \n",
              "4                       2                     2         No                  3  \n",
              "\n",
              "[5 rows x 28 columns]"
            ],
            "text/html": [
              "\n",
              "  <div id=\"df-987e92f6-797d-40b3-b3c2-e28da0623f45\">\n",
              "    <div class=\"colab-df-container\">\n",
              "      <div>\n",
              "<style scoped>\n",
              "    .dataframe tbody tr th:only-of-type {\n",
              "        vertical-align: middle;\n",
              "    }\n",
              "\n",
              "    .dataframe tbody tr th {\n",
              "        vertical-align: top;\n",
              "    }\n",
              "\n",
              "    .dataframe thead th {\n",
              "        text-align: right;\n",
              "    }\n",
              "</style>\n",
              "<table border=\"1\" class=\"dataframe\">\n",
              "  <thead>\n",
              "    <tr style=\"text-align: right;\">\n",
              "      <th></th>\n",
              "      <th>EmpNumber</th>\n",
              "      <th>Age</th>\n",
              "      <th>Gender</th>\n",
              "      <th>EducationBackground</th>\n",
              "      <th>MaritalStatus</th>\n",
              "      <th>EmpDepartment</th>\n",
              "      <th>EmpJobRole</th>\n",
              "      <th>BusinessTravelFrequency</th>\n",
              "      <th>DistanceFromHome</th>\n",
              "      <th>EmpEducationLevel</th>\n",
              "      <th>...</th>\n",
              "      <th>EmpRelationshipSatisfaction</th>\n",
              "      <th>TotalWorkExperienceInYears</th>\n",
              "      <th>TrainingTimesLastYear</th>\n",
              "      <th>EmpWorkLifeBalance</th>\n",
              "      <th>ExperienceYearsAtThisCompany</th>\n",
              "      <th>ExperienceYearsInCurrentRole</th>\n",
              "      <th>YearsSinceLastPromotion</th>\n",
              "      <th>YearsWithCurrManager</th>\n",
              "      <th>Attrition</th>\n",
              "      <th>PerformanceRating</th>\n",
              "    </tr>\n",
              "  </thead>\n",
              "  <tbody>\n",
              "    <tr>\n",
              "      <th>0</th>\n",
              "      <td>E1001000</td>\n",
              "      <td>32</td>\n",
              "      <td>Male</td>\n",
              "      <td>Marketing</td>\n",
              "      <td>Single</td>\n",
              "      <td>Sales</td>\n",
              "      <td>Sales Executive</td>\n",
              "      <td>Travel_Rarely</td>\n",
              "      <td>10</td>\n",
              "      <td>3</td>\n",
              "      <td>...</td>\n",
              "      <td>4</td>\n",
              "      <td>10</td>\n",
              "      <td>2</td>\n",
              "      <td>2</td>\n",
              "      <td>10</td>\n",
              "      <td>7</td>\n",
              "      <td>0</td>\n",
              "      <td>8</td>\n",
              "      <td>No</td>\n",
              "      <td>3</td>\n",
              "    </tr>\n",
              "    <tr>\n",
              "      <th>1</th>\n",
              "      <td>E1001006</td>\n",
              "      <td>47</td>\n",
              "      <td>Male</td>\n",
              "      <td>Marketing</td>\n",
              "      <td>Single</td>\n",
              "      <td>Sales</td>\n",
              "      <td>Sales Executive</td>\n",
              "      <td>Travel_Rarely</td>\n",
              "      <td>14</td>\n",
              "      <td>4</td>\n",
              "      <td>...</td>\n",
              "      <td>4</td>\n",
              "      <td>20</td>\n",
              "      <td>2</td>\n",
              "      <td>3</td>\n",
              "      <td>7</td>\n",
              "      <td>7</td>\n",
              "      <td>1</td>\n",
              "      <td>7</td>\n",
              "      <td>No</td>\n",
              "      <td>3</td>\n",
              "    </tr>\n",
              "    <tr>\n",
              "      <th>2</th>\n",
              "      <td>E1001007</td>\n",
              "      <td>40</td>\n",
              "      <td>Male</td>\n",
              "      <td>Life Sciences</td>\n",
              "      <td>Married</td>\n",
              "      <td>Sales</td>\n",
              "      <td>Sales Executive</td>\n",
              "      <td>Travel_Frequently</td>\n",
              "      <td>5</td>\n",
              "      <td>4</td>\n",
              "      <td>...</td>\n",
              "      <td>3</td>\n",
              "      <td>20</td>\n",
              "      <td>2</td>\n",
              "      <td>3</td>\n",
              "      <td>18</td>\n",
              "      <td>13</td>\n",
              "      <td>1</td>\n",
              "      <td>12</td>\n",
              "      <td>No</td>\n",
              "      <td>4</td>\n",
              "    </tr>\n",
              "    <tr>\n",
              "      <th>3</th>\n",
              "      <td>E1001009</td>\n",
              "      <td>41</td>\n",
              "      <td>Male</td>\n",
              "      <td>Human Resources</td>\n",
              "      <td>Divorced</td>\n",
              "      <td>Human Resources</td>\n",
              "      <td>Manager</td>\n",
              "      <td>Travel_Rarely</td>\n",
              "      <td>10</td>\n",
              "      <td>4</td>\n",
              "      <td>...</td>\n",
              "      <td>2</td>\n",
              "      <td>23</td>\n",
              "      <td>2</td>\n",
              "      <td>2</td>\n",
              "      <td>21</td>\n",
              "      <td>6</td>\n",
              "      <td>12</td>\n",
              "      <td>6</td>\n",
              "      <td>No</td>\n",
              "      <td>3</td>\n",
              "    </tr>\n",
              "    <tr>\n",
              "      <th>4</th>\n",
              "      <td>E1001010</td>\n",
              "      <td>60</td>\n",
              "      <td>Male</td>\n",
              "      <td>Marketing</td>\n",
              "      <td>Single</td>\n",
              "      <td>Sales</td>\n",
              "      <td>Sales Executive</td>\n",
              "      <td>Travel_Rarely</td>\n",
              "      <td>16</td>\n",
              "      <td>4</td>\n",
              "      <td>...</td>\n",
              "      <td>4</td>\n",
              "      <td>10</td>\n",
              "      <td>1</td>\n",
              "      <td>3</td>\n",
              "      <td>2</td>\n",
              "      <td>2</td>\n",
              "      <td>2</td>\n",
              "      <td>2</td>\n",
              "      <td>No</td>\n",
              "      <td>3</td>\n",
              "    </tr>\n",
              "  </tbody>\n",
              "</table>\n",
              "<p>5 rows × 28 columns</p>\n",
              "</div>\n",
              "      <button class=\"colab-df-convert\" onclick=\"convertToInteractive('df-987e92f6-797d-40b3-b3c2-e28da0623f45')\"\n",
              "              title=\"Convert this dataframe to an interactive table.\"\n",
              "              style=\"display:none;\">\n",
              "        \n",
              "  <svg xmlns=\"http://www.w3.org/2000/svg\" height=\"24px\"viewBox=\"0 0 24 24\"\n",
              "       width=\"24px\">\n",
              "    <path d=\"M0 0h24v24H0V0z\" fill=\"none\"/>\n",
              "    <path d=\"M18.56 5.44l.94 2.06.94-2.06 2.06-.94-2.06-.94-.94-2.06-.94 2.06-2.06.94zm-11 1L8.5 8.5l.94-2.06 2.06-.94-2.06-.94L8.5 2.5l-.94 2.06-2.06.94zm10 10l.94 2.06.94-2.06 2.06-.94-2.06-.94-.94-2.06-.94 2.06-2.06.94z\"/><path d=\"M17.41 7.96l-1.37-1.37c-.4-.4-.92-.59-1.43-.59-.52 0-1.04.2-1.43.59L10.3 9.45l-7.72 7.72c-.78.78-.78 2.05 0 2.83L4 21.41c.39.39.9.59 1.41.59.51 0 1.02-.2 1.41-.59l7.78-7.78 2.81-2.81c.8-.78.8-2.07 0-2.86zM5.41 20L4 18.59l7.72-7.72 1.47 1.35L5.41 20z\"/>\n",
              "  </svg>\n",
              "      </button>\n",
              "      \n",
              "  <style>\n",
              "    .colab-df-container {\n",
              "      display:flex;\n",
              "      flex-wrap:wrap;\n",
              "      gap: 12px;\n",
              "    }\n",
              "\n",
              "    .colab-df-convert {\n",
              "      background-color: #E8F0FE;\n",
              "      border: none;\n",
              "      border-radius: 50%;\n",
              "      cursor: pointer;\n",
              "      display: none;\n",
              "      fill: #1967D2;\n",
              "      height: 32px;\n",
              "      padding: 0 0 0 0;\n",
              "      width: 32px;\n",
              "    }\n",
              "\n",
              "    .colab-df-convert:hover {\n",
              "      background-color: #E2EBFA;\n",
              "      box-shadow: 0px 1px 2px rgba(60, 64, 67, 0.3), 0px 1px 3px 1px rgba(60, 64, 67, 0.15);\n",
              "      fill: #174EA6;\n",
              "    }\n",
              "\n",
              "    [theme=dark] .colab-df-convert {\n",
              "      background-color: #3B4455;\n",
              "      fill: #D2E3FC;\n",
              "    }\n",
              "\n",
              "    [theme=dark] .colab-df-convert:hover {\n",
              "      background-color: #434B5C;\n",
              "      box-shadow: 0px 1px 3px 1px rgba(0, 0, 0, 0.15);\n",
              "      filter: drop-shadow(0px 1px 2px rgba(0, 0, 0, 0.3));\n",
              "      fill: #FFFFFF;\n",
              "    }\n",
              "  </style>\n",
              "\n",
              "      <script>\n",
              "        const buttonEl =\n",
              "          document.querySelector('#df-987e92f6-797d-40b3-b3c2-e28da0623f45 button.colab-df-convert');\n",
              "        buttonEl.style.display =\n",
              "          google.colab.kernel.accessAllowed ? 'block' : 'none';\n",
              "\n",
              "        async function convertToInteractive(key) {\n",
              "          const element = document.querySelector('#df-987e92f6-797d-40b3-b3c2-e28da0623f45');\n",
              "          const dataTable =\n",
              "            await google.colab.kernel.invokeFunction('convertToInteractive',\n",
              "                                                     [key], {});\n",
              "          if (!dataTable) return;\n",
              "\n",
              "          const docLinkHtml = 'Like what you see? Visit the ' +\n",
              "            '<a target=\"_blank\" href=https://colab.research.google.com/notebooks/data_table.ipynb>data table notebook</a>'\n",
              "            + ' to learn more about interactive tables.';\n",
              "          element.innerHTML = '';\n",
              "          dataTable['output_type'] = 'display_data';\n",
              "          await google.colab.output.renderOutput(dataTable, element);\n",
              "          const docLink = document.createElement('div');\n",
              "          docLink.innerHTML = docLinkHtml;\n",
              "          element.appendChild(docLink);\n",
              "        }\n",
              "      </script>\n",
              "    </div>\n",
              "  </div>\n",
              "  "
            ]
          },
          "metadata": {},
          "execution_count": 14
        }
      ]
    },
    {
      "cell_type": "code",
      "source": [
        "crt.info()"
      ],
      "metadata": {
        "colab": {
          "base_uri": "https://localhost:8080/"
        },
        "id": "H51MZQ6S4qj-",
        "outputId": "913f1508-bb52-4171-cfb3-1b8b6ddf39f9"
      },
      "execution_count": null,
      "outputs": [
        {
          "output_type": "stream",
          "name": "stdout",
          "text": [
            "<class 'pandas.core.frame.DataFrame'>\n",
            "RangeIndex: 1200 entries, 0 to 1199\n",
            "Data columns (total 28 columns):\n",
            " #   Column                        Non-Null Count  Dtype \n",
            "---  ------                        --------------  ----- \n",
            " 0   EmpNumber                     1200 non-null   object\n",
            " 1   Age                           1200 non-null   int64 \n",
            " 2   Gender                        1200 non-null   object\n",
            " 3   EducationBackground           1200 non-null   object\n",
            " 4   MaritalStatus                 1200 non-null   object\n",
            " 5   EmpDepartment                 1200 non-null   object\n",
            " 6   EmpJobRole                    1200 non-null   object\n",
            " 7   BusinessTravelFrequency       1200 non-null   object\n",
            " 8   DistanceFromHome              1200 non-null   int64 \n",
            " 9   EmpEducationLevel             1200 non-null   int64 \n",
            " 10  EmpEnvironmentSatisfaction    1200 non-null   int64 \n",
            " 11  EmpHourlyRate                 1200 non-null   int64 \n",
            " 12  EmpJobInvolvement             1200 non-null   int64 \n",
            " 13  EmpJobLevel                   1200 non-null   int64 \n",
            " 14  EmpJobSatisfaction            1200 non-null   int64 \n",
            " 15  NumCompaniesWorked            1200 non-null   int64 \n",
            " 16  OverTime                      1200 non-null   object\n",
            " 17  EmpLastSalaryHikePercent      1200 non-null   int64 \n",
            " 18  EmpRelationshipSatisfaction   1200 non-null   int64 \n",
            " 19  TotalWorkExperienceInYears    1200 non-null   int64 \n",
            " 20  TrainingTimesLastYear         1200 non-null   int64 \n",
            " 21  EmpWorkLifeBalance            1200 non-null   int64 \n",
            " 22  ExperienceYearsAtThisCompany  1200 non-null   int64 \n",
            " 23  ExperienceYearsInCurrentRole  1200 non-null   int64 \n",
            " 24  YearsSinceLastPromotion       1200 non-null   int64 \n",
            " 25  YearsWithCurrManager          1200 non-null   int64 \n",
            " 26  Attrition                     1200 non-null   object\n",
            " 27  PerformanceRating             1200 non-null   int64 \n",
            "dtypes: int64(19), object(9)\n",
            "memory usage: 262.6+ KB\n"
          ]
        }
      ]
    },
    {
      "cell_type": "code",
      "source": [
        "emppr.isna().sum()"
      ],
      "metadata": {
        "colab": {
          "base_uri": "https://localhost:8080/"
        },
        "id": "zXgqJEXF41Z-",
        "outputId": "a806de44-541b-4906-a141-1080939b0381"
      },
      "execution_count": null,
      "outputs": [
        {
          "output_type": "execute_result",
          "data": {
            "text/plain": [
              "EmpNumber                       0\n",
              "Age                             0\n",
              "Gender                          0\n",
              "EducationBackground             0\n",
              "MaritalStatus                   0\n",
              "EmpDepartment                   0\n",
              "EmpJobRole                      0\n",
              "BusinessTravelFrequency         0\n",
              "DistanceFromHome                0\n",
              "EmpEducationLevel               0\n",
              "EmpEnvironmentSatisfaction      0\n",
              "EmpHourlyRate                   0\n",
              "EmpJobInvolvement               0\n",
              "EmpJobLevel                     0\n",
              "EmpJobSatisfaction              0\n",
              "NumCompaniesWorked              0\n",
              "OverTime                        0\n",
              "EmpLastSalaryHikePercent        0\n",
              "EmpRelationshipSatisfaction     0\n",
              "TotalWorkExperienceInYears      0\n",
              "TrainingTimesLastYear           0\n",
              "EmpWorkLifeBalance              0\n",
              "ExperienceYearsAtThisCompany    0\n",
              "ExperienceYearsInCurrentRole    0\n",
              "YearsSinceLastPromotion         0\n",
              "YearsWithCurrManager            0\n",
              "Attrition                       0\n",
              "PerformanceRating               0\n",
              "dtype: int64"
            ]
          },
          "metadata": {},
          "execution_count": 16
        }
      ]
    },
    {
      "cell_type": "code",
      "source": [
        "emppr=emppr.drop(\"EmpNumber\",axis=1)"
      ],
      "metadata": {
        "id": "e2hodMD26ZVc"
      },
      "execution_count": null,
      "outputs": []
    },
    {
      "cell_type": "code",
      "source": [
        "emppr.info()"
      ],
      "metadata": {
        "colab": {
          "base_uri": "https://localhost:8080/"
        },
        "id": "t2DXndju6xGO",
        "outputId": "5c16629f-0c89-46e8-9a7b-b740cc143c1b"
      },
      "execution_count": null,
      "outputs": [
        {
          "output_type": "stream",
          "name": "stdout",
          "text": [
            "<class 'pandas.core.frame.DataFrame'>\n",
            "RangeIndex: 1200 entries, 0 to 1199\n",
            "Data columns (total 27 columns):\n",
            " #   Column                        Non-Null Count  Dtype \n",
            "---  ------                        --------------  ----- \n",
            " 0   Age                           1200 non-null   int64 \n",
            " 1   Gender                        1200 non-null   object\n",
            " 2   EducationBackground           1200 non-null   object\n",
            " 3   MaritalStatus                 1200 non-null   object\n",
            " 4   EmpDepartment                 1200 non-null   object\n",
            " 5   EmpJobRole                    1200 non-null   object\n",
            " 6   BusinessTravelFrequency       1200 non-null   object\n",
            " 7   DistanceFromHome              1200 non-null   int64 \n",
            " 8   EmpEducationLevel             1200 non-null   int64 \n",
            " 9   EmpEnvironmentSatisfaction    1200 non-null   int64 \n",
            " 10  EmpHourlyRate                 1200 non-null   int64 \n",
            " 11  EmpJobInvolvement             1200 non-null   int64 \n",
            " 12  EmpJobLevel                   1200 non-null   int64 \n",
            " 13  EmpJobSatisfaction            1200 non-null   int64 \n",
            " 14  NumCompaniesWorked            1200 non-null   int64 \n",
            " 15  OverTime                      1200 non-null   object\n",
            " 16  EmpLastSalaryHikePercent      1200 non-null   int64 \n",
            " 17  EmpRelationshipSatisfaction   1200 non-null   int64 \n",
            " 18  TotalWorkExperienceInYears    1200 non-null   int64 \n",
            " 19  TrainingTimesLastYear         1200 non-null   int64 \n",
            " 20  EmpWorkLifeBalance            1200 non-null   int64 \n",
            " 21  ExperienceYearsAtThisCompany  1200 non-null   int64 \n",
            " 22  ExperienceYearsInCurrentRole  1200 non-null   int64 \n",
            " 23  YearsSinceLastPromotion       1200 non-null   int64 \n",
            " 24  YearsWithCurrManager          1200 non-null   int64 \n",
            " 25  Attrition                     1200 non-null   object\n",
            " 26  PerformanceRating             1200 non-null   int64 \n",
            "dtypes: int64(19), object(8)\n",
            "memory usage: 253.2+ KB\n"
          ]
        }
      ]
    },
    {
      "cell_type": "code",
      "source": [
        "emppr[\"Attrition\"].unique()"
      ],
      "metadata": {
        "colab": {
          "base_uri": "https://localhost:8080/"
        },
        "id": "Mkt2Ghj2PXtJ",
        "outputId": "18d0d604-ed92-4567-d634-3e23953c6edb"
      },
      "execution_count": null,
      "outputs": [
        {
          "output_type": "execute_result",
          "data": {
            "text/plain": [
              "array(['No', 'Yes'], dtype=object)"
            ]
          },
          "metadata": {},
          "execution_count": 49
        }
      ]
    },
    {
      "cell_type": "code",
      "source": [
        "x = emppr.iloc[:,:-2].values\n",
        "y = emppr.iloc[:,-2].values"
      ],
      "metadata": {
        "id": "KQhDkvGJ5chG"
      },
      "execution_count": null,
      "outputs": []
    },
    {
      "cell_type": "code",
      "source": [
        "z=y = emppr.iloc[:,-1].values"
      ],
      "metadata": {
        "id": "tjUiztqg5lMn"
      },
      "execution_count": null,
      "outputs": []
    },
    {
      "cell_type": "code",
      "source": [
        "x_new=[x,z]"
      ],
      "metadata": {
        "id": "yf4XSpmz5tjI"
      },
      "execution_count": null,
      "outputs": []
    },
    {
      "cell_type": "code",
      "source": [
        "x_new"
      ],
      "metadata": {
        "colab": {
          "base_uri": "https://localhost:8080/"
        },
        "id": "j6p-Agwa55E7",
        "outputId": "9a50a395-55ef-40e9-ff7e-6632f1897065"
      },
      "execution_count": null,
      "outputs": [
        {
          "output_type": "execute_result",
          "data": {
            "text/plain": [
              "[array([[32, 'Male', 'Marketing', ..., 7, 0, 8],\n",
              "        [47, 'Male', 'Marketing', ..., 7, 1, 7],\n",
              "        [40, 'Male', 'Life Sciences', ..., 13, 1, 12],\n",
              "        ...,\n",
              "        [50, 'Male', 'Medical', ..., 8, 3, 8],\n",
              "        [34, 'Female', 'Medical', ..., 7, 7, 7],\n",
              "        [24, 'Female', 'Life Sciences', ..., 2, 2, 0]], dtype=object),\n",
              " array([3, 3, 4, ..., 3, 3, 2])]"
            ]
          },
          "metadata": {},
          "execution_count": 21
        }
      ]
    },
    {
      "cell_type": "code",
      "source": [
        "#encoding categorical data\n",
        "\n",
        "from sklearn.preprocessing import OneHotEncoder\n",
        "from sklearn.compose import ColumnTransformer\n",
        "\n",
        "ct=ColumnTransformer(transformers=[('encoder',OneHotEncoder(),[1,2,3,4,5,6,15])],remainder='passthrough')\n",
        "x = np.array(ct.fit_transform(x))\n",
        "print(x)"
      ],
      "metadata": {
        "colab": {
          "base_uri": "https://localhost:8080/"
        },
        "id": "JFnCW7zl6Aeu",
        "outputId": "345df0f5-7eb5-466c-9291-6718f8a5cf02"
      },
      "execution_count": null,
      "outputs": [
        {
          "output_type": "stream",
          "name": "stdout",
          "text": [
            "[[0.0 1.0 0.0 ... 7 0 8]\n",
            " [0.0 1.0 0.0 ... 7 1 7]\n",
            " [0.0 1.0 0.0 ... 13 1 12]\n",
            " ...\n",
            " [0.0 1.0 0.0 ... 8 3 8]\n",
            " [1.0 0.0 0.0 ... 7 7 7]\n",
            " [1.0 0.0 0.0 ... 2 2 0]]\n"
          ]
        }
      ]
    },
    {
      "cell_type": "code",
      "source": [
        "y=pd.DataFrame(y)"
      ],
      "metadata": {
        "id": "vzMs5h407d_3"
      },
      "execution_count": null,
      "outputs": []
    },
    {
      "cell_type": "code",
      "source": [
        "from sklearn.preprocessing import LabelEncoder\n",
        "dep=LabelEncoder()\n",
        "y=dep.fit_transform(y)"
      ],
      "metadata": {
        "id": "2KpHbV-m7g8d"
      },
      "execution_count": null,
      "outputs": []
    },
    {
      "cell_type": "code",
      "source": [
        "from sklearn.model_selection import train_test_split\n",
        "x_train, x_test, y_train, y_test = train_test_split(x,y,test_size = 0.3, random_state=2)"
      ],
      "metadata": {
        "id": "7gsFmKVF7yAq"
      },
      "execution_count": null,
      "outputs": []
    },
    {
      "cell_type": "code",
      "source": [
        "from sklearn.preprocessing import StandardScaler\n",
        "st = StandardScaler()\n",
        "x_train = st.fit_transform(x_train)\n",
        "x_test = st.fit_transform(x_test)"
      ],
      "metadata": {
        "id": "Bu09wuzr75-Y"
      },
      "execution_count": null,
      "outputs": []
    },
    {
      "cell_type": "code",
      "source": [
        "from sklearn.ensemble import RandomForestClassifier"
      ],
      "metadata": {
        "id": "8JMkFn_r8HXu"
      },
      "execution_count": null,
      "outputs": []
    },
    {
      "cell_type": "code",
      "source": [
        "rdf = RandomForestClassifier(n_estimators=100,random_state =0)"
      ],
      "metadata": {
        "id": "mZulzzKc8K1-"
      },
      "execution_count": null,
      "outputs": []
    },
    {
      "cell_type": "code",
      "source": [
        "print(rdf)"
      ],
      "metadata": {
        "colab": {
          "base_uri": "https://localhost:8080/"
        },
        "id": "viAyZwXF8O3I",
        "outputId": "aaf43990-f2a8-451d-a218-9b30faad8daf"
      },
      "execution_count": null,
      "outputs": [
        {
          "output_type": "stream",
          "name": "stdout",
          "text": [
            "RandomForestClassifier(random_state=0)\n"
          ]
        }
      ]
    },
    {
      "cell_type": "code",
      "source": [
        "rdf.fit(x_train,y_train)"
      ],
      "metadata": {
        "colab": {
          "base_uri": "https://localhost:8080/"
        },
        "id": "b18NpW_X8Rj4",
        "outputId": "f25db0ef-9948-45f5-c6d9-e06488dc0017"
      },
      "execution_count": null,
      "outputs": [
        {
          "output_type": "execute_result",
          "data": {
            "text/plain": [
              "RandomForestClassifier(random_state=0)"
            ]
          },
          "metadata": {},
          "execution_count": 35
        }
      ]
    },
    {
      "cell_type": "code",
      "source": [
        "y_train_pred = rdf.predict(x_train)\n",
        "y_test_pred = rdf.predict(x_test)"
      ],
      "metadata": {
        "id": "asRcH8aT8X7V"
      },
      "execution_count": null,
      "outputs": []
    },
    {
      "cell_type": "code",
      "source": [
        "rdf.score(x_train,y_train)"
      ],
      "metadata": {
        "colab": {
          "base_uri": "https://localhost:8080/"
        },
        "id": "Qje-B_R-8fcP",
        "outputId": "fbfc9433-e9b9-4289-f628-3f1699d24d27"
      },
      "execution_count": null,
      "outputs": [
        {
          "output_type": "execute_result",
          "data": {
            "text/plain": [
              "1.0"
            ]
          },
          "metadata": {},
          "execution_count": 38
        }
      ]
    },
    {
      "cell_type": "code",
      "source": [
        "rdf.score(x_test,y_test)"
      ],
      "metadata": {
        "colab": {
          "base_uri": "https://localhost:8080/"
        },
        "id": "njSn5v3f8k_F",
        "outputId": "dafeed3b-d92c-466a-c298-fda83a5c3df5"
      },
      "execution_count": null,
      "outputs": [
        {
          "output_type": "execute_result",
          "data": {
            "text/plain": [
              "0.875"
            ]
          },
          "metadata": {},
          "execution_count": 41
        }
      ]
    },
    {
      "cell_type": "code",
      "source": [],
      "metadata": {
        "id": "WPIjabEX9-eT"
      },
      "execution_count": null,
      "outputs": []
    },
    {
      "cell_type": "code",
      "source": [
        "from sklearn.model_selection import cross_val_score\n",
        "scores=cross_val_score(rdf,x,y,cv=5)\n",
        "scores"
      ],
      "metadata": {
        "colab": {
          "base_uri": "https://localhost:8080/"
        },
        "id": "HJlLRXlA7-EZ",
        "outputId": "f4a398df-5e95-490b-e7a0-aef71a7f80cc"
      },
      "execution_count": null,
      "outputs": [
        {
          "output_type": "execute_result",
          "data": {
            "text/plain": [
              "array([0.875     , 0.91666667, 0.93333333, 0.87916667, 0.87083333])"
            ]
          },
          "metadata": {},
          "execution_count": 39
        }
      ]
    },
    {
      "cell_type": "code",
      "source": [
        "#fit the model\n",
        "from sklearn.linear_model import LogisticRegression\n",
        "classifier = LogisticRegression(random_state = 2)\n",
        "classifier.fit(x_train,y_train)\n"
      ],
      "metadata": {
        "colab": {
          "base_uri": "https://localhost:8080/"
        },
        "id": "7wwwYQdx9_vl",
        "outputId": "69940e52-e7b6-4231-d3ba-a94bbf9b60cb"
      },
      "execution_count": null,
      "outputs": [
        {
          "output_type": "execute_result",
          "data": {
            "text/plain": [
              "LogisticRegression(random_state=2)"
            ]
          },
          "metadata": {},
          "execution_count": 42
        }
      ]
    },
    {
      "cell_type": "code",
      "source": [
        "y_pred_train = classifier.predict(x_train)"
      ],
      "metadata": {
        "id": "-s5Z41Bv-I1t"
      },
      "execution_count": null,
      "outputs": []
    },
    {
      "cell_type": "code",
      "source": [
        "y_pred_test = classifier.predict(x_test)"
      ],
      "metadata": {
        "id": "hpId-bkg-Q28"
      },
      "execution_count": null,
      "outputs": []
    },
    {
      "cell_type": "code",
      "source": [
        "from sklearn.metrics import confusion_matrix\n",
        "cm = confusion_matrix(y_test,y_pred_test)\n",
        "cm"
      ],
      "metadata": {
        "colab": {
          "base_uri": "https://localhost:8080/"
        },
        "id": "coJ6QXnY-UGr",
        "outputId": "dd4445e4-7014-4c70-832a-a925d91f9e55"
      },
      "execution_count": null,
      "outputs": [
        {
          "output_type": "execute_result",
          "data": {
            "text/plain": [
              "array([[ 34,  20,   2],\n",
              "       [ 17, 234,   9],\n",
              "       [  2,  23,  19]])"
            ]
          },
          "metadata": {},
          "execution_count": 46
        }
      ]
    },
    {
      "cell_type": "code",
      "source": [
        "from sklearn.metrics import classification_report\n",
        "print(classification_report(y_test,y_pred_test))"
      ],
      "metadata": {
        "colab": {
          "base_uri": "https://localhost:8080/"
        },
        "id": "I51ffjnH-Ylo",
        "outputId": "dbe61074-2ffa-4786-ed77-e9687102ce3f"
      },
      "execution_count": null,
      "outputs": [
        {
          "output_type": "stream",
          "name": "stdout",
          "text": [
            "              precision    recall  f1-score   support\n",
            "\n",
            "           0       0.64      0.61      0.62        56\n",
            "           1       0.84      0.90      0.87       260\n",
            "           2       0.63      0.43      0.51        44\n",
            "\n",
            "    accuracy                           0.80       360\n",
            "   macro avg       0.71      0.65      0.67       360\n",
            "weighted avg       0.79      0.80      0.79       360\n",
            "\n"
          ]
        }
      ]
    }
  ]
}