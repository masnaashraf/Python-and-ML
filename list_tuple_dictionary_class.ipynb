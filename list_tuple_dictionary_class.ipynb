{
  "nbformat": 4,
  "nbformat_minor": 0,
  "metadata": {
    "colab": {
      "provenance": [],
      "authorship_tag": "ABX9TyNI1eQgiIQIN2PjQLh8MbkF",
      "include_colab_link": true
    },
    "kernelspec": {
      "name": "python3",
      "display_name": "Python 3"
    },
    "language_info": {
      "name": "python"
    }
  },
  "cells": [
    {
      "cell_type": "markdown",
      "metadata": {
        "id": "view-in-github",
        "colab_type": "text"
      },
      "source": [
        "<a href=\"https://colab.research.google.com/github/masnaashraf/Python-and-ML/blob/main/list_tuple_dictionary_class.ipynb\" target=\"_parent\"><img src=\"https://colab.research.google.com/assets/colab-badge.svg\" alt=\"Open In Colab\"/></a>"
      ]
    },
    {
      "cell_type": "code",
      "execution_count": null,
      "metadata": {
        "id": "YzVZFgX_GwYJ"
      },
      "outputs": [],
      "source": []
    },
    {
      "cell_type": "markdown",
      "source": [
        "**list**\n",
        "\n",
        "mutable,orederd,take duplicate values"
      ],
      "metadata": {
        "id": "ilDvVpLZG9kr"
      }
    },
    {
      "cell_type": "code",
      "source": [
        "mylist=[\"banana\",\"apple\",\"cherry\"]\n",
        "print(mylist)"
      ],
      "metadata": {
        "colab": {
          "base_uri": "https://localhost:8080/"
        },
        "id": "gazonap1HEZ4",
        "outputId": "5e70ea40-54d9-4f94-a3c7-8ef560e63a47"
      },
      "execution_count": null,
      "outputs": [
        {
          "output_type": "stream",
          "name": "stdout",
          "text": [
            "['banana', 'apple', 'cherry']\n"
          ]
        }
      ]
    },
    {
      "cell_type": "code",
      "source": [
        "#adding item to end of list \"append\"\n",
        "\n",
        "mylist.append(\"apple\")\n",
        "print(mylist)"
      ],
      "metadata": {
        "colab": {
          "base_uri": "https://localhost:8080/"
        },
        "id": "dFf999qxHUmt",
        "outputId": "76466859-6545-4328-d552-ec373de19f81"
      },
      "execution_count": null,
      "outputs": [
        {
          "output_type": "stream",
          "name": "stdout",
          "text": [
            "['banana', 'apple', 'cherry', 'apple']\n"
          ]
        }
      ]
    },
    {
      "cell_type": "code",
      "source": [
        "#adding item to a specific position \"insert\"\n",
        "\n",
        "mylist.insert(1,\"watermelon\")\n",
        "print(mylist)"
      ],
      "metadata": {
        "colab": {
          "base_uri": "https://localhost:8080/"
        },
        "id": "4nDrOZXoHfu2",
        "outputId": "2f10e9c7-60ec-41f2-ddbf-9afae536bf61"
      },
      "execution_count": null,
      "outputs": [
        {
          "output_type": "stream",
          "name": "stdout",
          "text": [
            "['banana', 'watermelon', 'apple', 'cherry', 'apple']\n"
          ]
        }
      ]
    },
    {
      "cell_type": "code",
      "source": [
        "#adding a list to another list or join two list \"extend\"\n",
        "mylist.extend([\"icecream\",\"juice\"])\n",
        "print(mylist)"
      ],
      "metadata": {
        "colab": {
          "base_uri": "https://localhost:8080/"
        },
        "id": "OO8cka7rHykX",
        "outputId": "423f9f4c-d021-4657-b832-bcfe497c8265"
      },
      "execution_count": null,
      "outputs": [
        {
          "output_type": "stream",
          "name": "stdout",
          "text": [
            "['banana', 'watermelon', 'apple', 'cherry', 'apple', 'icecream', 'juice']\n"
          ]
        }
      ]
    },
    {
      "cell_type": "code",
      "source": [
        "#slicing\n",
        "mylist[1:5]\n",
        "#pics value from start index to end index excluding value of end index"
      ],
      "metadata": {
        "colab": {
          "base_uri": "https://localhost:8080/"
        },
        "id": "K0l59ENPIIEI",
        "outputId": "594ddcdb-757d-4e3e-b26c-c70b30558553"
      },
      "execution_count": null,
      "outputs": [
        {
          "output_type": "execute_result",
          "data": {
            "text/plain": [
              "['watermelon', 'apple', 'cherry', 'apple']"
            ]
          },
          "metadata": {},
          "execution_count": 5
        }
      ]
    },
    {
      "cell_type": "code",
      "source": [
        "#negative indexing\n",
        "mylist[-1:-4]"
      ],
      "metadata": {
        "colab": {
          "base_uri": "https://localhost:8080/"
        },
        "id": "sWxNiL_bIfBB",
        "outputId": "7569067b-67e7-48ba-8371-1795d697837f"
      },
      "execution_count": null,
      "outputs": [
        {
          "output_type": "execute_result",
          "data": {
            "text/plain": [
              "[]"
            ]
          },
          "metadata": {},
          "execution_count": 6
        }
      ]
    },
    {
      "cell_type": "code",
      "source": [
        "mylist[-4:-1]\n",
        "#here starts from index -4 till -1 excluding -1 "
      ],
      "metadata": {
        "colab": {
          "base_uri": "https://localhost:8080/"
        },
        "id": "knWl_d9gInOX",
        "outputId": "4a1714d8-4e77-4e1e-f679-32ed25f0f054"
      },
      "execution_count": null,
      "outputs": [
        {
          "output_type": "execute_result",
          "data": {
            "text/plain": [
              "['cherry', 'apple', 'icecream']"
            ]
          },
          "metadata": {},
          "execution_count": 7
        }
      ]
    },
    {
      "cell_type": "code",
      "source": [
        "for i in mylist:\n",
        "  print(i)"
      ],
      "metadata": {
        "colab": {
          "base_uri": "https://localhost:8080/"
        },
        "id": "BFHrF9_wI_JZ",
        "outputId": "a9f3e1ea-ca2e-41a7-dae6-23f9f7ab2f1e"
      },
      "execution_count": null,
      "outputs": [
        {
          "output_type": "stream",
          "name": "stdout",
          "text": [
            "banana\n",
            "watermelon\n",
            "apple\n",
            "cherry\n",
            "apple\n",
            "icecream\n",
            "juice\n"
          ]
        }
      ]
    },
    {
      "cell_type": "code",
      "source": [
        "for i in mylist:\n",
        "  print(i[0]) #printing first letter of each item"
      ],
      "metadata": {
        "colab": {
          "base_uri": "https://localhost:8080/"
        },
        "id": "WbcwKl_hJDu4",
        "outputId": "b4e79ae7-33c1-4c53-f5ae-feecf4cebec0"
      },
      "execution_count": null,
      "outputs": [
        {
          "output_type": "stream",
          "name": "stdout",
          "text": [
            "b\n",
            "w\n",
            "a\n",
            "c\n",
            "a\n",
            "i\n",
            "j\n"
          ]
        }
      ]
    },
    {
      "cell_type": "code",
      "source": [
        "for i in mylist:\n",
        "  print(i[0:3])"
      ],
      "metadata": {
        "colab": {
          "base_uri": "https://localhost:8080/"
        },
        "id": "T43U6zcXJSz4",
        "outputId": "e8116002-54a7-4e0b-d3de-6fd752765119"
      },
      "execution_count": null,
      "outputs": [
        {
          "output_type": "stream",
          "name": "stdout",
          "text": [
            "ban\n",
            "wat\n",
            "app\n",
            "che\n",
            "app\n",
            "ice\n",
            "jui\n"
          ]
        }
      ]
    },
    {
      "cell_type": "code",
      "source": [
        "a=[123,234,334,432,545,656]\n",
        "for i in a:\n",
        "  print(i[0])"
      ],
      "metadata": {
        "colab": {
          "base_uri": "https://localhost:8080/",
          "height": 200
        },
        "id": "a1bG2G9YJX_X",
        "outputId": "8e38c7fc-7849-4511-96f4-ad4ac548a85e"
      },
      "execution_count": null,
      "outputs": [
        {
          "output_type": "error",
          "ename": "TypeError",
          "evalue": "ignored",
          "traceback": [
            "\u001b[0;31m---------------------------------------------------------------------------\u001b[0m",
            "\u001b[0;31mTypeError\u001b[0m                                 Traceback (most recent call last)",
            "\u001b[0;32m<ipython-input-12-cf1fd7f8a65d>\u001b[0m in \u001b[0;36m<module>\u001b[0;34m()\u001b[0m\n\u001b[1;32m      1\u001b[0m \u001b[0ma\u001b[0m\u001b[0;34m=\u001b[0m\u001b[0;34m[\u001b[0m\u001b[0;36m123\u001b[0m\u001b[0;34m,\u001b[0m\u001b[0;36m234\u001b[0m\u001b[0;34m,\u001b[0m\u001b[0;36m334\u001b[0m\u001b[0;34m,\u001b[0m\u001b[0;36m432\u001b[0m\u001b[0;34m,\u001b[0m\u001b[0;36m545\u001b[0m\u001b[0;34m,\u001b[0m\u001b[0;36m656\u001b[0m\u001b[0;34m]\u001b[0m\u001b[0;34m\u001b[0m\u001b[0;34m\u001b[0m\u001b[0m\n\u001b[1;32m      2\u001b[0m \u001b[0;32mfor\u001b[0m \u001b[0mi\u001b[0m \u001b[0;32min\u001b[0m \u001b[0ma\u001b[0m\u001b[0;34m:\u001b[0m\u001b[0;34m\u001b[0m\u001b[0;34m\u001b[0m\u001b[0m\n\u001b[0;32m----> 3\u001b[0;31m   \u001b[0mprint\u001b[0m\u001b[0;34m(\u001b[0m\u001b[0mi\u001b[0m\u001b[0;34m[\u001b[0m\u001b[0;36m0\u001b[0m\u001b[0;34m]\u001b[0m\u001b[0;34m)\u001b[0m\u001b[0;34m\u001b[0m\u001b[0;34m\u001b[0m\u001b[0m\n\u001b[0m",
            "\u001b[0;31mTypeError\u001b[0m: 'int' object is not subscriptable"
          ]
        }
      ]
    },
    {
      "cell_type": "code",
      "source": [
        "#sorting list in asscending order\n",
        "mylist.sort()\n",
        "print(mylist)"
      ],
      "metadata": {
        "colab": {
          "base_uri": "https://localhost:8080/"
        },
        "id": "HP9_8vwEKU65",
        "outputId": "91fc454d-010e-4c55-b378-c37541ef70f0"
      },
      "execution_count": null,
      "outputs": [
        {
          "output_type": "stream",
          "name": "stdout",
          "text": [
            "['apple', 'apple', 'banana', 'cherry', 'icecream', 'juice', 'watermelon']\n"
          ]
        }
      ]
    },
    {
      "cell_type": "code",
      "source": [
        "#sorting list in descending order\n",
        "mylist.sort(reverse=True)\n",
        "print(mylist)"
      ],
      "metadata": {
        "colab": {
          "base_uri": "https://localhost:8080/"
        },
        "id": "rhWzlQbqLEjr",
        "outputId": "bf6e9b38-c28f-4dfb-ea70-c0f87c63777e"
      },
      "execution_count": null,
      "outputs": [
        {
          "output_type": "stream",
          "name": "stdout",
          "text": [
            "['watermelon', 'juice', 'icecream', 'cherry', 'banana', 'apple', 'apple']\n"
          ]
        }
      ]
    },
    {
      "cell_type": "code",
      "source": [
        "a=[1,2,3,4,5]\n",
        "i=1\n",
        "b=len(a)\n",
        "while i<b:\n",
        "  print(a[3])\n",
        "  i=i+1 #if this line is not given loop will execute indefinitly"
      ],
      "metadata": {
        "colab": {
          "base_uri": "https://localhost:8080/"
        },
        "id": "QssNS5h2QOK2",
        "outputId": "b8dbd484-3cf8-45dc-d7fe-868dc6344788"
      },
      "execution_count": null,
      "outputs": [
        {
          "output_type": "stream",
          "name": "stdout",
          "text": [
            "4\n",
            "4\n",
            "4\n",
            "4\n"
          ]
        }
      ]
    },
    {
      "cell_type": "code",
      "source": [
        "a=[1,2,3,4,5]\n",
        "#updating list using slicing to a range of index position\n",
        "a[1:3]=[10,20,30]\n",
        "a"
      ],
      "metadata": {
        "colab": {
          "base_uri": "https://localhost:8080/"
        },
        "id": "tLcF04-DQot-",
        "outputId": "3b0365ef-edcc-4265-bd3e-d06c0f1893a0"
      },
      "execution_count": null,
      "outputs": [
        {
          "output_type": "execute_result",
          "data": {
            "text/plain": [
              "[1, 10, 20, 30, 4, 5]"
            ]
          },
          "metadata": {},
          "execution_count": 3
        }
      ]
    },
    {
      "cell_type": "code",
      "source": [
        "a=[1,2,3,4,5]\n",
        "#updating list using slicing to a range of index position\n",
        "a[1:3]=[10,10,10]\n",
        "a"
      ],
      "metadata": {
        "colab": {
          "base_uri": "https://localhost:8080/"
        },
        "id": "nTRyHrOQQ-sr",
        "outputId": "80403978-792f-43e4-a6ea-b47523838543"
      },
      "execution_count": null,
      "outputs": [
        {
          "output_type": "execute_result",
          "data": {
            "text/plain": [
              "[1, 10, 10, 10, 4, 5]"
            ]
          },
          "metadata": {},
          "execution_count": 4
        }
      ]
    },
    {
      "cell_type": "code",
      "source": [
        "a=[1,2,3,4,5]\n",
        "#updating list using slicing to a range of index position\n",
        "a[1:3]=[10]\n",
        "a"
      ],
      "metadata": {
        "colab": {
          "base_uri": "https://localhost:8080/"
        },
        "id": "g4Fm4LBZRL_u",
        "outputId": "c8573129-392d-45d8-ec77-5fb836db9859"
      },
      "execution_count": null,
      "outputs": [
        {
          "output_type": "execute_result",
          "data": {
            "text/plain": [
              "[1, 10, 4, 5]"
            ]
          },
          "metadata": {},
          "execution_count": 5
        }
      ]
    },
    {
      "cell_type": "code",
      "source": [
        "a=[1,2,3,4,5]\n",
        "#updating list using slicing to a range of index position\n",
        "a[1:5]=[20]\n",
        "a"
      ],
      "metadata": {
        "colab": {
          "base_uri": "https://localhost:8080/"
        },
        "id": "NlMdXdYYRa-u",
        "outputId": "7927aff4-601e-4251-f3a7-2a531fd145b0"
      },
      "execution_count": null,
      "outputs": [
        {
          "output_type": "execute_result",
          "data": {
            "text/plain": [
              "[1, 20]"
            ]
          },
          "metadata": {},
          "execution_count": 6
        }
      ]
    },
    {
      "cell_type": "code",
      "source": [
        "a=[1,2,3,4,5]\n",
        "#updating list using slicing to a range of index position\n",
        "a[2:5]=[10]\n",
        "a"
      ],
      "metadata": {
        "colab": {
          "base_uri": "https://localhost:8080/"
        },
        "id": "poOzgxufRgo7",
        "outputId": "019188e0-1695-47a2-bfb5-782bd8509150"
      },
      "execution_count": null,
      "outputs": [
        {
          "output_type": "execute_result",
          "data": {
            "text/plain": [
              "[1, 2, 10]"
            ]
          },
          "metadata": {},
          "execution_count": 7
        }
      ]
    },
    {
      "cell_type": "code",
      "source": [
        "#inserting value into list using index position\n",
        "a=[1,2,3,4,5]\n",
        "a.insert(3,30)\n",
        "a"
      ],
      "metadata": {
        "colab": {
          "base_uri": "https://localhost:8080/"
        },
        "id": "lhMVzsvxRqBd",
        "outputId": "a31bf804-75f2-433c-df40-7b0608bfa9c0"
      },
      "execution_count": null,
      "outputs": [
        {
          "output_type": "execute_result",
          "data": {
            "text/plain": [
              "[1, 2, 3, 30, 4, 5]"
            ]
          },
          "metadata": {},
          "execution_count": 8
        }
      ]
    },
    {
      "cell_type": "code",
      "source": [
        "g=[]\n",
        "g.extend(20)\n",
        "g"
      ],
      "metadata": {
        "colab": {
          "base_uri": "https://localhost:8080/",
          "height": 200
        },
        "id": "lTMJZe5mR7sL",
        "outputId": "67d87c94-e4c1-439e-8241-90e7c6f244f4"
      },
      "execution_count": null,
      "outputs": [
        {
          "output_type": "error",
          "ename": "TypeError",
          "evalue": "ignored",
          "traceback": [
            "\u001b[0;31m---------------------------------------------------------------------------\u001b[0m",
            "\u001b[0;31mTypeError\u001b[0m                                 Traceback (most recent call last)",
            "\u001b[0;32m<ipython-input-9-e2f94ade5e59>\u001b[0m in \u001b[0;36m<module>\u001b[0;34m()\u001b[0m\n\u001b[1;32m      1\u001b[0m \u001b[0mg\u001b[0m\u001b[0;34m=\u001b[0m\u001b[0;34m[\u001b[0m\u001b[0;34m]\u001b[0m\u001b[0;34m\u001b[0m\u001b[0;34m\u001b[0m\u001b[0m\n\u001b[0;32m----> 2\u001b[0;31m \u001b[0mg\u001b[0m\u001b[0;34m.\u001b[0m\u001b[0mextend\u001b[0m\u001b[0;34m(\u001b[0m\u001b[0;36m20\u001b[0m\u001b[0;34m)\u001b[0m\u001b[0;34m\u001b[0m\u001b[0;34m\u001b[0m\u001b[0m\n\u001b[0m\u001b[1;32m      3\u001b[0m \u001b[0mg\u001b[0m\u001b[0;34m\u001b[0m\u001b[0;34m\u001b[0m\u001b[0m\n",
            "\u001b[0;31mTypeError\u001b[0m: 'int' object is not iterable"
          ]
        }
      ]
    },
    {
      "cell_type": "code",
      "source": [
        "\n",
        "#concatenating tuple\n",
        "g=[100]\n",
        "a.extend(g)\n",
        "a"
      ],
      "metadata": {
        "colab": {
          "base_uri": "https://localhost:8080/"
        },
        "id": "UKENWz5FSDBN",
        "outputId": "6a739b4a-c45e-4d04-c31e-c3cadcd639a8"
      },
      "execution_count": null,
      "outputs": [
        {
          "output_type": "execute_result",
          "data": {
            "text/plain": [
              "[1, 2, 3, 30, 4, 5, 100]"
            ]
          },
          "metadata": {},
          "execution_count": 11
        }
      ]
    },
    {
      "cell_type": "code",
      "source": [
        "a.extend([200,300,400])\n",
        "a"
      ],
      "metadata": {
        "colab": {
          "base_uri": "https://localhost:8080/"
        },
        "id": "wxgEGSU6SX7K",
        "outputId": "dc347589-0d58-4238-d6d5-40c636aaa054"
      },
      "execution_count": null,
      "outputs": [
        {
          "output_type": "execute_result",
          "data": {
            "text/plain": [
              "[1, 2, 3, 30, 4, 5, 100, 200, 300, 400, 200, 300, 400]"
            ]
          },
          "metadata": {},
          "execution_count": 13
        }
      ]
    },
    {
      "cell_type": "markdown",
      "source": [
        "different ways of deleting elements from list"
      ],
      "metadata": {
        "id": "-Iuta11BTTbf"
      }
    },
    {
      "cell_type": "code",
      "source": [
        "#removing element fromlist\n",
        "a.remove(100)\n",
        "a\n"
      ],
      "metadata": {
        "colab": {
          "base_uri": "https://localhost:8080/"
        },
        "id": "mCljpgX1SnAz",
        "outputId": "7204cc1a-cb4c-4528-f86f-101b58366de5"
      },
      "execution_count": null,
      "outputs": [
        {
          "output_type": "execute_result",
          "data": {
            "text/plain": [
              "[1, 2, 3, 30, 4, 5, 200, 300, 400, 200, 300, 400]"
            ]
          },
          "metadata": {},
          "execution_count": 14
        }
      ]
    },
    {
      "cell_type": "code",
      "source": [
        "a.pop()"
      ],
      "metadata": {
        "colab": {
          "base_uri": "https://localhost:8080/"
        },
        "id": "dRCrDnDlS3RX",
        "outputId": "d191d277-8b4c-4c8d-a1bb-ab6201a583b6"
      },
      "execution_count": null,
      "outputs": [
        {
          "output_type": "execute_result",
          "data": {
            "text/plain": [
              "400"
            ]
          },
          "metadata": {},
          "execution_count": 16
        }
      ]
    },
    {
      "cell_type": "code",
      "source": [
        "a"
      ],
      "metadata": {
        "colab": {
          "base_uri": "https://localhost:8080/"
        },
        "id": "OcxUbLUFS54X",
        "outputId": "70d31b7f-017e-429b-a377-67fdd21be5ef"
      },
      "execution_count": null,
      "outputs": [
        {
          "output_type": "execute_result",
          "data": {
            "text/plain": [
              "[1, 2, 3, 30, 4, 5, 200, 300, 400, 200, 300]"
            ]
          },
          "metadata": {},
          "execution_count": 17
        }
      ]
    },
    {
      "cell_type": "code",
      "source": [
        "a.pop(3)"
      ],
      "metadata": {
        "colab": {
          "base_uri": "https://localhost:8080/"
        },
        "id": "kTLWyvILTBr4",
        "outputId": "ef6c2585-cb08-4e3d-c228-88949008425e"
      },
      "execution_count": null,
      "outputs": [
        {
          "output_type": "execute_result",
          "data": {
            "text/plain": [
              "30"
            ]
          },
          "metadata": {},
          "execution_count": 20
        }
      ]
    },
    {
      "cell_type": "code",
      "source": [
        "a=[1, 2, 3, 30, 4, 5, 200, 300, 400, 200, 300]\n",
        "del a[0]\n",
        "a"
      ],
      "metadata": {
        "colab": {
          "base_uri": "https://localhost:8080/"
        },
        "id": "849y-a4xTZA3",
        "outputId": "404ce7d2-cdee-471d-99b6-7d915b4ccc07"
      },
      "execution_count": null,
      "outputs": [
        {
          "output_type": "execute_result",
          "data": {
            "text/plain": [
              "[2, 3, 30, 4, 5, 200, 300, 400, 200, 300]"
            ]
          },
          "metadata": {},
          "execution_count": 24
        }
      ]
    },
    {
      "cell_type": "code",
      "source": [
        "a.clear()\n",
        "a\n",
        "#here list remains but clear function empties the list"
      ],
      "metadata": {
        "colab": {
          "base_uri": "https://localhost:8080/"
        },
        "id": "bxFivAKnTsSk",
        "outputId": "e6c70566-8ab3-4b57-944f-b580327a9236"
      },
      "execution_count": null,
      "outputs": [
        {
          "output_type": "execute_result",
          "data": {
            "text/plain": [
              "[]"
            ]
          },
          "metadata": {},
          "execution_count": 26
        }
      ]
    },
    {
      "cell_type": "code",
      "source": [
        "a=[1, 2, 3, 30, 4, 5, 200, 300, 400, 200, 300]\n",
        "del a\n",
        "\n",
        "#this deletes list completely without keeping it empty"
      ],
      "metadata": {
        "id": "jyNC9ruuWIQq"
      },
      "execution_count": null,
      "outputs": []
    },
    {
      "cell_type": "markdown",
      "source": [
        "**Tuple**\n",
        "not changeable,can have duplicate elements"
      ],
      "metadata": {
        "id": "FgEfYX2ZLyrM"
      }
    },
    {
      "cell_type": "markdown",
      "source": [
        "for adding elemnts to tupple we need to first convert the tuple to list and then make changes their and again convert to tuple"
      ],
      "metadata": {
        "id": "eB8Xp0ppMBmR"
      }
    },
    {
      "cell_type": "code",
      "source": [
        "tup=(2,3,4,6,7,9)\n",
        "tup[0]"
      ],
      "metadata": {
        "colab": {
          "base_uri": "https://localhost:8080/"
        },
        "id": "_Ccvu4UcMPOB",
        "outputId": "a03cea74-992c-4aab-c108-0b2cfbc26223"
      },
      "execution_count": null,
      "outputs": [
        {
          "output_type": "execute_result",
          "data": {
            "text/plain": [
              "2"
            ]
          },
          "metadata": {},
          "execution_count": 17
        }
      ]
    },
    {
      "cell_type": "code",
      "source": [
        "l=list(tup)\n",
        "print(l)"
      ],
      "metadata": {
        "colab": {
          "base_uri": "https://localhost:8080/"
        },
        "id": "cA8yPdlmMA4V",
        "outputId": "3ddf2fe4-0c99-47aa-86db-458183ba2886"
      },
      "execution_count": null,
      "outputs": [
        {
          "output_type": "stream",
          "name": "stdout",
          "text": [
            "[2, 3, 4, 6, 7, 9]\n"
          ]
        }
      ]
    },
    {
      "cell_type": "code",
      "source": [
        "l[0]=0\n",
        "print(l)"
      ],
      "metadata": {
        "colab": {
          "base_uri": "https://localhost:8080/"
        },
        "id": "VjYXNj2JMvZs",
        "outputId": "0017a5ca-605e-4d4d-fc5c-f6f9ce6920ce"
      },
      "execution_count": null,
      "outputs": [
        {
          "output_type": "stream",
          "name": "stdout",
          "text": [
            "[0, 3, 4, 6, 7, 9]\n"
          ]
        }
      ]
    },
    {
      "cell_type": "code",
      "source": [
        "tup=tuple(l)\n",
        "print(tup)\n",
        "print(type(tup))"
      ],
      "metadata": {
        "colab": {
          "base_uri": "https://localhost:8080/"
        },
        "id": "LO8PrkiIM0uz",
        "outputId": "9fd31bed-e0b9-4a0c-e400-8eda6301cc59"
      },
      "execution_count": null,
      "outputs": [
        {
          "output_type": "stream",
          "name": "stdout",
          "text": [
            "(0, 3, 4, 6, 7, 9)\n",
            "<class 'tuple'>\n"
          ]
        }
      ]
    },
    {
      "cell_type": "markdown",
      "source": [
        "typecasting"
      ],
      "metadata": {
        "id": "PrxwYw3uNKNp"
      }
    },
    {
      "cell_type": "code",
      "source": [
        "a=10\n",
        "print(type(a))\n",
        "print(float(a))"
      ],
      "metadata": {
        "colab": {
          "base_uri": "https://localhost:8080/"
        },
        "id": "XS7JCK1aWwKX",
        "outputId": "b6859e63-a7c1-4f43-efbf-7b8e3f1c009e"
      },
      "execution_count": null,
      "outputs": [
        {
          "output_type": "stream",
          "name": "stdout",
          "text": [
            "<class 'int'>\n",
            "10.0\n"
          ]
        }
      ]
    },
    {
      "cell_type": "markdown",
      "source": [
        "dictionary"
      ],
      "metadata": {
        "id": "odtsQF6tZ7Cw"
      }
    },
    {
      "cell_type": "code",
      "source": [
        "d={}\n",
        "d.update({1:\"abc\"})\n",
        "d"
      ],
      "metadata": {
        "colab": {
          "base_uri": "https://localhost:8080/"
        },
        "id": "0PdcVuJpZrdQ",
        "outputId": "4b280490-ddd5-4fa9-eaca-0bc8d5ddf64c"
      },
      "execution_count": null,
      "outputs": [
        {
          "output_type": "execute_result",
          "data": {
            "text/plain": [
              "{1: 'abc'}"
            ]
          },
          "metadata": {},
          "execution_count": 32
        }
      ]
    },
    {
      "cell_type": "code",
      "source": [
        "dict={10:\"a\",20:\"b\",3:\"c\"}\n",
        "dict[10]"
      ],
      "metadata": {
        "colab": {
          "base_uri": "https://localhost:8080/",
          "height": 35
        },
        "id": "7dZvDYZxZ_Gu",
        "outputId": "0a884ce1-dfa7-4f52-8f8e-3f66066b3e30"
      },
      "execution_count": null,
      "outputs": [
        {
          "output_type": "execute_result",
          "data": {
            "text/plain": [
              "'a'"
            ],
            "application/vnd.google.colaboratory.intrinsic+json": {
              "type": "string"
            }
          },
          "metadata": {},
          "execution_count": 34
        }
      ]
    },
    {
      "cell_type": "code",
      "source": [
        "thisdict={\"brand\":\"Ford\",\n",
        "          \"electric\":False,\n",
        "          \"year\":1964,\n",
        "          \"colors\":[\"red\",\"black\",\"white\"]}\n",
        "type(thisdict)"
      ],
      "metadata": {
        "colab": {
          "base_uri": "https://localhost:8080/"
        },
        "id": "ADyvY0_-aPrG",
        "outputId": "18a7ad11-2421-4ead-c79c-8f180d46aa42"
      },
      "execution_count": null,
      "outputs": [
        {
          "output_type": "execute_result",
          "data": {
            "text/plain": [
              "dict"
            ]
          },
          "metadata": {},
          "execution_count": 35
        }
      ]
    },
    {
      "cell_type": "code",
      "source": [
        "thisdict[\"colors\"]"
      ],
      "metadata": {
        "colab": {
          "base_uri": "https://localhost:8080/"
        },
        "id": "ROAsiK4ianuo",
        "outputId": "55c23425-2ec0-4ec6-8d25-cdaf7e7f4d97"
      },
      "execution_count": null,
      "outputs": [
        {
          "output_type": "execute_result",
          "data": {
            "text/plain": [
              "['red', 'black', 'white']"
            ]
          },
          "metadata": {},
          "execution_count": 36
        }
      ]
    },
    {
      "cell_type": "code",
      "source": [
        "type(thisdict[\"colors\"])"
      ],
      "metadata": {
        "colab": {
          "base_uri": "https://localhost:8080/"
        },
        "id": "oJ4U924AasYs",
        "outputId": "bcd05811-7e5c-4a37-de78-fb5f51aa02a8"
      },
      "execution_count": null,
      "outputs": [
        {
          "output_type": "execute_result",
          "data": {
            "text/plain": [
              "list"
            ]
          },
          "metadata": {},
          "execution_count": 37
        }
      ]
    },
    {
      "cell_type": "code",
      "source": [
        "thisdict[\"colors\"][1]"
      ],
      "metadata": {
        "colab": {
          "base_uri": "https://localhost:8080/",
          "height": 35
        },
        "id": "RxXN7M8KawXc",
        "outputId": "5eec8dfa-f24d-4248-b033-c033524dbc83"
      },
      "execution_count": null,
      "outputs": [
        {
          "output_type": "execute_result",
          "data": {
            "text/plain": [
              "'black'"
            ],
            "application/vnd.google.colaboratory.intrinsic+json": {
              "type": "string"
            }
          },
          "metadata": {},
          "execution_count": 38
        }
      ]
    },
    {
      "cell_type": "markdown",
      "source": [
        "opps python"
      ],
      "metadata": {
        "id": "v0Ii4JX4_3MW"
      }
    },
    {
      "cell_type": "code",
      "source": [
        "class Student:\n",
        "  pass"
      ],
      "metadata": {
        "id": "pSu75KUy_44k"
      },
      "execution_count": null,
      "outputs": []
    },
    {
      "cell_type": "code",
      "source": [
        "#creating object for the class\n",
        "s1=Student()\n",
        "s2=Student()\n",
        "s3=Student()\n",
        "s4=Student()"
      ],
      "metadata": {
        "id": "_jC40YOGANLP"
      },
      "execution_count": null,
      "outputs": []
    },
    {
      "cell_type": "code",
      "source": [
        "#assigning valuesa to objects\n",
        "s1.name='Mohit'\n",
        "s1.age=25\n",
        "s2.rollnumber=101\n",
        "s3.age=20"
      ],
      "metadata": {
        "id": "ACMznwgebCGD"
      },
      "execution_count": null,
      "outputs": []
    },
    {
      "cell_type": "code",
      "source": [
        "#finding the attributes associated to a particular object s1\n",
        "s1.__dict__"
      ],
      "metadata": {
        "colab": {
          "base_uri": "https://localhost:8080/"
        },
        "id": "EYY2P4OseyrS",
        "outputId": "a2651362-cc62-468b-ba7a-5c1b597b6f13"
      },
      "execution_count": null,
      "outputs": [
        {
          "output_type": "execute_result",
          "data": {
            "text/plain": [
              "{'age': 25, 'name': 'Mohit'}"
            ]
          },
          "metadata": {},
          "execution_count": 44
        }
      ]
    },
    {
      "cell_type": "code",
      "source": [
        "#finding the attributes associated to a particular object s2\n",
        "s2.__dict__"
      ],
      "metadata": {
        "colab": {
          "base_uri": "https://localhost:8080/"
        },
        "id": "R7rVXiSkfLGP",
        "outputId": "3384ed90-db18-4446-9372-06648e3f52a5"
      },
      "execution_count": null,
      "outputs": [
        {
          "output_type": "execute_result",
          "data": {
            "text/plain": [
              "{'rollnumber': 101}"
            ]
          },
          "metadata": {},
          "execution_count": 45
        }
      ]
    },
    {
      "cell_type": "code",
      "source": [
        "s4.__dict__\n",
        "#is an empty dictionaryt as we didnot assign any values to the object s4"
      ],
      "metadata": {
        "colab": {
          "base_uri": "https://localhost:8080/"
        },
        "id": "bkDVmfOSfT4j",
        "outputId": "accc35b8-30a2-4b6b-afa5-a7d32f750c6b"
      },
      "execution_count": null,
      "outputs": [
        {
          "output_type": "execute_result",
          "data": {
            "text/plain": [
              "{}"
            ]
          },
          "metadata": {},
          "execution_count": 48
        }
      ]
    },
    {
      "cell_type": "code",
      "source": [
        "Student.__dict__"
      ],
      "metadata": {
        "colab": {
          "base_uri": "https://localhost:8080/"
        },
        "id": "rWZnT2hmfpOv",
        "outputId": "fbe5b72a-a09c-4b8c-f60e-4163c25c1c66"
      },
      "execution_count": null,
      "outputs": [
        {
          "output_type": "execute_result",
          "data": {
            "text/plain": [
              "mappingproxy({'__dict__': <attribute '__dict__' of 'Student' objects>,\n",
              "              '__doc__': None,\n",
              "              '__module__': '__main__',\n",
              "              '__weakref__': <attribute '__weakref__' of 'Student' objects>})"
            ]
          },
          "metadata": {},
          "execution_count": 49
        }
      ]
    },
    {
      "cell_type": "markdown",
      "source": [
        "hasattr\n",
        "getattr\n",
        "delattr\n",
        "setattr"
      ],
      "metadata": {
        "id": "J-HOh9P7f2Zw"
      }
    },
    {
      "cell_type": "code",
      "source": [
        "#hasattr(object,attribute) to check whether particular atrribute existed for the object\n",
        "#getattr(object,attribute)  to finding the value of attribute in the object\n",
        "#delattr(object,attribute)   to detlete the attribute\n",
        "#setattr(object,attribute,value)  to set a new attribute and vale to object"
      ],
      "metadata": {
        "id": "3tlhNtqzlOAl"
      },
      "execution_count": null,
      "outputs": []
    },
    {
      "cell_type": "code",
      "source": [
        "print(hasattr(s1,'name'))"
      ],
      "metadata": {
        "colab": {
          "base_uri": "https://localhost:8080/"
        },
        "id": "8oIXZk_smI-P",
        "outputId": "c9ee3cfb-cf26-4af7-dd81-014d99c902f7"
      },
      "execution_count": null,
      "outputs": [
        {
          "output_type": "stream",
          "name": "stdout",
          "text": [
            "True\n"
          ]
        }
      ]
    },
    {
      "cell_type": "code",
      "source": [
        "print(hasattr(s3,'name'))"
      ],
      "metadata": {
        "colab": {
          "base_uri": "https://localhost:8080/"
        },
        "id": "cPIjwdD8mb94",
        "outputId": "afa1a079-954b-499d-ee32-40ba81e476a0"
      },
      "execution_count": null,
      "outputs": [
        {
          "output_type": "stream",
          "name": "stdout",
          "text": [
            "False\n"
          ]
        }
      ]
    },
    {
      "cell_type": "code",
      "source": [
        "getattr(s1,\"name\")"
      ],
      "metadata": {
        "colab": {
          "base_uri": "https://localhost:8080/",
          "height": 35
        },
        "id": "tArUuL1Wm6Ou",
        "outputId": "dab4047e-a335-44a2-fe24-21d6911877e7"
      },
      "execution_count": null,
      "outputs": [
        {
          "output_type": "execute_result",
          "data": {
            "text/plain": [
              "'Mohit'"
            ],
            "application/vnd.google.colaboratory.intrinsic+json": {
              "type": "string"
            }
          },
          "metadata": {},
          "execution_count": 58
        }
      ]
    },
    {
      "cell_type": "code",
      "source": [
        "type(getattr(s1,\"name\"))"
      ],
      "metadata": {
        "colab": {
          "base_uri": "https://localhost:8080/"
        },
        "id": "bjjog7CfnBEs",
        "outputId": "fe2c2057-fc13-4dbe-d2b5-29d9f3b24ab2"
      },
      "execution_count": null,
      "outputs": [
        {
          "output_type": "execute_result",
          "data": {
            "text/plain": [
              "str"
            ]
          },
          "metadata": {},
          "execution_count": 59
        }
      ]
    },
    {
      "cell_type": "code",
      "source": [
        "getattr(s2,'rollnumber')"
      ],
      "metadata": {
        "colab": {
          "base_uri": "https://localhost:8080/"
        },
        "id": "iSqAglsZnbVm",
        "outputId": "68b9f3b8-4785-41e4-a1ab-ecb759adae88"
      },
      "execution_count": null,
      "outputs": [
        {
          "output_type": "execute_result",
          "data": {
            "text/plain": [
              "101"
            ]
          },
          "metadata": {},
          "execution_count": 60
        }
      ]
    },
    {
      "cell_type": "code",
      "source": [
        "s3.__dict__"
      ],
      "metadata": {
        "colab": {
          "base_uri": "https://localhost:8080/"
        },
        "id": "LjvCOjsSnt6k",
        "outputId": "5e7d2325-3f7b-4cf0-b48a-3e1293fe14c5"
      },
      "execution_count": null,
      "outputs": [
        {
          "output_type": "execute_result",
          "data": {
            "text/plain": [
              "{'age': 20}"
            ]
          },
          "metadata": {},
          "execution_count": 61
        }
      ]
    },
    {
      "cell_type": "code",
      "source": [
        "delattr(s3,\"age\")"
      ],
      "metadata": {
        "id": "8SFN3yHln0AA"
      },
      "execution_count": null,
      "outputs": []
    },
    {
      "cell_type": "code",
      "source": [
        "s3.__dict__"
      ],
      "metadata": {
        "colab": {
          "base_uri": "https://localhost:8080/"
        },
        "id": "3oVQfkuGn7Uk",
        "outputId": "94001988-bca3-4ec4-e64a-290eac9d234c"
      },
      "execution_count": null,
      "outputs": [
        {
          "output_type": "execute_result",
          "data": {
            "text/plain": [
              "{}"
            ]
          },
          "metadata": {},
          "execution_count": 63
        }
      ]
    },
    {
      "cell_type": "code",
      "source": [
        "s4.__dict__"
      ],
      "metadata": {
        "colab": {
          "base_uri": "https://localhost:8080/"
        },
        "id": "XELDliqUoM7w",
        "outputId": "d6bd46c0-d7f3-4655-f954-18c93071b09f"
      },
      "execution_count": null,
      "outputs": [
        {
          "output_type": "execute_result",
          "data": {
            "text/plain": [
              "{}"
            ]
          },
          "metadata": {},
          "execution_count": 64
        }
      ]
    },
    {
      "cell_type": "code",
      "source": [
        "setattr(s4,\"name\",\"maya\")"
      ],
      "metadata": {
        "id": "oyqRlF-RoEur"
      },
      "execution_count": null,
      "outputs": []
    },
    {
      "cell_type": "code",
      "source": [
        "s4.__dict__"
      ],
      "metadata": {
        "colab": {
          "base_uri": "https://localhost:8080/"
        },
        "id": "ZfWCTJJkoSSo",
        "outputId": "48a75e45-0de3-49fc-e750-822cab3d64df"
      },
      "execution_count": null,
      "outputs": [
        {
          "output_type": "execute_result",
          "data": {
            "text/plain": [
              "{'name': 'maya'}"
            ]
          },
          "metadata": {},
          "execution_count": 66
        }
      ]
    },
    {
      "cell_type": "code",
      "source": [
        "class Person:\n",
        "  totalsu=20 #class attribute\n",
        "\n",
        "s1=Person()\n",
        "s2=Person()"
      ],
      "metadata": {
        "id": "J1BNKvMzooKh"
      },
      "execution_count": null,
      "outputs": []
    },
    {
      "cell_type": "code",
      "source": [
        "s1.__dict__"
      ],
      "metadata": {
        "colab": {
          "base_uri": "https://localhost:8080/"
        },
        "id": "VAe264rvo3h1",
        "outputId": "066d3e8d-392f-4452-81d1-495794867490"
      },
      "execution_count": null,
      "outputs": [
        {
          "output_type": "execute_result",
          "data": {
            "text/plain": [
              "{}"
            ]
          },
          "metadata": {},
          "execution_count": 70
        }
      ]
    },
    {
      "cell_type": "code",
      "source": [
        "Person.__dict__"
      ],
      "metadata": {
        "colab": {
          "base_uri": "https://localhost:8080/"
        },
        "id": "8Q3dnKLSptyG",
        "outputId": "83d2ad6c-dd1b-4336-f00a-624deee5c075"
      },
      "execution_count": null,
      "outputs": [
        {
          "output_type": "execute_result",
          "data": {
            "text/plain": [
              "mappingproxy({'__dict__': <attribute '__dict__' of 'Person' objects>,\n",
              "              '__doc__': None,\n",
              "              '__module__': '__main__',\n",
              "              '__weakref__': <attribute '__weakref__' of 'Person' objects>,\n",
              "              'totalsu': 20})"
            ]
          },
          "metadata": {},
          "execution_count": 71
        }
      ]
    },
    {
      "cell_type": "markdown",
      "source": [
        "class attribute vs instant attribute\n",
        "\n",
        "Class Variables — Declared inside the class definition (but outside any of the instance methods). They are not tied to any particular object of the class, hence shared across all the objects of the class. Modifying a class variable affects all objects instance at the same time.\n",
        "\n",
        "Instance Variable — Declared inside the constructor method of class (the __init__ method). They are tied to the particular object instance of the class, hence the contents of an instance variable are completely independent from one object instance to the other.\n",
        "\n",
        "class Car:\n",
        "    wheels = 4    # <- Class variable\n",
        "    def __init__(self, name):\n",
        "        self.name = name    # <- Instance variable"
      ],
      "metadata": {
        "id": "NIGMTytcEZ2E"
      }
    },
    {
      "cell_type": "markdown",
      "source": [
        "Instant attribute -a ttribute associated with object\n",
        "class attribute-attribute associated with class \n",
        "instant method\n",
        "method-"
      ],
      "metadata": {
        "id": "aYe-rvA0EekZ"
      }
    },
    {
      "cell_type": "code",
      "source": [
        "class student:\n",
        "  #class attribute\n",
        "  totalstu=20\n",
        "  classnteachername=\"mohit\"\n",
        "\n",
        "  #intance methods\n",
        "\n",
        "  def printHello(self):\n",
        "    print(self.name)\n",
        "    print(\"hello\")\n",
        "\n",
        "  def print(self,str):\n",
        "    print(str)\n",
        "  \n",
        "  def printName(self):\n",
        "    print(self.name)\n",
        "  def addName(raw,name): #any variable namecan be used intead of self(here used \"raw\")\n",
        "    raw.name=name\n",
        "\n",
        "  def test(self):\n",
        "    student.totalstu=25\n",
        "    print(student.totalstu)\n",
        "    student.test_class=90\n",
        "    print(student.test_class)\n",
        "\n",
        "s1=student()\n",
        "s2=student()"
      ],
      "metadata": {
        "id": "VJ6tLdpvE8_6"
      },
      "execution_count": null,
      "outputs": []
    },
    {
      "cell_type": "code",
      "source": [
        "s1.name=\"Mohit\"\n",
        "s1.printHello()"
      ],
      "metadata": {
        "colab": {
          "base_uri": "https://localhost:8080/"
        },
        "id": "d0O_QIEjI7Cz",
        "outputId": "51257449-04b4-4ff6-c209-16da82fc5340"
      },
      "execution_count": null,
      "outputs": [
        {
          "output_type": "stream",
          "name": "stdout",
          "text": [
            "Mohit\n",
            "hello\n"
          ]
        }
      ]
    },
    {
      "cell_type": "code",
      "source": [
        "s2.addName(\"deep\")"
      ],
      "metadata": {
        "id": "z4_pX47HqHnB"
      },
      "execution_count": null,
      "outputs": []
    },
    {
      "cell_type": "code",
      "source": [
        "s1.__dict__"
      ],
      "metadata": {
        "colab": {
          "base_uri": "https://localhost:8080/"
        },
        "id": "FMsWcWa4qgOR",
        "outputId": "23c02961-cfbd-4065-85e1-0e2ab4379dd7"
      },
      "execution_count": null,
      "outputs": [
        {
          "output_type": "execute_result",
          "data": {
            "text/plain": [
              "{'name': 'Mohit'}"
            ]
          },
          "metadata": {},
          "execution_count": 80
        }
      ]
    },
    {
      "cell_type": "code",
      "source": [
        "s2.__dict__"
      ],
      "metadata": {
        "colab": {
          "base_uri": "https://localhost:8080/"
        },
        "id": "RS8f6r_jql7F",
        "outputId": "868bae7d-6312-4ca5-e86d-cc576153d4fe"
      },
      "execution_count": null,
      "outputs": [
        {
          "output_type": "execute_result",
          "data": {
            "text/plain": [
              "{'name': 'deep'}"
            ]
          },
          "metadata": {},
          "execution_count": 81
        }
      ]
    },
    {
      "cell_type": "code",
      "source": [
        "s1.test()"
      ],
      "metadata": {
        "colab": {
          "base_uri": "https://localhost:8080/"
        },
        "id": "WZRpvEKnq9Z_",
        "outputId": "419481bd-ac49-408d-f272-0af84bb65518"
      },
      "execution_count": null,
      "outputs": [
        {
          "output_type": "stream",
          "name": "stdout",
          "text": [
            "25\n",
            "90\n"
          ]
        }
      ]
    },
    {
      "cell_type": "code",
      "source": [
        "s1.__dict__"
      ],
      "metadata": {
        "colab": {
          "base_uri": "https://localhost:8080/"
        },
        "id": "I0V7riUjrARe",
        "outputId": "2633daf6-d50c-4fb2-c006-f4b2cba66fb0"
      },
      "execution_count": null,
      "outputs": [
        {
          "output_type": "execute_result",
          "data": {
            "text/plain": [
              "{'name': 'Mohit'}"
            ]
          },
          "metadata": {},
          "execution_count": 84
        }
      ]
    },
    {
      "cell_type": "code",
      "source": [
        "s1.totalsu=101"
      ],
      "metadata": {
        "id": "CzHH3rGHq02C"
      },
      "execution_count": null,
      "outputs": []
    },
    {
      "cell_type": "code",
      "source": [
        "s1.__dict__"
      ],
      "metadata": {
        "id": "EH-DWuX0rUjd",
        "outputId": "16523530-72d0-42a4-896b-e1bfa44933cb",
        "colab": {
          "base_uri": "https://localhost:8080/"
        }
      },
      "execution_count": null,
      "outputs": [
        {
          "output_type": "execute_result",
          "data": {
            "text/plain": [
              "{'name': 'Mohit', 'totalsu': 101}"
            ]
          },
          "metadata": {},
          "execution_count": 86
        }
      ]
    },
    {
      "cell_type": "markdown",
      "source": [
        "**constructor**\n",
        "\n",
        "constructor is automatically created once the object is created\n"
      ],
      "metadata": {
        "id": "wHKtp8VCJ75a"
      }
    },
    {
      "cell_type": "code",
      "source": [
        "class student:\n",
        "  #class attribute\n",
        "  totalstu=20\n",
        "  classteacher=\"probjobt\"\n",
        "\n",
        "  #constructor (constructor is automatically created when an object is created) no constructor overloading is possible in python\n",
        "  def __init__(self):\n",
        "    print(\"Constructor is called\")\n",
        "    pass\n",
        "\n",
        "  #instance method\n",
        "\n",
        "  def printt(self,str):\n",
        "    print(str)\n",
        "\n",
        "s1=student()\n",
        "s2=student()\n"
      ],
      "metadata": {
        "colab": {
          "base_uri": "https://localhost:8080/"
        },
        "id": "7wUcMPHyKUtK",
        "outputId": "4781c318-4f8c-4602-f71b-c2f7b0d71d2e"
      },
      "execution_count": null,
      "outputs": [
        {
          "output_type": "stream",
          "name": "stdout",
          "text": [
            "Constructor is called\n",
            "Constructor is called\n"
          ]
        }
      ]
    },
    {
      "cell_type": "code",
      "source": [
        "s1.printt(\"hello\")"
      ],
      "metadata": {
        "colab": {
          "base_uri": "https://localhost:8080/"
        },
        "id": "f6SvEyR-LP95",
        "outputId": "46a77de0-158d-4fd9-a46b-b0e367cc5403"
      },
      "execution_count": null,
      "outputs": [
        {
          "output_type": "stream",
          "name": "stdout",
          "text": [
            "hello\n"
          ]
        }
      ]
    },
    {
      "cell_type": "code",
      "source": [
        "class student:\n",
        "  #class attribute\n",
        "  totalstu=20\n",
        "  classteacher=\"probjobt\"\n",
        "\n",
        "  #constructor (constructor is automatically created when an object is created) no constructor overloading is possible in python\n",
        "  def __init__(self):\n",
        "    self.name=\"maya\"\n",
        "    self.age=20\n",
        "    self.roll=101\n",
        "    pass\n",
        "\n",
        "  #instance method\n",
        "\n",
        "  def printt(self,str):\n",
        "    print(str)\n",
        "\n",
        "s1=student()\n",
        "s2=student()\n",
        "s3=student()\n",
        "\n",
        "#all the objects with same value\n",
        "\n",
        "print(s1.__dict__) #to find the attribute associated with the object\n",
        "\n",
        "print(s2.__dict__)\n",
        "\n",
        "print(s2.__dict__)\n",
        "\n",
        "\n"
      ],
      "metadata": {
        "colab": {
          "base_uri": "https://localhost:8080/"
        },
        "id": "aPdt_g_4Lcac",
        "outputId": "e7f12d98-d02d-4329-fe3a-bfb0b95493f1"
      },
      "execution_count": null,
      "outputs": [
        {
          "output_type": "stream",
          "name": "stdout",
          "text": [
            "{'name': 'maya', 'age': 20, 'roll': 101}\n",
            "{'name': 'maya', 'age': 20, 'roll': 101}\n",
            "{'name': 'maya', 'age': 20, 'roll': 101}\n"
          ]
        }
      ]
    },
    {
      "cell_type": "code",
      "source": [
        "class student:\n",
        "  #class attribute\n",
        "  totalstu=20\n",
        "  classteacher=\"probjobt\"\n",
        "\n",
        "  #constructor (constructor is automatically created when an object is created) no constructor overloading is possible in python\n",
        "  def __init__(self,name,age,roll):\n",
        "    self.name=name\n",
        "    self.age=age\n",
        "    self.roll=roll\n",
        "    pass\n",
        "\n",
        "  #instance method\n",
        "\n",
        "  def printt(self,str):\n",
        "    print(str)\n",
        "\n",
        "#each  the objects with different value passed as argument\n",
        "s1=student(\"maya\",20,101)\n",
        "s2=student(\"maya\",25,102)\n",
        "s3=student(\"maya\",20,105)\n",
        "\n",
        "\n",
        "\n",
        "print(s1.__dict__) #to find the attribute associated with the object\n",
        "\n",
        "print(s2.__dict__)\n",
        "\n",
        "print(s2.__dict__)\n",
        "\n",
        "\n"
      ],
      "metadata": {
        "colab": {
          "base_uri": "https://localhost:8080/"
        },
        "id": "6QDzTuzlMGzm",
        "outputId": "c0fb23a4-165a-4863-fc6f-a8c1623d9730"
      },
      "execution_count": null,
      "outputs": [
        {
          "output_type": "stream",
          "name": "stdout",
          "text": [
            "{'name': 'maya', 'age': 20, 'roll': 101}\n",
            "{'name': 'maya', 'age': 25, 'roll': 102}\n",
            "{'name': 'maya', 'age': 25, 'roll': 102}\n"
          ]
        }
      ]
    },
    {
      "cell_type": "code",
      "source": [
        "#changing name of s1\n",
        "s1.name=\"probjobt\"\n",
        "print(s1.__dict__)"
      ],
      "metadata": {
        "colab": {
          "base_uri": "https://localhost:8080/"
        },
        "id": "HUZDC25AM1gd",
        "outputId": "110cd821-c894-4e37-9ba3-45810144fb1a"
      },
      "execution_count": null,
      "outputs": [
        {
          "output_type": "stream",
          "name": "stdout",
          "text": [
            "{'name': 'probjobt', 'age': 20, 'roll': 101}\n"
          ]
        }
      ]
    },
    {
      "cell_type": "markdown",
      "source": [
        "**ACCESS SPECIFIER**\n",
        "PUBLIC-CAN BE VISIBLE ANYWHERE INSIDE AND OUTSIDE OF CLASS AND PACKAGE\n",
        "PRIVATE- BOUND TO SPECIFIC CLASS WHERE IT IS DEFINED\n",
        "PROTECTED-"
      ],
      "metadata": {
        "id": "bUXgfy6sNNAM"
      }
    },
    {
      "cell_type": "markdown",
      "source": [
        "PRIVATE "
      ],
      "metadata": {
        "id": "u1j0y_DrOOWO"
      }
    },
    {
      "cell_type": "code",
      "source": [
        "class student:\n",
        "  totalstu=20\n",
        "  classteacher=\"maya\"\n",
        "\n",
        "  def __init__(self,name,age,roll):\n",
        "    self.__name=name #private attribute\n",
        "    self.age=age  #public attribute\n",
        "    self.roll=roll  #public attribute\n",
        "\n",
        "    def printt(self,str):\n",
        "      print(str)\n",
        "\n",
        "    def printt(self):\n",
        "      print(self.name)\n",
        "  \n",
        "    def printt(self,name):\n",
        "      print(self.name)\n",
        "\n",
        "    def test(self):\n",
        "      student.totalstu=25\n",
        "      print(student.totalstu)\n",
        "\n",
        "s1=student(\"maya\",20,101)\n",
        "s2=student(\"maya\",25,102)\n",
        "s3=student(\"maya\",20,105)\n",
        "\n",
        "\n",
        "\n",
        "\n",
        "    \n"
      ],
      "metadata": {
        "id": "nILCi4kJOQaD"
      },
      "execution_count": null,
      "outputs": []
    },
    {
      "cell_type": "code",
      "source": [
        "s1.age"
      ],
      "metadata": {
        "colab": {
          "base_uri": "https://localhost:8080/"
        },
        "id": "4N_q3d0fQD-5",
        "outputId": "1e684ecf-b0de-4cfa-d7db-f454142b1930"
      },
      "execution_count": null,
      "outputs": [
        {
          "output_type": "execute_result",
          "data": {
            "text/plain": [
              "20"
            ]
          },
          "metadata": {},
          "execution_count": 12
        }
      ]
    },
    {
      "cell_type": "code",
      "source": [
        "s1.roll"
      ],
      "metadata": {
        "colab": {
          "base_uri": "https://localhost:8080/"
        },
        "id": "-hx43jz0QGUX",
        "outputId": "bd7a6ac7-5fb0-4d5e-c040-5262e438c4f7"
      },
      "execution_count": null,
      "outputs": [
        {
          "output_type": "execute_result",
          "data": {
            "text/plain": [
              "101"
            ]
          },
          "metadata": {},
          "execution_count": 13
        }
      ]
    },
    {
      "cell_type": "code",
      "source": [
        "s1.name #here name is not accessible as it was declared private"
      ],
      "metadata": {
        "colab": {
          "base_uri": "https://localhost:8080/",
          "height": 165
        },
        "id": "Z-zRj70NQGb4",
        "outputId": "fb180fc1-a6ef-4ff8-fcad-7cebe17e3942"
      },
      "execution_count": null,
      "outputs": [
        {
          "output_type": "error",
          "ename": "AttributeError",
          "evalue": "ignored",
          "traceback": [
            "\u001b[0;31m---------------------------------------------------------------------------\u001b[0m",
            "\u001b[0;31mAttributeError\u001b[0m                            Traceback (most recent call last)",
            "\u001b[0;32m<ipython-input-14-bfa1764dcbdc>\u001b[0m in \u001b[0;36m<module>\u001b[0;34m()\u001b[0m\n\u001b[0;32m----> 1\u001b[0;31m \u001b[0ms1\u001b[0m\u001b[0;34m.\u001b[0m\u001b[0mname\u001b[0m\u001b[0;34m\u001b[0m\u001b[0;34m\u001b[0m\u001b[0m\n\u001b[0m",
            "\u001b[0;31mAttributeError\u001b[0m: 'student' object has no attribute 'name'"
          ]
        }
      ]
    },
    {
      "cell_type": "code",
      "source": [
        "#creating a new public method to access the name\n",
        "class student:\n",
        "  totalstu=20\n",
        "  classteacher=\"maya\"\n",
        "\n",
        "  def __init__(self,name,age,roll):\n",
        "    self.__name=name #private attribute\n",
        "    self.age=age  #public attribute\n",
        "    self.roll=roll  #public attribute\n",
        "\n",
        "    def printt(self,str):\n",
        "      print(str)\n",
        "\n",
        "    def printt(self):\n",
        "      print(self.name)\n",
        "  \n",
        "    def printt(self,name):\n",
        "      print(self.name)\n",
        "\n",
        "  #public user defined method to access private attribute name\n",
        "  def getName(self):\n",
        "    return self.__name\n",
        "\n",
        "    def test(self):\n",
        "      student.totalstu=25\n",
        "      print(student.totalstu)\n",
        "\n",
        "s1=student(\"maya\",20,101)\n",
        "s2=student(\"john\",25,102)\n",
        "s3=student(\"ram\",20,105)\n",
        "\n",
        "\n",
        "\n",
        "\n",
        "    \n"
      ],
      "metadata": {
        "id": "GPl6ky62QZmg"
      },
      "execution_count": null,
      "outputs": []
    },
    {
      "cell_type": "code",
      "source": [
        "print(s1.getName())"
      ],
      "metadata": {
        "colab": {
          "base_uri": "https://localhost:8080/"
        },
        "id": "AVZ7cIq_RBFm",
        "outputId": "3acf380e-35b8-4d14-953d-b86dbb03c12b"
      },
      "execution_count": null,
      "outputs": [
        {
          "output_type": "stream",
          "name": "stdout",
          "text": [
            "maya\n"
          ]
        }
      ]
    },
    {
      "cell_type": "code",
      "source": [
        "s2.age"
      ],
      "metadata": {
        "colab": {
          "base_uri": "https://localhost:8080/"
        },
        "id": "P74xuyqkVPE5",
        "outputId": "1beee1d2-602a-41be-b80a-eeaef7b198c8"
      },
      "execution_count": null,
      "outputs": [
        {
          "output_type": "execute_result",
          "data": {
            "text/plain": [
              "25"
            ]
          },
          "metadata": {},
          "execution_count": 20
        }
      ]
    },
    {
      "cell_type": "code",
      "source": [
        "s2.getName()"
      ],
      "metadata": {
        "colab": {
          "base_uri": "https://localhost:8080/",
          "height": 35
        },
        "id": "00FQsnLmVUvE",
        "outputId": "c604f8aa-ed1c-4c1b-b637-4128c52464b1"
      },
      "execution_count": null,
      "outputs": [
        {
          "output_type": "execute_result",
          "data": {
            "text/plain": [
              "'john'"
            ],
            "application/vnd.google.colaboratory.intrinsic+json": {
              "type": "string"
            }
          },
          "metadata": {},
          "execution_count": 23
        }
      ]
    },
    {
      "cell_type": "markdown",
      "source": [
        "**inheritance**\n",
        "super keyword"
      ],
      "metadata": {
        "id": "TuZ4n6cCWgyZ"
      }
    },
    {
      "cell_type": "code",
      "source": [
        "class Person:\n",
        "  def __init__(self,fname,lname):\n",
        "    self.fname=fname\n",
        "    self.lname=lname\n",
        "\n",
        "  def printnmae(self):\n",
        "    print(self.fname)\n",
        "    print(self.lname)\n",
        "\n",
        "#child class\n",
        "\n",
        "class Student(Person):\n",
        "  def __init__(self, fname, lname,year):\n",
        "      super().__init__(fname, lname) #using superkeyword to inherit the values from parent class using super keyword\n",
        "      self.graduationyear=year\n",
        "\n",
        "  def welcome(self):\n",
        "    print(f\"welcome {self.fname} {self.lname} to the class of {self.graduationyear}\")\n",
        "\n",
        "x=Student(\"vinay\",\"kumar\",2019)\n",
        "x.welcome()\n",
        "\n",
        "y=Student(\"maya\",\"gupta\",\"2020\")\n",
        "y.welcome()"
      ],
      "metadata": {
        "colab": {
          "base_uri": "https://localhost:8080/"
        },
        "id": "62vnK-HbWpAp",
        "outputId": "1cbbe570-8b32-4a19-e20a-024b9494086e"
      },
      "execution_count": null,
      "outputs": [
        {
          "output_type": "stream",
          "name": "stdout",
          "text": [
            "welcome vinay kumar to the class of 2019\n",
            "welcome maya gupta to the class of 2020\n"
          ]
        }
      ]
    },
    {
      "cell_type": "code",
      "source": [
        "x.printnmae()"
      ],
      "metadata": {
        "colab": {
          "base_uri": "https://localhost:8080/"
        },
        "id": "Epv80rZCZXI4",
        "outputId": "e4a09319-0754-4928-eb6e-caa4197e6cce"
      },
      "execution_count": null,
      "outputs": [
        {
          "output_type": "stream",
          "name": "stdout",
          "text": [
            "vinay\n",
            "kumar\n"
          ]
        }
      ]
    },
    {
      "cell_type": "code",
      "source": [
        "y.printnmae()"
      ],
      "metadata": {
        "colab": {
          "base_uri": "https://localhost:8080/"
        },
        "id": "aU-gaMw5ZdCt",
        "outputId": "719786af-ee1f-4e0a-c7ef-423f9652e6ea"
      },
      "execution_count": null,
      "outputs": [
        {
          "output_type": "stream",
          "name": "stdout",
          "text": [
            "maya\n",
            "gupta\n"
          ]
        }
      ]
    },
    {
      "cell_type": "markdown",
      "source": [
        "NumPy-Numerical python\n",
        "SciPy\n",
        "Mathplotlib\n",
        "Pandas\n",
        "Scikit Learn\n",
        "\n",
        "classification\n",
        "regreesion\n",
        "corelation"
      ],
      "metadata": {
        "id": "0Go-Qt35aQjx"
      }
    },
    {
      "cell_type": "markdown",
      "source": [
        "**NumPy**"
      ],
      "metadata": {
        "id": "RR_ZaUCQbSCL"
      }
    },
    {
      "cell_type": "code",
      "source": [],
      "metadata": {
        "id": "2DLZPaWamxO3"
      },
      "execution_count": null,
      "outputs": []
    },
    {
      "cell_type": "code",
      "source": [],
      "metadata": {
        "id": "JCVe-upZbZPC"
      },
      "execution_count": null,
      "outputs": []
    }
  ]
}